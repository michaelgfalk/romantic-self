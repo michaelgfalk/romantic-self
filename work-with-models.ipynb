{
 "cells": [
  {
   "cell_type": "markdown",
   "metadata": {},
   "source": [
    "# First look at first model"
   ]
  },
  {
   "cell_type": "code",
   "execution_count": null,
   "metadata": {},
   "outputs": [],
   "source": [
    "from gensim.models import FastText"
   ]
  },
  {
   "cell_type": "code",
   "execution_count": null,
   "metadata": {},
   "outputs": [],
   "source": [
    "# The load() method must be called on the FastText class, rather than on an instance\n",
    "model = FastText.load('models/last-15-years-25-epochs.ftmodel')"
   ]
  },
  {
   "cell_type": "code",
   "execution_count": null,
   "metadata": {},
   "outputs": [],
   "source": [
    "sims = model.wv.most_similar(positive=['romantic'], topn=50)\n",
    "i = 0\n",
    "for sim in sims:\n",
    "    i += 1\n",
    "    print(f'{i}. {sim[0]}, dist = {sim[1]}')"
   ]
  },
  {
   "cell_type": "code",
   "execution_count": null,
   "metadata": {},
   "outputs": [],
   "source": [
    "sims = model.wv.most_similar(positive=['self','control'], topn=50)\n",
    "i = 0\n",
    "for sim in sims:\n",
    "    i += 1\n",
    "    print(f'{i}. {sim[0]}, dist = {sim[1]}')"
   ]
  },
  {
   "cell_type": "code",
   "execution_count": null,
   "metadata": {},
   "outputs": [],
   "source": [
    "from nltk.tokenize import wordpunct_tokenize\n",
    "wordpunct_tokenize('self-development')"
   ]
  },
  {
   "cell_type": "markdown",
   "metadata": {},
   "source": [
    "# Hmmm...\n",
    "\n",
    "It doesn't seem to be throwing up anything much interesting. We could try comparing two corpora, one where 'romanticism' is a key term, and one where it isn't..."
   ]
  },
  {
   "cell_type": "code",
   "execution_count": null,
   "metadata": {},
   "outputs": [],
   "source": [
    "from gensim.corpora import Dictionary\n",
    "from gensim.models import TfidfModel\n",
    "from utils import JSTORCorpus"
   ]
  },
  {
   "cell_type": "code",
   "execution_count": null,
   "metadata": {},
   "outputs": [],
   "source": [
    "corpus = JSTORCorpus(data_dir='data/ocr', meta_dir='data/metadata')"
   ]
  },
  {
   "cell_type": "code",
   "execution_count": null,
   "metadata": {},
   "outputs": [],
   "source": [
    "idx_doc = {}\n",
    "i = 0\n",
    "for doc in corpus.corpus_meta:\n",
    "    idx_doc[i] = doc\n",
    "doc_idx = {val:key for key,val in idx_doc.items()}"
   ]
  },
  {
   "cell_type": "code",
   "execution_count": null,
   "metadata": {},
   "outputs": [],
   "source": [
    "dct = Dictionary(corpus.iter_lower)\n",
    "dct.save('models/tfidf-lower-dct')"
   ]
  },
  {
   "cell_type": "code",
   "execution_count": null,
   "metadata": {},
   "outputs": [],
   "source": [
    "bow_corpus = (dct.doc2bow(text) for text in corpus.iter_lower) # Single-use generator\n",
    "model = TfidfModel(bow_corpus)\n",
    "model.save('models/tfidf-lower-model')"
   ]
  },
  {
   "cell_type": "code",
   "execution_count": null,
   "metadata": {},
   "outputs": [],
   "source": [
    "dct.token2id['Enlightenment']"
   ]
  },
  {
   "cell_type": "code",
   "execution_count": null,
   "metadata": {},
   "outputs": [],
   "source": [
    "'FOO'.lower()"
   ]
  },
  {
   "cell_type": "markdown",
   "metadata": {},
   "source": [
    "## Have a look at topic model"
   ]
  },
  {
   "cell_type": "code",
   "execution_count": 2,
   "metadata": {},
   "outputs": [],
   "source": [
    "from gensim.models import LdaModel\n",
    "model = LdaModel.load('models/corpus-lower-lda')"
   ]
  },
  {
   "cell_type": "code",
   "execution_count": 3,
   "metadata": {},
   "outputs": [],
   "source": [
    "from gensim.corpora import Dictionary\n",
    "corp_dict = Dictionary.load('models/corpus-lower-dct')"
   ]
  },
  {
   "cell_type": "code",
   "execution_count": 4,
   "metadata": {},
   "outputs": [
    {
     "name": "stdout",
     "output_type": "stream",
     "text": [
      "Corpus loaded from data/whole-corpus.p\n"
     ]
    }
   ],
   "source": [
    "from utils import JSTORCorpus\n",
    "corpus = JSTORCorpus.load('data/whole-corpus.p')"
   ]
  },
  {
   "cell_type": "code",
   "execution_count": 46,
   "metadata": {},
   "outputs": [],
   "source": [
    "def get_word_topics(model, dct, word, min_prob=0.001):\n",
    "    idx = dct.token2id[word]\n",
    "    return model.get_term_topics(idx, minimum_probability=min_prob)"
   ]
  },
  {
   "cell_type": "code",
   "execution_count": 47,
   "metadata": {},
   "outputs": [
    {
     "name": "stdout",
     "output_type": "stream",
     "text": [
      "[(4, 0.0010069308), (17, 0.0010391251), (21, 0.0014041486), (25, 0.0016450812), (28, 0.0023311207), (30, 0.0017865637), (48, 0.0014180879), (52, 0.0037318799), (63, 0.0030525278), (67, 0.029673528), (101, 0.0014650323), (118, 0.0056282943), (134, 0.002270054), (147, 0.00525864)]\n"
     ]
    }
   ],
   "source": [
    "rom_tpx = get_word_topics(model, corp_dict, 'self')\n",
    "print(rom_tpx)"
   ]
  },
  {
   "cell_type": "code",
   "execution_count": 7,
   "metadata": {},
   "outputs": [],
   "source": [
    "id2token = {idx:token for token,idx in corp_dict.token2id.items()}"
   ]
  },
  {
   "cell_type": "code",
   "execution_count": 49,
   "metadata": {},
   "outputs": [
    {
     "data": {
      "text/plain": [
       "[(',', 0.11318597),\n",
       " ('.', 0.07170001),\n",
       " ('man', 0.012612466),\n",
       " ('world', 0.012299876),\n",
       " ('nature', 0.010386563),\n",
       " ('human', 0.009175223),\n",
       " ('p', 0.008870589),\n",
       " ('life', 0.008419744),\n",
       " ('thought', 0.0059845215),\n",
       " ('one', 0.0056345034),\n",
       " ('philosophy', 0.005592574),\n",
       " (';', 0.005579338),\n",
       " ('self', 0.005257316),\n",
       " ('mind', 0.005059469),\n",
       " ('truth', 0.0046069096),\n",
       " ('must', 0.0042758794),\n",
       " ('reality', 0.004164495),\n",
       " ('idea', 0.0037454562),\n",
       " ('ideas', 0.0037338466),\n",
       " ('-', 0.0034659472),\n",
       " ('reason', 0.0034314634),\n",
       " ('(', 0.0033529557),\n",
       " ('spirit', 0.0033460583),\n",
       " ('new', 0.0032227344),\n",
       " ('individual', 0.0031694076),\n",
       " ('things', 0.0031117226),\n",
       " ('time', 0.0030565516),\n",
       " ('knowledge', 0.003028696),\n",
       " ('god', 0.0028574807),\n",
       " ('moral', 0.0028538518),\n",
       " ('consciousness', 0.0028404212),\n",
       " ('soul', 0.0027736663),\n",
       " ('natural', 0.0026886442),\n",
       " ('existence', 0.0026755948),\n",
       " ('view', 0.0026393402),\n",
       " ('philosophical', 0.0026009579),\n",
       " ('us', 0.0025245624),\n",
       " ('spiritual', 0.0024910187),\n",
       " ('men', 0.0024868092),\n",
       " ('),', 0.0024588157),\n",
       " ('ideal', 0.0024013205),\n",
       " ('true', 0.0023411396),\n",
       " ('order', 0.002333008),\n",
       " ('universe', 0.0023269206),\n",
       " ('unity', 0.0022803182),\n",
       " ('thus', 0.0022670722),\n",
       " ('experience', 0.0022579844),\n",
       " ('sense', 0.0022567643),\n",
       " ('freedom', 0.0022223983),\n",
       " ('upon', 0.0020901489),\n",
       " ('intellectual', 0.002083819),\n",
       " ('power', 0.002054548),\n",
       " ('whole', 0.0020454146),\n",
       " ('rousseau', 0.0019806235),\n",
       " ('great', 0.001932309),\n",
       " ('says', 0.0019042899),\n",
       " ('modern', 0.0018709775),\n",
       " ('first', 0.0018500822),\n",
       " ('without', 0.0018372227),\n",
       " ('principle', 0.0017677688),\n",
       " ('would', 0.0017161602),\n",
       " ('universal', 0.0017037515),\n",
       " ('could', 0.0016953803),\n",
       " (')', 0.0016838212),\n",
       " (':', 0.0016701504),\n",
       " ('absolute', 0.0016570361),\n",
       " ('state', 0.0016489889),\n",
       " ('see', 0.0016137643),\n",
       " ('conception', 0.0016094722),\n",
       " ('romantic', 0.0016010483),\n",
       " ('cannot', 0.0015759186),\n",
       " ('inner', 0.0015666127),\n",
       " ('vision', 0.0015656),\n",
       " ('therefore', 0.001538137),\n",
       " ('nothing', 0.0015355997),\n",
       " ('creation', 0.0015265915),\n",
       " ('faith', 0.0015217568),\n",
       " ('creative', 0.0015197913),\n",
       " ('pp', 0.0015129645),\n",
       " ('means', 0.0014942345),\n",
       " ('imagination', 0.0014892987),\n",
       " ('belief', 0.0014809244),\n",
       " ('light', 0.0014518425),\n",
       " ('every', 0.0014359332),\n",
       " ('form', 0.0014177294),\n",
       " ('metaphysical', 0.0014127103),\n",
       " ('real', 0.0013871097),\n",
       " ('found', 0.0013819466),\n",
       " ('two', 0.0013807745),\n",
       " ('way', 0.0013541797),\n",
       " ('theory', 0.0013420874),\n",
       " ('never', 0.0013245522),\n",
       " ('free', 0.0013178183),\n",
       " ('...', 0.0013084639),\n",
       " ('according', 0.0013029145),\n",
       " ('plato', 0.0013013313),\n",
       " ('rational', 0.0013012402),\n",
       " ('essence', 0.0012843692),\n",
       " ('beyond', 0.0012801958),\n",
       " ('ibid', 0.0012702479),\n",
       " ('part', 0.0012700132),\n",
       " ('concept', 0.0012671573),\n",
       " ('eternal', 0.0012663833),\n",
       " ('science', 0.0012650694),\n",
       " ('point', 0.0012571116),\n",
       " ('thinking', 0.0012555172),\n",
       " ('law', 0.0012527296),\n",
       " ('doctrine', 0.0012505945),\n",
       " ('like', 0.0012446434),\n",
       " ('become', 0.0012387603),\n",
       " ('matter', 0.0012370056),\n",
       " ('thing', 0.0012195515),\n",
       " ('.,', 0.0012160509),\n",
       " ('philosopher', 0.0012158),\n",
       " ('understanding', 0.001214356),\n",
       " ('within', 0.0012022392),\n",
       " ('meaning', 0.0011957344),\n",
       " ('divine', 0.0011942172),\n",
       " ('romanticism', 0.0011886229),\n",
       " ('humanity', 0.0011839222),\n",
       " ('fact', 0.00118217),\n",
       " ('society', 0.0011755785),\n",
       " ('however', 0.0011584703),\n",
       " ('also', 0.0011573118),\n",
       " ('system', 0.0011529122),\n",
       " ('nietzsche', 0.0011285149),\n",
       " ('toward', 0.0011251462),\n",
       " ('idealism', 0.0011172486),\n",
       " ('religion', 0.0011127333),\n",
       " ('end', 0.0010912447),\n",
       " ('living', 0.0010865707),\n",
       " ('always', 0.0010818362),\n",
       " ('pure', 0.0010764197),\n",
       " ('good', 0.0010701851),\n",
       " ('age', 0.0010669907),\n",
       " ('expression', 0.0010388508),\n",
       " ('action', 0.0010295439),\n",
       " ('symbol', 0.0010277122),\n",
       " (\"'\", 0.0010266091),\n",
       " ('infinite', 0.0010245179),\n",
       " ('laws', 0.0010235143),\n",
       " ('process', 0.0010017335),\n",
       " ('evil', 0.0009952863),\n",
       " ('called', 0.0009892839),\n",
       " ('progress', 0.0009818455),\n",
       " ('made', 0.0009767533),\n",
       " ('problem', 0.00097356754),\n",
       " ('force', 0.000970459),\n",
       " ('find', 0.0009627787),\n",
       " ('necessary', 0.00096018915)]"
      ]
     },
     "execution_count": 49,
     "metadata": {},
     "output_type": "execute_result"
    }
   ],
   "source": [
    "[(id2token[idx],prob) for idx,prob in model.get_topic_terms(147, topn=150)]"
   ]
  },
  {
   "cell_type": "code",
   "execution_count": 17,
   "metadata": {},
   "outputs": [
    {
     "name": "stdout",
     "output_type": "stream",
     "text": [
      "Help on method get_term_topics in module gensim.models.ldamodel:\n",
      "\n",
      "get_term_topics(word_id, minimum_probability=None) method of gensim.models.ldamodel.LdaModel instance\n",
      "    Get the most relevant topics to the given word.\n",
      "    \n",
      "    Parameters\n",
      "    ----------\n",
      "    word_id : int\n",
      "        The word for which the topic distribution will be computed.\n",
      "    minimum_probability : float, optional\n",
      "        Topics with an assigned probability below this threshold will be discarded.\n",
      "    \n",
      "    Returns\n",
      "    -------\n",
      "    list of (int, float)\n",
      "        The relevant topics represented as pairs of their ID and their assigned probability, sorted\n",
      "        by relevance to the given word.\n",
      "\n"
     ]
    }
   ],
   "source": [
    "help(model.get_term_topics)"
   ]
  },
  {
   "cell_type": "markdown",
   "metadata": {},
   "source": [
    "## What about the tf-idf model"
   ]
  },
  {
   "cell_type": "code",
   "execution_count": 50,
   "metadata": {},
   "outputs": [],
   "source": [
    "from gensim.models import TfidfModel\n",
    "tfidf = TfidfModel.load('models/corpus-lower-tfidf')"
   ]
  },
  {
   "cell_type": "code",
   "execution_count": 51,
   "metadata": {},
   "outputs": [
    {
     "data": {
      "application/vnd.jupyter.widget-view+json": {
       "model_id": "6ab4012db1354bb1aa96be0341f28add",
       "version_major": 2,
       "version_minor": 0
      },
      "text/plain": [
       "HBox(children=(IntProgress(value=0, max=44802), HTML(value='')))"
      ]
     },
     "metadata": {},
     "output_type": "display_data"
    },
    {
     "name": "stdout",
     "output_type": "stream",
     "text": [
      "\n"
     ]
    }
   ],
   "source": [
    "from tqdm.notebook import tqdm\n",
    "# Apply the model to the corpus:\n",
    "bow_corpus = (corp_dict.doc2bow(text) for text in corpus.iter_lower())\n",
    "romantic_scores = []\n",
    "rom_idx = corp_dict.token2id['romantic']\n",
    "for text in tqdm(bow_corpus, total=len(corpus)):\n",
    "    # Get the index of 'romantic' in the text (text is a list of tuples of format (word_idx, freq))\n",
    "    # First extract the relevant tuple:\n",
    "    rom_doc_freq = [idx for idx,(word,freq) in enumerate(text) if word == 261]\n",
    "    # Some documents may not have the word 'romantic', in which case give a score of zero\n",
    "    if len(rom_doc_freq) == 0:\n",
    "        romantic_scores.append(0)\n",
    "    else:\n",
    "        # Otherwise, get the index in this doc's BoW to the word 'romantic'.\n",
    "        rom_doc_idx = rom_doc_freq[0]\n",
    "        # Then use the extracted index to index into the output of the model.\n",
    "        # This returns a tup (word_idx, tfidf_score). Extract the score.\n",
    "        rom_doc_score = tfidf[text][rom_doc_idx][1]\n",
    "        # Append:\n",
    "        romantic_scores.append(rom_doc_score)"
   ]
  },
  {
   "cell_type": "code",
   "execution_count": null,
   "metadata": {},
   "outputs": [],
   "source": [
    "import numpy as np\n",
    "from matplotlib import pyplot as plt\n",
    "%matplotlib inline\n",
    "rom_score_arr = np.array(romantic_scores)\n",
    "plt.hist(rom_score_arr, bins=25)\n",
    "plt.show()"
   ]
  },
  {
   "cell_type": "code",
   "execution_count": null,
   "metadata": {},
   "outputs": [],
   "source": [
    "import pandas as pd\n",
    "df = pd.DataFrame.from_records((val for val in corpus.corpus_meta.values()))\n",
    "df['rom_score'] = rom_score_arr"
   ]
  },
  {
   "cell_type": "code",
   "execution_count": null,
   "metadata": {},
   "outputs": [],
   "source": [
    "np.histogram(rom_score_arr)"
   ]
  },
  {
   "cell_type": "code",
   "execution_count": null,
   "metadata": {},
   "outputs": [],
   "source": [
    "df[(df['rom_score'] < 0.016) & (df['type'] == 'research-article')].sample(30)"
   ]
  },
  {
   "cell_type": "markdown",
   "metadata": {},
   "source": [
    "We can use this tf-idf model to identify a subset of the corpus where the articles *really* talk about Romanticism. It would be better to search for more terms than 'romantic', however, as I notice that many documents at the lower end of the distribution are actually about Romantic authors like Wordsworth, Byron, Blake and so on.\n",
    "\n",
    "Perhaps we could actually analyse the correlation of 'romantic' and its cognates with other words. In an article where 'romantic' is distinctive, what other words are also distinctive?"
   ]
  }
 ],
 "metadata": {
  "kernelspec": {
   "display_name": "Python 3",
   "language": "python",
   "name": "python3"
  },
  "language_info": {
   "codemirror_mode": {
    "name": "ipython",
    "version": 3
   },
   "file_extension": ".py",
   "mimetype": "text/x-python",
   "name": "python",
   "nbconvert_exporter": "python",
   "pygments_lexer": "ipython3",
   "version": "3.6.9"
  }
 },
 "nbformat": 4,
 "nbformat_minor": 2
}
