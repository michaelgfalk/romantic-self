{
 "cells": [
  {
   "attachments": {},
   "cell_type": "markdown",
   "metadata": {},
   "source": [
    "# Chapter 6 – Prose: Moore's Multiform *Byron*\n",
    "\n",
    "The final chapter of *Romanticism and the Contingent Self* is devoted to Thomas Moore's [*Letters and Journals of Lord Byron, with Notices of his Life*](https://www.lordbyron.org/contents.php?doc=ThMoore.1830.Contents) (1830-31), which was recognised in its day as a classic of literary biography. As in previous chapters, the aim is twofold. First, I seek to integrate a genre of 'contingent selfhood' into a general morphology of Romantic literature. Second, I see to establish appropriate aesthetic standards for judging 'formless' works of contingent selfhood. In this case, I focus on only a single case study. Moore's *Byron* is a vast text, and incorporates both 'monstrous' and 'multiple' portrayals of the self. Only a small number of literary biographies are available for comparison, so the analysis uses a smaller corpus."
   ]
  },
  {
   "cell_type": "code",
   "execution_count": 1,
   "metadata": {},
   "outputs": [],
   "source": [
    "from romanticself import BiographyCorpus, Biography\n",
    "from nltk import word_tokenize\n",
    "import pandas as pd\n",
    "import numpy as np\n",
    "import seaborn as sns\n",
    "from matplotlib import pyplot as plt\n",
    "from seaborn import objects as so\n",
    "corpus = BiographyCorpus(\"data/biography-corpus/\", tokenizer = word_tokenize)\n",
    "moore = corpus.moore\n",
    "\n",
    "sns.set_theme(style=\"darkgrid\", palette=\"gray\")"
   ]
  },
  {
   "attachments": {},
   "cell_type": "markdown",
   "metadata": {},
   "source": [
    "# Section 6.2 Plot: Ordered and Disordered lives"
   ]
  },
  {
   "attachments": {},
   "cell_type": "markdown",
   "metadata": {},
   "source": [
    "What is the shape of the corpus? The texts in the corpus differ in a number of ways. Some are 'lives and letters' biographies that mix primary sources with the biographer's text. Others are more straightforward novelistic biographies. They vary greatly in length, and crucially also in sentence length. The sentence length is important, because it could affect the sentiment analysis. However, the variation appears to be fairly minimal: only Elizabeth Gaskell and Medwin write sentences that are more than 2-3 words longer or shorter than Moore's."
   ]
  },
  {
   "cell_type": "code",
   "execution_count": 2,
   "metadata": {},
   "outputs": [
    {
     "data": {
      "text/html": [
       "<div>\n",
       "<style scoped>\n",
       "    .dataframe tbody tr th:only-of-type {\n",
       "        vertical-align: middle;\n",
       "    }\n",
       "\n",
       "    .dataframe tbody tr th {\n",
       "        vertical-align: top;\n",
       "    }\n",
       "\n",
       "    .dataframe thead th {\n",
       "        text-align: right;\n",
       "    }\n",
       "</style>\n",
       "<table border=\"1\" class=\"dataframe\">\n",
       "  <thead>\n",
       "    <tr style=\"text-align: right;\">\n",
       "      <th></th>\n",
       "      <th>Author</th>\n",
       "      <th>Date</th>\n",
       "      <th>Title</th>\n",
       "      <th>Author words</th>\n",
       "      <th>Subject words</th>\n",
       "      <th>Other words</th>\n",
       "      <th>All words</th>\n",
       "      <th>Mean sentence length</th>\n",
       "    </tr>\n",
       "  </thead>\n",
       "  <tbody>\n",
       "    <tr>\n",
       "      <th>0</th>\n",
       "      <td>John Gibson Lockhart</td>\n",
       "      <td>1837</td>\n",
       "      <td>Memoirs of the Life of Sir Walter Scott, Bart.</td>\n",
       "      <td>466072</td>\n",
       "      <td>533282</td>\n",
       "      <td>0</td>\n",
       "      <td>999354</td>\n",
       "      <td>35.088445</td>\n",
       "    </tr>\n",
       "    <tr>\n",
       "      <th>1</th>\n",
       "      <td>Thomas Moore</td>\n",
       "      <td>1830</td>\n",
       "      <td>Letters and Journals of Lord Byron</td>\n",
       "      <td>260671</td>\n",
       "      <td>368442</td>\n",
       "      <td>7496</td>\n",
       "      <td>636609</td>\n",
       "      <td>33.342586</td>\n",
       "    </tr>\n",
       "    <tr>\n",
       "      <th>2</th>\n",
       "      <td>Elizabeth Gaskell</td>\n",
       "      <td>1857</td>\n",
       "      <td>The Life of Charlotte Brontë</td>\n",
       "      <td>209379</td>\n",
       "      <td>0</td>\n",
       "      <td>0</td>\n",
       "      <td>209379</td>\n",
       "      <td>27.288414</td>\n",
       "    </tr>\n",
       "    <tr>\n",
       "      <th>3</th>\n",
       "      <td>Thomas Medwin</td>\n",
       "      <td>1847</td>\n",
       "      <td>The Life of Percy Bysshe Shelley</td>\n",
       "      <td>140419</td>\n",
       "      <td>2600</td>\n",
       "      <td>1291</td>\n",
       "      <td>144310</td>\n",
       "      <td>38.167152</td>\n",
       "    </tr>\n",
       "    <tr>\n",
       "      <th>4</th>\n",
       "      <td>John Galt</td>\n",
       "      <td>1830</td>\n",
       "      <td>The Life of Lord Byron</td>\n",
       "      <td>103888</td>\n",
       "      <td>782</td>\n",
       "      <td>10072</td>\n",
       "      <td>114742</td>\n",
       "      <td>36.989684</td>\n",
       "    </tr>\n",
       "    <tr>\n",
       "      <th>5</th>\n",
       "      <td>Robert Southey</td>\n",
       "      <td>1813</td>\n",
       "      <td>The Life of Nelson</td>\n",
       "      <td>112030</td>\n",
       "      <td>0</td>\n",
       "      <td>0</td>\n",
       "      <td>112030</td>\n",
       "      <td>33.164594</td>\n",
       "    </tr>\n",
       "  </tbody>\n",
       "</table>\n",
       "</div>"
      ],
      "text/plain": [
       "                 Author  Date                                           Title  \\\n",
       "0  John Gibson Lockhart  1837  Memoirs of the Life of Sir Walter Scott, Bart.   \n",
       "1          Thomas Moore  1830              Letters and Journals of Lord Byron   \n",
       "2     Elizabeth Gaskell  1857                    The Life of Charlotte Brontë   \n",
       "3         Thomas Medwin  1847                The Life of Percy Bysshe Shelley   \n",
       "4             John Galt  1830                          The Life of Lord Byron   \n",
       "5        Robert Southey  1813                              The Life of Nelson   \n",
       "\n",
       "   Author words  Subject words  Other words  All words  Mean sentence length  \n",
       "0        466072         533282            0     999354             35.088445  \n",
       "1        260671         368442         7496     636609             33.342586  \n",
       "2        209379              0            0     209379             27.288414  \n",
       "3        140419           2600         1291     144310             38.167152  \n",
       "4        103888            782        10072     114742             36.989684  \n",
       "5        112030              0            0     112030             33.164594  "
      ]
     },
     "metadata": {},
     "output_type": "display_data"
    }
   ],
   "source": [
    "def biography_stats(bio: Biography) -> dict:\n",
    "    return {\n",
    "        \"Author\": bio.author,\n",
    "        \"Date\": bio.date,\n",
    "        \"Title\": bio.title,\n",
    "        \"Author words\": len([token for token in bio.iter_tokens(allowed_authors=bio.author_id)]),\n",
    "        \"Subject words\": len([token for token in bio.iter_tokens(allowed_authors={bio.subject})]) if bio.extension == \".xml\" else 0,\n",
    "        \"Other words\": len([token for token in bio.iter_tokens(allowed_authors=bio.all_authors - {bio.author_id} - {bio.subject})]) if bio.extension == \".xml\" else 0,\n",
    "        \"All words\": len([token for token in bio.iter_tokens(allowed_authors = None)]),\n",
    "        \"Mean sentence length\": np.mean([len(word_tokenize(sent.text)) for sent in bio.sentences])\n",
    "    }\n",
    "\n",
    "table_6_1 = pd.DataFrame.from_records([biography_stats(bio) for bio in corpus]).sort_values(\"All words\", ascending=False, ignore_index=True)\n",
    "table_6_1.to_excel(\"figures/table_6_1.xlsx\")\n",
    "display(table_6_1)"
   ]
  },
  {
   "attachments": {},
   "cell_type": "markdown",
   "metadata": {},
   "source": [
    "Who wrote the 10000 'other' words in Galt's biography?"
   ]
  },
  {
   "cell_type": "code",
   "execution_count": 3,
   "metadata": {},
   "outputs": [
    {
     "data": {
      "text/plain": [
       "Counter({'JoGalt1839': 103888,\n",
       "         'LdBroug1': 1818,\n",
       "         'Unknown': 854,\n",
       "         'LdByron': 782,\n",
       "         'PeShell1822': 474,\n",
       "         'AlMavro1865': 351,\n",
       "         'Stend1842': 6575})"
      ]
     },
     "execution_count": 3,
     "metadata": {},
     "output_type": "execute_result"
    }
   ],
   "source": [
    "corpus.galt.author_breakdown"
   ]
  },
  {
   "attachments": {},
   "cell_type": "markdown",
   "metadata": {},
   "source": [
    "It was easier to perform the sentiment analysis in R. Please see the (supplementary R file)[chapter-6-sentiment-analysis.R] for the code to produce Figures 6.2-6.3."
   ]
  },
  {
   "cell_type": "code",
   "execution_count": 4,
   "metadata": {},
   "outputs": [
    {
     "name": "stdout",
     "output_type": "stream",
     "text": [
      "Writing galt.xml to data/biography-corpus/all-sentences.csv\n",
      "Writing gaskell.txt to data/biography-corpus/all-sentences.csv\n",
      "Writing lockhart.xml to data/biography-corpus/all-sentences.csv\n",
      "Writing medwin.xml to data/biography-corpus/all-sentences.csv\n",
      "Writing moore.xml to data/biography-corpus/all-sentences.csv\n",
      "Writing southey.txt to data/biography-corpus/all-sentences.csv\n"
     ]
    }
   ],
   "source": [
    "# Export all sentences with metadata for use in R\n",
    "corpus.to_csv(\"data/biography-corpus/all-sentences.csv\")"
   ]
  }
 ],
 "metadata": {
  "kernelspec": {
   "display_name": "py11",
   "language": "python",
   "name": "python3"
  },
  "language_info": {
   "codemirror_mode": {
    "name": "ipython",
    "version": 3
   },
   "file_extension": ".py",
   "mimetype": "text/x-python",
   "name": "python",
   "nbconvert_exporter": "python",
   "pygments_lexer": "ipython3",
   "version": "3.11.0"
  },
  "orig_nbformat": 4
 },
 "nbformat": 4,
 "nbformat_minor": 2
}
