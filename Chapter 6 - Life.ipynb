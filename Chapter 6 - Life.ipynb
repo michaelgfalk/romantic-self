{
 "cells": [
  {
   "attachments": {},
   "cell_type": "markdown",
   "metadata": {},
   "source": [
    "# Chapter 6 – Life: Moore's Multiform *Byron*\n",
    "\n",
    "The final chapter of *Romanticism and the Contingent Self* is devoted to Thomas Moore's [*Letters and Journals of Lord Byron, with Notices of his Life*](https://www.lordbyron.org/contents.php?doc=ThMoore.1830.Contents) (1830-31), which was recognised in its day as a classic of literary biography. As in previous chapters, the aim is twofold. First, I seek to integrate a genre of 'contingent selfhood' into a general morphology of Romantic literature. Second, I see to establish appropriate aesthetic standards for judging 'formless' works of contingent selfhood. In this case, I focus on only a single case study. Moore's *Byron* is a vast text, and incorporates both 'monstrous' and 'multiple' portrayals of the self. Only a small number of literary biographies are available for comparison, so the analysis uses a smaller corpus."
   ]
  },
  {
   "cell_type": "code",
   "execution_count": 42,
   "metadata": {},
   "outputs": [],
   "source": [
    "from romanticself import BiographyCorpus, Biography, XMLBiography\n",
    "from nltk import word_tokenize\n",
    "import pandas as pd\n",
    "import numpy as np\n",
    "import rpy2\n",
    "import seaborn as sns\n",
    "corpus = BiographyCorpus(\"data/biography-corpus/\", tokenizer = word_tokenize)\n",
    "moore = corpus.data[\"moore.xml\"]"
   ]
  },
  {
   "attachments": {},
   "cell_type": "markdown",
   "metadata": {},
   "source": [
    "# Section 6.2 Plot: Ordered and Disordered lives\n",
    "\n",
    "In the first section I analyse Moore's prose style."
   ]
  },
  {
   "attachments": {},
   "cell_type": "markdown",
   "metadata": {},
   "source": [
    "What is the average sentence length for each biographer?\n"
   ]
  },
  {
   "cell_type": "code",
   "execution_count": 30,
   "metadata": {},
   "outputs": [
    {
     "data": {
      "text/html": [
       "<div>\n",
       "<style scoped>\n",
       "    .dataframe tbody tr th:only-of-type {\n",
       "        vertical-align: middle;\n",
       "    }\n",
       "\n",
       "    .dataframe tbody tr th {\n",
       "        vertical-align: top;\n",
       "    }\n",
       "\n",
       "    .dataframe thead th {\n",
       "        text-align: right;\n",
       "    }\n",
       "</style>\n",
       "<table border=\"1\" class=\"dataframe\">\n",
       "  <thead>\n",
       "    <tr style=\"text-align: right;\">\n",
       "      <th></th>\n",
       "      <th>Author</th>\n",
       "      <th>Date</th>\n",
       "      <th>Title</th>\n",
       "      <th>Word count</th>\n",
       "      <th>Mean sentence length</th>\n",
       "    </tr>\n",
       "  </thead>\n",
       "  <tbody>\n",
       "    <tr>\n",
       "      <th>0</th>\n",
       "      <td>John Galt</td>\n",
       "      <td>1830</td>\n",
       "      <td>The Life of Lord Byron</td>\n",
       "      <td>114742</td>\n",
       "      <td>36.989684</td>\n",
       "    </tr>\n",
       "    <tr>\n",
       "      <th>1</th>\n",
       "      <td>Elizabeth Gaskell</td>\n",
       "      <td>1857</td>\n",
       "      <td>The Life of Charlotte Brontë</td>\n",
       "      <td>209379</td>\n",
       "      <td>27.288414</td>\n",
       "    </tr>\n",
       "    <tr>\n",
       "      <th>2</th>\n",
       "      <td>John Gibson Lockhart</td>\n",
       "      <td>1837</td>\n",
       "      <td>Memoirs of the Life of Sir Walter Scott, Bart.</td>\n",
       "      <td>999354</td>\n",
       "      <td>35.088445</td>\n",
       "    </tr>\n",
       "    <tr>\n",
       "      <th>3</th>\n",
       "      <td>Thomas Medwin</td>\n",
       "      <td>1847</td>\n",
       "      <td>The Life of Percy Bysshe Shelley</td>\n",
       "      <td>144310</td>\n",
       "      <td>38.167152</td>\n",
       "    </tr>\n",
       "    <tr>\n",
       "      <th>4</th>\n",
       "      <td>Thomas Moore</td>\n",
       "      <td>1830</td>\n",
       "      <td>Letters and Journals of Lord Byron</td>\n",
       "      <td>636609</td>\n",
       "      <td>33.342586</td>\n",
       "    </tr>\n",
       "    <tr>\n",
       "      <th>5</th>\n",
       "      <td>Robert Southey</td>\n",
       "      <td>1813</td>\n",
       "      <td>The Life of Nelson</td>\n",
       "      <td>112030</td>\n",
       "      <td>33.164594</td>\n",
       "    </tr>\n",
       "  </tbody>\n",
       "</table>\n",
       "</div>"
      ],
      "text/plain": [
       "                 Author  Date                                           Title  \\\n",
       "0             John Galt  1830                          The Life of Lord Byron   \n",
       "1     Elizabeth Gaskell  1857                    The Life of Charlotte Brontë   \n",
       "2  John Gibson Lockhart  1837  Memoirs of the Life of Sir Walter Scott, Bart.   \n",
       "3         Thomas Medwin  1847                The Life of Percy Bysshe Shelley   \n",
       "4          Thomas Moore  1830              Letters and Journals of Lord Byron   \n",
       "5        Robert Southey  1813                              The Life of Nelson   \n",
       "\n",
       "   Word count  Mean sentence length  \n",
       "0      114742             36.989684  \n",
       "1      209379             27.288414  \n",
       "2      999354             35.088445  \n",
       "3      144310             38.167152  \n",
       "4      636609             33.342586  \n",
       "5      112030             33.164594  "
      ]
     },
     "execution_count": 30,
     "metadata": {},
     "output_type": "execute_result"
    }
   ],
   "source": [
    "def biography_stats(biography: Biography) -> dict:\n",
    "    return {\n",
    "        \"Author\": biography.author,\n",
    "        \"Date\": biography.date,\n",
    "        \"Title\": biography.title,\n",
    "        \"Word count\": len([token for token in biography.iter_tokens(allowed_authors = None)]),\n",
    "        \"Mean sentence length\": np.mean([len(word_tokenize(sent.text)) for sent in biography.sentences])\n",
    "    }\n",
    "\n",
    "figure_6_1 = pd.DataFrame.from_records([biography_stats(bio) for bio in corpus])\n",
    "figure_6_1.to_csv(\"figures/figure_6_1.csv\")\n",
    "display(figure_6_1)"
   ]
  },
  {
   "attachments": {},
   "cell_type": "markdown",
   "metadata": {},
   "source": [
    "How are the words distributed in the two lives-and-letters biographies?"
   ]
  },
  {
   "cell_type": "code",
   "execution_count": 51,
   "metadata": {},
   "outputs": [
    {
     "data": {
      "text/html": [
       "<div>\n",
       "<style scoped>\n",
       "    .dataframe tbody tr th:only-of-type {\n",
       "        vertical-align: middle;\n",
       "    }\n",
       "\n",
       "    .dataframe tbody tr th {\n",
       "        vertical-align: top;\n",
       "    }\n",
       "\n",
       "    .dataframe thead th {\n",
       "        text-align: right;\n",
       "    }\n",
       "</style>\n",
       "<table border=\"1\" class=\"dataframe\">\n",
       "  <thead>\n",
       "    <tr style=\"text-align: right;\">\n",
       "      <th></th>\n",
       "      <th>Title</th>\n",
       "      <th>Author</th>\n",
       "      <th>Subject</th>\n",
       "      <th>Other</th>\n",
       "    </tr>\n",
       "  </thead>\n",
       "  <tbody>\n",
       "    <tr>\n",
       "      <th>0</th>\n",
       "      <td>Memoirs of the Life of Sir Walter Scott, Bart.</td>\n",
       "      <td>466072</td>\n",
       "      <td>533282</td>\n",
       "      <td>0</td>\n",
       "    </tr>\n",
       "    <tr>\n",
       "      <th>1</th>\n",
       "      <td>Letters and Journals of Lord Byron</td>\n",
       "      <td>260671</td>\n",
       "      <td>368442</td>\n",
       "      <td>7496</td>\n",
       "    </tr>\n",
       "  </tbody>\n",
       "</table>\n",
       "</div>"
      ],
      "text/plain": [
       "                                            Title  Author  Subject  Other\n",
       "0  Memoirs of the Life of Sir Walter Scott, Bart.  466072   533282      0\n",
       "1              Letters and Journals of Lord Byron  260671   368442   7496"
      ]
     },
     "metadata": {},
     "output_type": "display_data"
    }
   ],
   "source": [
    "# The subjects of the two lives-and-letters biographies\n",
    "# NB: Neither appears as author in the other biography\n",
    "subjects = {\"LdByron\", \"WaScott\"}\n",
    "sub_corpus = [val for key,val in corpus.data.items() if key in {\"moore.xml\", \"lockhart.xml\"}]\n",
    "\n",
    "def lives_and_letters_data(bio: Biography):\n",
    "    return {\n",
    "        \"Title\": bio.title,\n",
    "        \"Author\": len([token for token in bio.iter_tokens(allowed_authors=bio.author_id)]),\n",
    "        \"Subject\": len([token for token in bio.iter_tokens(allowed_authors=subjects)]),\n",
    "        \"Other\": len([token for token in bio.iter_tokens(allowed_authors=set(bio.all_authors) - {bio.author_id} - subjects)])\n",
    "    }\n",
    "\n",
    "figure_6_2_data = pd.DataFrame.from_records(lives_and_letters_data(bio) for bio in sub_corpus)\n",
    "display(figure_6_2_data)"
   ]
  },
  {
   "cell_type": "code",
   "execution_count": 60,
   "metadata": {},
   "outputs": [
    {
     "data": {
      "text/html": [
       "<div>\n",
       "<style scoped>\n",
       "    .dataframe tbody tr th:only-of-type {\n",
       "        vertical-align: middle;\n",
       "    }\n",
       "\n",
       "    .dataframe tbody tr th {\n",
       "        vertical-align: top;\n",
       "    }\n",
       "\n",
       "    .dataframe thead th {\n",
       "        text-align: right;\n",
       "    }\n",
       "</style>\n",
       "<table border=\"1\" class=\"dataframe\">\n",
       "  <thead>\n",
       "    <tr style=\"text-align: right;\">\n",
       "      <th></th>\n",
       "      <th>Title</th>\n",
       "      <th>Author</th>\n",
       "      <th>Word count</th>\n",
       "    </tr>\n",
       "  </thead>\n",
       "  <tbody>\n",
       "    <tr>\n",
       "      <th>0</th>\n",
       "      <td>Memoirs of the Life of Sir Walter Scott, Bart.</td>\n",
       "      <td>Author</td>\n",
       "      <td>466072</td>\n",
       "    </tr>\n",
       "    <tr>\n",
       "      <th>1</th>\n",
       "      <td>Letters and Journals of Lord Byron</td>\n",
       "      <td>Author</td>\n",
       "      <td>260671</td>\n",
       "    </tr>\n",
       "    <tr>\n",
       "      <th>2</th>\n",
       "      <td>Memoirs of the Life of Sir Walter Scott, Bart.</td>\n",
       "      <td>Subject</td>\n",
       "      <td>533282</td>\n",
       "    </tr>\n",
       "    <tr>\n",
       "      <th>3</th>\n",
       "      <td>Letters and Journals of Lord Byron</td>\n",
       "      <td>Subject</td>\n",
       "      <td>368442</td>\n",
       "    </tr>\n",
       "    <tr>\n",
       "      <th>4</th>\n",
       "      <td>Memoirs of the Life of Sir Walter Scott, Bart.</td>\n",
       "      <td>Other</td>\n",
       "      <td>0</td>\n",
       "    </tr>\n",
       "    <tr>\n",
       "      <th>5</th>\n",
       "      <td>Letters and Journals of Lord Byron</td>\n",
       "      <td>Other</td>\n",
       "      <td>7496</td>\n",
       "    </tr>\n",
       "  </tbody>\n",
       "</table>\n",
       "</div>"
      ],
      "text/plain": [
       "                                            Title   Author  Word count\n",
       "0  Memoirs of the Life of Sir Walter Scott, Bart.   Author      466072\n",
       "1              Letters and Journals of Lord Byron   Author      260671\n",
       "2  Memoirs of the Life of Sir Walter Scott, Bart.  Subject      533282\n",
       "3              Letters and Journals of Lord Byron  Subject      368442\n",
       "4  Memoirs of the Life of Sir Walter Scott, Bart.    Other           0\n",
       "5              Letters and Journals of Lord Byron    Other        7496"
      ]
     },
     "execution_count": 60,
     "metadata": {},
     "output_type": "execute_result"
    }
   ],
   "source": [
    "pd.melt(figure_6_2_data, id_vars = \"Title\", var_name = \"Author\", value_name=\"Word count\")"
   ]
  }
 ],
 "metadata": {
  "kernelspec": {
   "display_name": "py11",
   "language": "python",
   "name": "python3"
  },
  "language_info": {
   "codemirror_mode": {
    "name": "ipython",
    "version": 3
   },
   "file_extension": ".py",
   "mimetype": "text/x-python",
   "name": "python",
   "nbconvert_exporter": "python",
   "pygments_lexer": "ipython3",
   "version": "3.11.0"
  },
  "orig_nbformat": 4
 },
 "nbformat": 4,
 "nbformat_minor": 2
}
