{
 "cells": [
  {
   "cell_type": "markdown",
   "metadata": {},
   "source": [
    "# Chapter 4: Self-Abnegation in the Sonnets of Clare and Smith\n",
    "\n",
    "In traditional accounts of Romantic literature, lyric poetry is central and is tightly defined in terms of the 'necessary self'. The Romantic lyric is an 'internalized quest romance' or 'upward spiral', in which the poet describes their experience of nature and moves towards a final recognition of their true identity. While this conception of the Romantic lyric has come under attack in recent years, no alternative understanding of the Romantic lyric has arisen to replace it. This is partly due to proponents of the 'New Lyric Studies', who argue that the only available definition of lyric poetry *is* the definition used in traditional scholarship on Romanticism. The only solution, claim the proponents of the New Lyric Studies, is to set aside the desire to define 'lyric poetry' at all.\n",
    "\n",
    "In Chapter 4 of *Romanticism and the Contingent Self*, I consider the sonnets of Charlotte Smith and John Clare, two poets whose poems almost never culminate in a recognition of their true identity. Using the example of their sonnets, I try to show how an alternative understanding of the Romantic lyric is possible, one that makes room for a wider variety of poems in our conceptualisation of the 'lyric', while also allowing us to define what the lyric is with tolerable precision.\n",
    "\n",
    "In this notebook, I generate all the tables and figures for Chapter 4 of the book."
   ]
  },
  {
   "cell_type": "code",
   "execution_count": 69,
   "metadata": {},
   "outputs": [],
   "source": [
    "%matplotlib inline\n",
    "\n",
    "import os\n",
    "from collections import Counter\n",
    "\n",
    "from romanticself import SonnetCorpus\n",
    "from romanticself import import_scheme_map\n",
    "import pandas as pd\n",
    "import seaborn as sns\n",
    "\n",
    "sns.set_theme(palette=\"Greys\")"
   ]
  },
  {
   "cell_type": "code",
   "execution_count": 14,
   "metadata": {},
   "outputs": [
    {
     "name": "stdout",
     "output_type": "stream",
     "text": [
      "Extracting Wordsworth's sonnets from wwComplete.xml...\n",
      "Extracting Smith's sonnets from smithComplete.xml...\n",
      "Extracting Clare's sonnets from clareComplete.xml...\n",
      "SonnetCorpus(Wordsworth: 514 [12], Smith: 93 [1], Clare: 638 [53])\n"
     ]
    }
   ],
   "source": [
    "sonnets = SonnetCorpus(\"data/sonnet-corpus/\")\n",
    "rs_map = import_scheme_map(\"data/sonnet-corpus/schemes.csv\")"
   ]
  },
  {
   "cell_type": "markdown",
   "metadata": {},
   "source": [
    "## 4.1 Narrative: Against Closure"
   ]
  },
  {
   "cell_type": "markdown",
   "metadata": {},
   "source": [
    "Which rhyme-schemes do Smith, Clare and Wordsworth prefer?"
   ]
  },
  {
   "cell_type": "code",
   "execution_count": 76,
   "metadata": {},
   "outputs": [
    {
     "data": {
      "image/png": "[encoded data removed]",
      "text/plain": [
       "<Figure size 432x288 with 1 Axes>"
      ]
     },
     "metadata": {},
     "output_type": "display_data"
    }
   ],
   "source": [
    "def plot_rhyme_schemes(corpus, normalize=True):\n",
    "    \n",
    "    x, hue, y = \"Author\", \"Rhyme Schemes\", \"Proportion\" if normalize else \"Count\"\n",
    "\n",
    "    rhyme_schemes = pd.DataFrame([(author, rs_map[rhyme_scheme]) for author,rhyme_scheme in sonnets.yield_metadata(\"author\", \"rhyme_scheme\")])\n",
    "    rhyme_schemes.columns = [x, hue]\n",
    "\n",
    "    rhyme_schemes_data = rhyme_schemes.groupby(\"Author\").value_counts(normalize=normalize).rename(y).reset_index()\n",
    "\n",
    "    return sns.barplot(data=rhyme_schemes_data, x=x, y=y, hue=hue).get_figure()\n",
    "\n",
    "rhyme_plot = plot_rhyme_schemes(sonnets, True)\n",
    "rhyme_plot.savefig(\"figures/figure_4_1.jpg\", dpi=500)\n"
   ]
  },
  {
   "cell_type": "code",
   "execution_count": 112,
   "metadata": {},
   "outputs": [
    {
     "data": {
      "text/html": [
       "<div>\n",
       "<style scoped>\n",
       "    .dataframe tbody tr th:only-of-type {\n",
       "        vertical-align: middle;\n",
       "    }\n",
       "\n",
       "    .dataframe tbody tr th {\n",
       "        vertical-align: top;\n",
       "    }\n",
       "\n",
       "    .dataframe thead th {\n",
       "        text-align: right;\n",
       "    }\n",
       "</style>\n",
       "<table border=\"1\" class=\"dataframe\">\n",
       "  <thead>\n",
       "    <tr style=\"text-align: right;\">\n",
       "      <th></th>\n",
       "      <th>Number of Sounds</th>\n",
       "    </tr>\n",
       "    <tr>\n",
       "      <th>Author</th>\n",
       "      <th></th>\n",
       "    </tr>\n",
       "  </thead>\n",
       "  <tbody>\n",
       "    <tr>\n",
       "      <th>Clare</th>\n",
       "      <td>6.224138</td>\n",
       "    </tr>\n",
       "    <tr>\n",
       "      <th>Smith</th>\n",
       "      <td>6.322581</td>\n",
       "    </tr>\n",
       "    <tr>\n",
       "      <th>Wordsworth</th>\n",
       "      <td>5.118677</td>\n",
       "    </tr>\n",
       "  </tbody>\n",
       "</table>\n",
       "</div>"
      ],
      "text/plain": [
       "            Number of Sounds\n",
       "Author                      \n",
       "Clare               6.224138\n",
       "Smith               6.322581\n",
       "Wordsworth          5.118677"
      ]
     },
     "execution_count": 112,
     "metadata": {},
     "output_type": "execute_result"
    }
   ],
   "source": [
    "def mean_rhyme_sounds_by_poet(corpus):\n",
    "\n",
    "    def num_sounds(rhyme_scheme):\n",
    "        # We can use 'max' to get the 'highest' letter in each rhyme-scheme, whose position in the alphabet\n",
    "        # corresponds to the number of rhyme-sounds in the poem. For instance, if the highest letter is 'e',\n",
    "        # it means there are 5 unique rhyme sounds\n",
    "        letter_map = {letter:num+1 for num,letter in enumerate('abcdefghijklmnop')}\n",
    "        return letter_map[max(rhyme_scheme)]\n",
    "\n",
    "    rhyme_sounds = corpus.yield_metadata(\"author\", \"rhyme_scheme\")\n",
    "    scheme_data = pd.DataFrame([(author, num_sounds(scheme)) for author,scheme in rhyme_sounds])\n",
    "    scheme_data.columns = [\"Author\", \"Number of Sounds\"]\n",
    "    \n",
    "    return scheme_data.groupby(\"Author\").mean()\n",
    "\n",
    "rhyme_sounds_table = mean_rhyme_sounds_by_poet(sonnets)\n",
    "rhyme_sounds_table  # type: ignore\n",
    "\n"
   ]
  }
 ],
 "metadata": {
  "kernelspec": {
   "display_name": "Python 3.10.4 ('py10')",
   "language": "python",
   "name": "python3"
  },
  "language_info": {
   "codemirror_mode": {
    "name": "ipython",
    "version": 3
   },
   "file_extension": ".py",
   "mimetype": "text/x-python",
   "name": "python",
   "nbconvert_exporter": "python",
   "pygments_lexer": "ipython3",
   "version": "3.10.4"
  },
  "orig_nbformat": 4,
  "vscode": {
   "interpreter": {
    "hash": "ee3412e16aad182d6cfcdcaef23d8099104cca6b126210dc66884bdeec7ecf39"
   }
  }
 },
 "nbformat": 4,
 "nbformat_minor": 2
}
