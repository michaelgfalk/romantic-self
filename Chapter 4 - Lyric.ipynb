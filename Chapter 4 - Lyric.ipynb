{
 "cells": [
  {
   "cell_type": "markdown",
   "metadata": {},
   "source": [
    "# Chapter 4: Self-Abnegation in the Sonnets of Clare and Smith\n",
    "\n",
    "In traditional accounts of Romantic literature, lyric poetry is central and is tightly defined in terms of the 'necessary self'. The Romantic lyric is an 'internalized quest romance' or 'upward spiral', in which the poet describes their experience of nature and moves towards a final recognition of their true identity. While this conception of the Romantic lyric has come under attack in recent years, no alternative understanding of the Romantic lyric has arisen to replace it. This is partly due to proponents of the 'New Lyric Studies', who argue that the only available definition of lyric poetry *is* the definition used in traditional scholarship on Romanticism. The only solution, claim the proponents of the New Lyric Studies, is to set aside the desire to define 'lyric poetry' at all.\n",
    "\n",
    "In Chapter 4 of *Romanticism and the Contingent Self*, I consider the sonnets of Charlotte Smith and John Clare, two poets whose poems almost never culminate in a recognition of their true identity. Using the example of their sonnets, I try to show how an alternative understanding of the Romantic lyric is possible, one that makes room for a wider variety of poems in our conceptualisation of the 'lyric', while also allowing us to define what the lyric is with tolerable precision.\n",
    "\n",
    "In this notebook, I generate all the tables and figures for Chapter 4 of the book."
   ]
  },
  {
   "cell_type": "code",
   "execution_count": 156,
   "metadata": {},
   "outputs": [],
   "source": [
    "%matplotlib inline\n",
    "\n",
    "import os\n",
    "from collections import Counter\n",
    "from collections.abc import Iterable\n",
    "\n",
    "from romanticself import SonnetCorpus\n",
    "from romanticself import import_scheme_map\n",
    "import pandas as pd\n",
    "import seaborn as sns\n",
    "\n",
    "sns.set_theme(style=\"darkgrid\", palette=\"gray\")"
   ]
  },
  {
   "cell_type": "code",
   "execution_count": 157,
   "metadata": {},
   "outputs": [
    {
     "name": "stdout",
     "output_type": "stream",
     "text": [
      "Extracting Wordsworth's sonnets from wwComplete.xml...\n",
      "Extracting Smith's sonnets from smithComplete.xml...\n",
      "Extracting Clare's sonnets from clareComplete.xml...\n",
      "SonnetCorpus(Wordsworth: 514 [12], Smith: 93 [1], Clare: 638 [53])\n"
     ]
    }
   ],
   "source": [
    "sonnets = SonnetCorpus(\"data/sonnet-corpus/\")\n",
    "rs_map = import_scheme_map(\"data/sonnet-corpus/schemes.csv\")"
   ]
  },
  {
   "cell_type": "code",
   "execution_count": 299,
   "metadata": {},
   "outputs": [
    {
     "data": {
      "text/plain": [
       "Counter({'Wordsworth': 514, 'Smith': 93, 'Clare': 638})"
      ]
     },
     "execution_count": 299,
     "metadata": {},
     "output_type": "execute_result"
    }
   ],
   "source": [
    "def get_author_totals(corpus: SonnetCorpus) -> dict:\n",
    "    \"\"\"Get total sonnets per author in convenient format\"\"\"\n",
    "    return Counter([author for author, in sonnets.yield_metadata(\"author\")])\n",
    "\n",
    "get_author_totals(sonnets)"
   ]
  },
  {
   "cell_type": "markdown",
   "metadata": {},
   "source": [
    "## 4.1 Genre: Against Closure"
   ]
  },
  {
   "cell_type": "markdown",
   "metadata": {},
   "source": [
    "Which rhyme-schemes do Smith, Clare and Wordsworth prefer?"
   ]
  },
  {
   "cell_type": "code",
   "execution_count": 171,
   "metadata": {},
   "outputs": [
    {
     "data": {
      "image/png": "[encoded data removed]",
      "text/plain": [
       "<Figure size 432x288 with 1 Axes>"
      ]
     },
     "metadata": {},
     "output_type": "display_data"
    }
   ],
   "source": [
    "def plot_rhyme_schemes(corpus, normalize=True):\n",
    "    \n",
    "    x, hue, y = \"Author\", \"Rhyme Schemes\", \"Proportion\" if normalize else \"Count\"\n",
    "\n",
    "    rhyme_schemes = pd.DataFrame([(author, rs_map[rhyme_scheme]) for author,rhyme_scheme in sonnets.yield_metadata(\"author\", \"rhyme_scheme\")])\n",
    "    rhyme_schemes.columns = [x, hue]\n",
    "\n",
    "    rhyme_schemes_data = (rhyme_schemes\n",
    "                            .groupby(\"Author\")\n",
    "                            .value_counts(normalize=normalize)\n",
    "                            .rename(y)\n",
    "                            .reset_index()\n",
    "                            )\n",
    "\n",
    "    plot = sns.barplot(data=rhyme_schemes_data, x=x, y=y, hue=hue, alpha=.6)\n",
    "    plot.set(ylim=(0,1))\n",
    "\n",
    "    return plot.get_figure(), rhyme_schemes_data\n",
    "\n",
    "rhyme_scheme_plot, rhyme_scheme_table = plot_rhyme_schemes(sonnets, True)\n",
    "rhyme_scheme_plot.savefig(\"figures/figure_4_1.jpg\", dpi=500)\n",
    "rhyme_scheme_table.to_csv(\"figures/figure_4_1_data.csv\")\n"
   ]
  },
  {
   "cell_type": "code",
   "execution_count": 168,
   "metadata": {},
   "outputs": [
    {
     "data": {
      "text/html": [
       "<div>\n",
       "<style scoped>\n",
       "    .dataframe tbody tr th:only-of-type {\n",
       "        vertical-align: middle;\n",
       "    }\n",
       "\n",
       "    .dataframe tbody tr th {\n",
       "        vertical-align: top;\n",
       "    }\n",
       "\n",
       "    .dataframe thead th {\n",
       "        text-align: right;\n",
       "    }\n",
       "</style>\n",
       "<table border=\"1\" class=\"dataframe\">\n",
       "  <thead>\n",
       "    <tr style=\"text-align: right;\">\n",
       "      <th></th>\n",
       "      <th>Number of Sounds</th>\n",
       "    </tr>\n",
       "    <tr>\n",
       "      <th>Author</th>\n",
       "      <th></th>\n",
       "    </tr>\n",
       "  </thead>\n",
       "  <tbody>\n",
       "    <tr>\n",
       "      <th>Clare</th>\n",
       "      <td>6.224138</td>\n",
       "    </tr>\n",
       "    <tr>\n",
       "      <th>Smith</th>\n",
       "      <td>6.322581</td>\n",
       "    </tr>\n",
       "    <tr>\n",
       "      <th>Wordsworth</th>\n",
       "      <td>5.118677</td>\n",
       "    </tr>\n",
       "  </tbody>\n",
       "</table>\n",
       "</div>"
      ],
      "text/plain": [
       "            Number of Sounds\n",
       "Author                      \n",
       "Clare               6.224138\n",
       "Smith               6.322581\n",
       "Wordsworth          5.118677"
      ]
     },
     "execution_count": 168,
     "metadata": {},
     "output_type": "execute_result"
    }
   ],
   "source": [
    "def mean_rhyme_sounds_by_poet(corpus):\n",
    "\n",
    "    def num_sounds(rhyme_scheme):\n",
    "        # We can use 'max' to get the 'highest' letter in each rhyme-scheme, whose position in the alphabet\n",
    "        # corresponds to the number of rhyme-sounds in the poem. For instance, if the highest letter is 'e',\n",
    "        # it means there are 5 unique rhyme sounds\n",
    "        letter_map = {letter:num+1 for num,letter in enumerate('abcdefghijklmnop')}\n",
    "        return letter_map[max(rhyme_scheme)]\n",
    "\n",
    "    rhyme_sounds = corpus.yield_metadata(\"author\", \"rhyme_scheme\")\n",
    "    scheme_data = pd.DataFrame([(author, num_sounds(scheme)) for author,scheme in rhyme_sounds])\n",
    "    scheme_data.columns = [\"Author\", \"Number of Sounds\"]\n",
    "    \n",
    "    return scheme_data.groupby(\"Author\").mean()\n",
    "\n",
    "rhyme_sounds_table = mean_rhyme_sounds_by_poet(sonnets)\n",
    "rhyme_sounds_table  # type: ignore"
   ]
  },
  {
   "cell_type": "code",
   "execution_count": 170,
   "metadata": {},
   "outputs": [
    {
     "data": {
      "image/png": "[encoded data removed]",
      "text/plain": [
       "<Figure size 1080x360 with 3 Axes>"
      ]
     },
     "metadata": {},
     "output_type": "display_data"
    }
   ],
   "source": [
    "def get_couplet_positions_data(corpus):\n",
    "\n",
    "    def is_couplet(rhyme_pair: str) -> bool:\n",
    "        return rhyme_pair[0] == rhyme_pair[1]\n",
    "\n",
    "    def compute_positions(rhyme_sounds: str) -> dict:\n",
    "        positions = {idx:f\"{idx+1}-{idx+2}\" for idx in range(0, 14, 2)}\n",
    "        return {position:is_couplet(rhyme_sounds[idx:]) for idx,position in positions.items()}\n",
    "    \n",
    "    def filtered(sonnet_list: list[tuple]) -> Iterable:\n",
    "        \"\"\"For this specific analysis, sonnets should be exactly 14 lines, and should not have a\n",
    "        couplet rhyme-scheme\"\"\"\n",
    "\n",
    "        is_not_couplet = lambda x: rs_map[x[1]] != \"Couplet\"\n",
    "        is_right_length = lambda x: len(x[1]) == 14\n",
    "\n",
    "        return filter(lambda x: is_not_couplet(x) and is_right_length(x), sonnet_list)\n",
    "\n",
    "    rhyme_sounds = corpus.yield_metadata(\"author\", \"rhyme_scheme\")\n",
    "    positions_data = pd.DataFrame(\n",
    "        [{\"author\":author, **compute_positions(scheme)} for author,scheme in filtered(rhyme_sounds)]\n",
    "    )\n",
    "    author_totals = Counter(author for author,_ in filtered(rhyme_sounds))\n",
    "    \n",
    "    return (positions_data\n",
    "            .groupby(\"author\")\n",
    "            .sum()\n",
    "            .melt(ignore_index=False, var_name=\"position\", value_name=\"count\")\n",
    "            .reset_index() # convert 'author' index into column\n",
    "            .assign(\n",
    "                total=lambda x: x['author'].map(author_totals),\n",
    "                prop=lambda x: x['count'] / x['total'],\n",
    "                author_label=lambda x: x.agg(lambda y: f\"{y['author']} (n={y['total']})\", axis=1)\n",
    "            )\n",
    "            )\n",
    "\n",
    "def plot_couplet_positions(positions_data: pd.DataFrame):\n",
    "    facet_plot = sns.catplot(data=positions_data, x=\"prop\", y=\"position\", col=\"author_label\", kind=\"bar\", color=\"black\", alpha=.6)\n",
    "    return (facet_plot\n",
    "            .set_titles(col_template=\"{col_name}\")\n",
    "            .set(xlim=(0, 1))\n",
    "            .set_axis_labels(\"Proportion of sonnets with couplet in this position\", \"Position (lines)\"))\n",
    "\n",
    "\n",
    "positions_data = get_couplet_positions_data(sonnets)\n",
    "positions_data.to_csv(\"figures/figure_4_2_data.csv\")\n",
    "positions_plot = plot_couplet_positions(positions_data)\n",
    "positions_plot.savefig(\"figures/figure_4_2.jpg\", dpi=500)"
   ]
  },
  {
   "cell_type": "code",
   "execution_count": 242,
   "metadata": {},
   "outputs": [
    {
     "data": {
      "image/png": "[encoded data removed]",
      "text/plain": [
       "<Figure size 432x288 with 1 Axes>"
      ]
     },
     "metadata": {},
     "output_type": "display_data"
    }
   ],
   "source": [
    "def get_alexandrine_data(corpus: SonnetCorpus):\n",
    "\n",
    "    alexandrine = \"u-|u-|u-|u-|u-|u-/\"\n",
    "\n",
    "    def ends_with_alx(metre: dict) -> bool:\n",
    "        # NB: Lines are zero-indexed, as in the couplet-analysis above\n",
    "        return metre[13] == alexandrine if 13 in metre else False\n",
    "    \n",
    "    alexandrine_data = pd.DataFrame(corpus.yield_metadata(\"author\",\"metre\"), columns=[\"author\", \"metre\"])\n",
    "\n",
    "    return (alexandrine_data\n",
    "            .assign(\n",
    "                ends_with_alx=lambda x: x['metre'].map(ends_with_alx)\n",
    "                )\n",
    "            .drop('metre', axis=1)\n",
    "            .groupby('author')\n",
    "            .value_counts(normalize=True)\n",
    "            .rename(\"prop\")\n",
    "            .reset_index()\n",
    "            .query('ends_with_alx') # Keep only rows where this is true\n",
    "            )\n",
    "\n",
    "def plot_alexandrine_data(alexandrine_data: pd.DataFrame):\n",
    "    plot = sns.barplot(data=alexandrine_data, x=\"author\", y=\"prop\", color=\"black\", alpha=.6)\n",
    "    plot.set(xlabel=\"Author\", ylabel=\"Proportion of sonnets\\nending with alexandrine\")\n",
    "    return plot.get_figure()\n",
    "\n",
    "alexandrine_data = get_alexandrine_data(sonnets)\n",
    "alexandrine_plot = plot_alexandrine_data(alexandrine_data)\n",
    "alexandrine_plot.savefig(\"figures/figure_4_3.jpg\", dpi=500)\n"
   ]
  },
  {
   "cell_type": "markdown",
   "metadata": {},
   "source": [
    "## 4.2 Narrative: Sequencing"
   ]
  },
  {
   "cell_type": "code",
   "execution_count": 325,
   "metadata": {},
   "outputs": [
    {
     "data": {
      "text/html": [
       "<div>\n",
       "<style scoped>\n",
       "    .dataframe tbody tr th:only-of-type {\n",
       "        vertical-align: middle;\n",
       "    }\n",
       "\n",
       "    .dataframe tbody tr th {\n",
       "        vertical-align: top;\n",
       "    }\n",
       "\n",
       "    .dataframe thead th {\n",
       "        text-align: right;\n",
       "    }\n",
       "</style>\n",
       "<table border=\"1\" class=\"dataframe\">\n",
       "  <thead>\n",
       "    <tr style=\"text-align: right;\">\n",
       "      <th></th>\n",
       "      <th>Author</th>\n",
       "      <th>Number of sequences</th>\n",
       "      <th>Total sequenced sonnets</th>\n",
       "      <th>Mean sequence length</th>\n",
       "      <th>Total sonnets</th>\n",
       "      <th>Proportion in sequence</th>\n",
       "    </tr>\n",
       "  </thead>\n",
       "  <tbody>\n",
       "    <tr>\n",
       "      <th>0</th>\n",
       "      <td>Clare</td>\n",
       "      <td>53</td>\n",
       "      <td>134</td>\n",
       "      <td>2.528302</td>\n",
       "      <td>638</td>\n",
       "      <td>0.210031</td>\n",
       "    </tr>\n",
       "    <tr>\n",
       "      <th>1</th>\n",
       "      <td>Smith</td>\n",
       "      <td>1</td>\n",
       "      <td>92</td>\n",
       "      <td>92.000000</td>\n",
       "      <td>93</td>\n",
       "      <td>0.989247</td>\n",
       "    </tr>\n",
       "    <tr>\n",
       "      <th>2</th>\n",
       "      <td>Wordsworth</td>\n",
       "      <td>12</td>\n",
       "      <td>502</td>\n",
       "      <td>41.833333</td>\n",
       "      <td>514</td>\n",
       "      <td>0.976654</td>\n",
       "    </tr>\n",
       "  </tbody>\n",
       "</table>\n",
       "</div>"
      ],
      "text/plain": [
       "       Author  Number of sequences  Total sequenced sonnets  \\\n",
       "0       Clare                   53                      134   \n",
       "1       Smith                    1                       92   \n",
       "2  Wordsworth                   12                      502   \n",
       "\n",
       "   Mean sequence length  Total sonnets  Proportion in sequence  \n",
       "0              2.528302            638                0.210031  \n",
       "1             92.000000             93                0.989247  \n",
       "2             41.833333            514                0.976654  "
      ]
     },
     "execution_count": 325,
     "metadata": {},
     "output_type": "execute_result"
    }
   ],
   "source": [
    "def get_sequence_table(SonnetCorpus):\n",
    "    sequence_table = (pd.DataFrame(\n",
    "        [{\"author\":author, **values} for (author,_),values in sonnets.sequences.items()]\n",
    "        )\n",
    "        .drop(['title','sonnets'], axis=1)\n",
    "        .groupby('author')\n",
    "        .aggregate(['count','sum','mean'])\n",
    "        .reset_index()\n",
    "        .assign(\n",
    "            total=lambda x: x['author'].map(get_author_totals(sonnets)),\n",
    "            prop=lambda x: x['num_sonnets']['sum'] / x['total']\n",
    "            )\n",
    "        ) \n",
    "\n",
    "    sequence_table.columns = [\n",
    "        'Author',\n",
    "        'Number of sequences',\n",
    "        'Total sequenced sonnets',\n",
    "        'Mean sequence length',\n",
    "        'Total sonnets',\n",
    "        'Proportion in sequence'\n",
    "    ]\n",
    "\n",
    "    return sequence_table   \n",
    "\n",
    "sequence_table = get_sequence_table(sonnets)\n",
    "sequence_table.to_csv(\"figures/figure_4_4.csv\")\n",
    "sequence_table"
   ]
  }
 ],
 "metadata": {
  "kernelspec": {
   "display_name": "Python 3.10.4 ('py10')",
   "language": "python",
   "name": "python3"
  },
  "language_info": {
   "codemirror_mode": {
    "name": "ipython",
    "version": 3
   },
   "file_extension": ".py",
   "mimetype": "text/x-python",
   "name": "python",
   "nbconvert_exporter": "python",
   "pygments_lexer": "ipython3",
   "version": "3.10.4"
  },
  "orig_nbformat": 4,
  "vscode": {
   "interpreter": {
    "hash": "ee3412e16aad182d6cfcdcaef23d8099104cca6b126210dc66884bdeec7ecf39"
   }
  }
 },
 "nbformat": 4,
 "nbformat_minor": 2
}
