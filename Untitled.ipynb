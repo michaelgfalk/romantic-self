{
 "cells": [
  {
   "cell_type": "code",
   "execution_count": 1,
   "metadata": {},
   "outputs": [],
   "source": [
    "from gensim.models import FastText\n",
    "from utils import JSTORCorpus, load_jstor_corpus\n",
    "\n",
    "# Import corpus\n",
    "corpus = load_jstor_corpus('data/last-15-years-corpus.p')\n",
    "corpus.filter_by_year(min_year=2015)"
   ]
  },
  {
   "cell_type": "code",
   "execution_count": 12,
   "metadata": {},
   "outputs": [
    {
     "data": {
      "text/plain": [
       "'/tmp/models/2015-test-ftmodel'"
      ]
     },
     "execution_count": 12,
     "metadata": {},
     "output_type": "execute_result"
    }
   ],
   "source": [
    "from gensim.test.utils import get_tmpfile\n",
    "fname = get_tmpfile('models/2015-test-ftmodel')\n",
    "fname"
   ]
  },
  {
   "cell_type": "code",
   "execution_count": null,
   "metadata": {},
   "outputs": [],
   "source": [
    "# Initialise and train model\n",
    "model = FastText(size=200, workers=8)\n",
    "model.build_vocab(sentences=corpus)\n",
    "model.train(sentences=corpus, total_examples=len(corpus.corpus_meta), epochs=1)"
   ]
  },
  {
   "cell_type": "code",
   "execution_count": 14,
   "metadata": {},
   "outputs": [],
   "source": [
    "# Save\n",
    "model.save('models/2015-test.ftmodel')"
   ]
  }
 ],
 "metadata": {
  "kernelspec": {
   "display_name": "Python 3",
   "language": "python",
   "name": "python3"
  },
  "language_info": {
   "codemirror_mode": {
    "name": "ipython",
    "version": 3
   },
   "file_extension": ".py",
   "mimetype": "text/x-python",
   "name": "python",
   "nbconvert_exporter": "python",
   "pygments_lexer": "ipython3",
   "version": "3.6.9"
  }
 },
 "nbformat": 4,
 "nbformat_minor": 2
}
