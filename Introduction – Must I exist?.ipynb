{
 "cells": [
  {
   "cell_type": "markdown",
   "metadata": {},
   "source": [
    "# Introduction: Must I exist?\n",
    "\n",
    "In the introduction to *Contingent Selves*, I describe the concept of the 'contingent self', and indicate what makes this concept important for the study of Romantic literature.\n",
    "\n",
    "As part of this introduction, I analyse a corpus of academic documents from JSTOR Data for Research, and consider how the word 'self' is used in them. This notebook shows the upper-level code required to reproduce the analysis in the text. More experienced users can investigate the rest of this repository to see the details of the implementation."
   ]
  },
  {
   "cell_type": "code",
   "execution_count": 1,
   "metadata": {},
   "outputs": [],
   "source": [
    "import pickle as p\n",
    "\n",
    "from matplotlib import pyplot as plt\n",
    "from bs4 import BeautifulSoup\n",
    "import pandas as pd\n",
    "import nltk\n",
    "\n",
    "from utils import JSTORCorpus, TargetedTrigramAssocFinder, RobustBigramAssocMeasures, RobustTrigramAssocMeasures\n",
    "\n",
    "%matplotlib inline"
   ]
  },
  {
   "cell_type": "code",
   "execution_count": 2,
   "metadata": {},
   "outputs": [
    {
     "name": "stdout",
     "output_type": "stream",
     "text": [
      "Corpus loaded from data/last-15-years-corpus.p\n"
     ]
    }
   ],
   "source": [
    "DATA_DIR = 'data/'\n",
    "OUT_DIR = DATA_DIR + 'associations-2020-07-07-wn25/'\n",
    "\n",
    "corpus = JSTORCorpus.load(DATA_DIR + 'last-15-years-corpus.p')\n",
    "\n",
    "with open(OUT_DIR + 'romantic-self-trigrams.p', 'rb') as file:\n",
    "    rom_self_trigrams = p.load(file)\n",
    "\n",
    "with open(OUT_DIR + 'self-bigrams.p', 'rb') as file:\n",
    "    self_bigrams = p.load(file)\n",
    "    \n",
    "with open(OUT_DIR + 'romantic-bigrams.p', 'rb') as file:\n",
    "    romantic_bigrams = p.load(file)"
   ]
  },
  {
   "cell_type": "code",
   "execution_count": 3,
   "metadata": {},
   "outputs": [],
   "source": [
    "if ('self','romantic') in self_bigrams.ngram_fd:\n",
    "    self_bigrams.ngram_fd[('romantic','self')] = self_bigrams.ngram_fd[('self','romantic')]\n",
    "    del self_bigrams.ngram_fd[('self','romantic')]"
   ]
  },
  {
   "cell_type": "markdown",
   "metadata": {},
   "source": [
    "# The shape of the data"
   ]
  },
  {
   "cell_type": "code",
   "execution_count": 4,
   "metadata": {},
   "outputs": [
    {
     "name": "stdout",
     "output_type": "stream",
     "text": [
      "Unigrams in the corpus: 120,941,637\n",
      "\n",
      "Trigrams with \"self\" and \"romantic\":\n",
      "    types: 5,294\n",
      "    tokens: 27,504\n",
      "\n",
      "Bigrams with \"self\" or \"romantic\":\n",
      "    types: 108,830\n",
      "    tokens: 2,783,740\n",
      "Bigrams with \"self\":\n",
      "    types: 59,754\n",
      "    tokens: 1,567,113\n",
      "Bigrams with \"romantic\":\n",
      "    types: 49,077\n",
      "    tokens: 1,219,005\n"
     ]
    }
   ],
   "source": [
    "print(f'Unigrams in the corpus: {rom_self_trigrams.N:,}\\n')\n",
    "\n",
    "print(f'Trigrams with \"self\" and \"romantic\":')\n",
    "print(f'    types: {rom_self_trigrams.ngram_fd.B():,}')\n",
    "print(f'    tokens: {rom_self_trigrams.ngram_fd.N():,}\\n')\n",
    "\n",
    "print(f'Bigrams with \"self\" or \"romantic\":')\n",
    "print(f'    types: {rom_self_trigrams.bigram_fd.B():,}')\n",
    "print(f'    tokens: {rom_self_trigrams.bigram_fd.N():,}')\n",
    "print(f'Bigrams with \"self\":')\n",
    "print(f'    types: {self_bigrams.ngram_fd.B():,}')\n",
    "print(f'    tokens: {self_bigrams.ngram_fd.N():,}')\n",
    "print(f'Bigrams with \"romantic\":')\n",
    "print(f'    types: {romantic_bigrams.ngram_fd.B():,}')\n",
    "print(f'    tokens: {romantic_bigrams.ngram_fd.N():,}')"
   ]
  },
  {
   "cell_type": "code",
   "execution_count": 5,
   "metadata": {},
   "outputs": [],
   "source": [
    "corpus_df = pd.DataFrame.from_dict(corpus.corpus_meta, orient='index')"
   ]
  },
  {
   "cell_type": "code",
   "execution_count": 6,
   "metadata": {},
   "outputs": [],
   "source": [
    "with open('data/metadata/journal-article-10.2307_41328981.xml') as file:\n",
    "    meta_xml = BeautifulSoup(file.read(), features=\"lxml\")"
   ]
  },
  {
   "cell_type": "code",
   "execution_count": 12,
   "metadata": {},
   "outputs": [
    {
     "data": {
      "text/plain": [
       "'New Literary History'"
      ]
     },
     "execution_count": 12,
     "metadata": {},
     "output_type": "execute_result"
    }
   ],
   "source": [
    "meta_xml.find('journal-title').text"
   ]
  },
  {
   "cell_type": "markdown",
   "metadata": {},
   "source": [
    "# Stopwords?\n",
    "\n",
    "What happens if we filter for stopwords?"
   ]
  },
  {
   "cell_type": "code",
   "execution_count": 15,
   "metadata": {},
   "outputs": [],
   "source": [
    "import re\n",
    "from nltk.corpus import stopwords\n",
    "english = stopwords.words('english')"
   ]
  },
  {
   "cell_type": "code",
   "execution_count": 46,
   "metadata": {},
   "outputs": [],
   "source": [
    "def stopword_filter(*ngram):\n",
    "    \"\"\"Returns true if the ngram contains junk or a stopword\"\"\"\n",
    "\n",
    "    sw = set(stopwords.words('english'))\n",
    "\n",
    "    if not sw.isdisjoint(ngram):\n",
    "        return True\n",
    "    elif any([re.match(r'[\\W\\d]+', wd) for wd in ngram]):\n",
    "        return True\n",
    "    else:\n",
    "        return False"
   ]
  },
  {
   "cell_type": "code",
   "execution_count": 47,
   "metadata": {},
   "outputs": [],
   "source": [
    "rom_self_trigrams.apply_ngram_filter(stopword_filter)\n",
    "romantic_bigrams.apply_ngram_filter(stopword_filter)\n",
    "self_bigrams.apply_ngram_filter(stopword_filter)"
   ]
  },
  {
   "cell_type": "code",
   "execution_count": 112,
   "metadata": {
    "scrolled": true
   },
   "outputs": [],
   "source": [
    "rom_scores = romantic_bigrams.score_ngrams(RobustBigramAssocMeasures.likelihood_ratio)\n",
    "self_scores = self_bigrams.score_ngrams(RobustBigramAssocMeasures.likelihood_ratio)\n",
    "rom_self_scores = rom_self_trigrams.score_ngrams(RobustTrigramAssocMeasures.likelihood_ratio)"
   ]
  },
  {
   "cell_type": "code",
   "execution_count": 113,
   "metadata": {},
   "outputs": [
    {
     "name": "stdout",
     "output_type": "stream",
     "text": [
      "0  : romantic           892,095.38 : self             1,137,949.75 : self             1,736,647.47\n",
      "1  : period              29,328.70 : conscious           21,493.52 : romantic         1,357,924.04\n",
      "2  : poetry              23,752.89 : consciousness       20,221.33 : period              70,292.85\n",
      "3  : era                 19,311.59 : one                 17,474.49 : poetry              66,935.82\n",
      "4  : self                16,595.72 : romantic            16,595.72 : one                 62,852.02\n",
      "5  : romanticism         16,292.47 : consciously         11,999.87 : conscious           57,432.59\n",
      "6  : literature          15,699.04 : identity            11,685.73 : consciousness       57,014.88\n",
      "7  : poets               15,245.03 : sense               10,890.09 : era                 54,726.71\n",
      "8  : british             13,548.93 : also                10,581.49 : literature          52,901.60\n",
      "9  : literary            12,704.06 : world               10,242.77 : romanticism         52,815.59\n",
      "10 : writers             12,636.12 : reflexive            9,965.68 : also                51,449.55\n",
      "11 : culture             10,057.39 : subject              8,429.70 : literary            51,340.90\n",
      "12 : english              9,909.95 : writing              8,079.51 : poets               49,633.39\n",
      "13 : tradition            9,762.60 : nature               7,725.82 : writing             47,633.55\n",
      "14 : wordsworth           8,757.90 : fashioning           7,695.73 : nature              47,617.13\n",
      "15 : new                  8,490.67 : knowledge            7,089.58 : british             46,365.32\n",
      "16 : imagination          8,412.68 : life                 7,075.61 : writers             46,127.05\n",
      "17 : century              8,208.85 : individual           6,972.31 : culture             45,737.65\n",
      "18 : cambridge            7,976.35 : interest             6,962.43 : new                 45,684.15\n",
      "19 : one                  7,720.31 : representation       6,764.59 : sense               45,518.80\n",
      "20 : nature               7,582.43 : reliance             6,684.64 : world               44,798.84\n",
      "21 : university           7,506.62 : rather               6,530.73 : identity            44,597.11\n",
      "22 : love                 7,424.12 : form                 6,524.93 : poet                43,251.00\n",
      "23 : poet                 7,326.90 : social               6,354.30 : love                43,173.34\n",
      "24 : rev                  7,208.04 : even                 6,340.66 : consciously         43,112.06\n",
      "25 : history              7,185.30 : thus                 6,236.04 : tradition           42,227.04\n",
      "26 : also                 7,106.01 : image                6,194.35 : century             42,216.46\n",
      "27 : writing              7,005.60 : expression           6,184.65 : work                42,073.75\n",
      "28 : women                7,002.94 : awareness            5,952.19 : wordsworth          42,024.39\n",
      "29 : novel                6,806.30 : within               5,929.15 : life                41,928.63\n"
     ]
    }
   ],
   "source": [
    "for idx, (rom, self, rom_self) in enumerate(zip(rom_scores[:30], self_scores[:30], rom_self_scores[:30])):\n",
    "    rom_bg, r_sc = rom\n",
    "    self_bg, s_sc = self\n",
    "    trigram, t_sc = rom_self\n",
    "    \n",
    "    r_wd = rom_bg[0]\n",
    "    s_wd = self_bg[0]\n",
    "    t_wd = trigram[0]\n",
    "    \n",
    "    print(f\"{idx:<2} : {r_wd:<15} {r_sc:>13,.2f} : {s_wd:<15} {s_sc:>13,.2f} : {t_wd:<15} {t_sc:>13,.2f}\")"
   ]
  },
  {
   "cell_type": "code",
   "execution_count": 104,
   "metadata": {},
   "outputs": [],
   "source": [
    "def rank_word(scores, word):\n",
    "    for rank, (ngram, score) in enumerate(scores):\n",
    "        if word in ngram:\n",
    "            return rank, score"
   ]
  },
  {
   "cell_type": "markdown",
   "metadata": {},
   "source": [
    "# What words are excluded in the context of 'romantic' and 'self'\n",
    "\n",
    "It appears that several words, including 'abnegation' and 'contingent', never occur when both 'romantic' and 'self' are within 14 words either side. Are there other such words?"
   ]
  },
  {
   "cell_type": "code",
   "execution_count": 138,
   "metadata": {},
   "outputs": [],
   "source": [
    "filtered_rom_scores = []\n",
    "for ngram, score in rom_scores:\n",
    "    if (ngram[0],'self','romantic') not in rom_self_trigrams.ngram_fd:\n",
    "        filtered_rom_scores.append((ngram, score))\n",
    "\n",
    "filtered_self_scores = []\n",
    "for ngram, score in self_scores:\n",
    "    if (ngram[0],'self','romantic') not in rom_self_trigrams.ngram_fd:\n",
    "        filtered_self_scores.append((ngram, score))"
   ]
  },
  {
   "cell_type": "code",
   "execution_count": 146,
   "metadata": {},
   "outputs": [
    {
     "name": "stdout",
     "output_type": "stream",
     "text": [
      "0  : abrams               3,086.69 : cannot               2,650.72\n",
      "1  : circles              2,878.80 : preservation         2,531.96\n",
      "2  : edited               1,718.78 : denial               2,085.75\n",
      "3  : michael              1,657.13 : make                 2,004.17\n",
      "4  : ecology              1,484.96 : interested           1,819.75\n",
      "5  : scholars             1,469.87 : discipline           1,817.74\n",
      "6  : melancholy           1,442.19 : effacing             1,784.51\n",
      "7  : praxis               1,426.95 : esteem               1,690.77\n",
      "8  : writings             1,354.74 : respect              1,621.89\n",
      "9  : trumpener            1,244.66 : styled               1,531.31\n",
      "10 : companion            1,234.64 : envelope             1,342.85\n",
      "11 : err                  1,212.37 : things               1,297.58\n",
      "12 : anthology            1,195.80 : boundaries           1,283.58\n",
      "13 : scholarship          1,185.10 : addressed            1,233.29\n",
      "14 : bate                 1,185.04 : abnegation           1,223.02\n",
      "15 : baltimore            1,171.96 : psychological        1,192.15\n",
      "16 : make                 1,166.87 : hatred               1,183.38\n",
      "17 : cornell              1,110.91 : display              1,129.27\n",
      "18 : ithaca               1,105.77 : government           1,122.05\n",
      "19 : manifesto            1,088.71 : narcissism           1,108.46\n",
      "20 : rc                   1,040.76 : requires             1,057.42\n",
      "21 : comedy               1,026.17 : regulating           1,038.24\n",
      "22 : katie                1,021.49 : quite                1,031.65\n",
      "23 : elfenbein            1,010.86 : ability              1,022.40\n",
      "24 : tim                    982.03 : congratulatory       1,019.02\n",
      "25 : mclane                 962.75 : face                 1,006.42\n",
      "26 : leask                  948.41 : appointed              990.55\n",
      "27 : journal                944.68 : mere                   963.49\n",
      "28 : morton                 928.63 : stable                 962.17\n",
      "29 : esterhammer            926.61 : demands                960.80\n",
      "30 : edinburgh              925.04 : identical              932.60\n",
      "31 : sir                    922.35 : false                  929.30\n",
      "32 : sociability            920.46 : audience               927.63\n",
      "33 : supernaturalism        914.28 : censorship             901.52\n",
      "34 : godwin                 909.03 : identities             870.67\n",
      "35 : williams               896.55 : portraiture            867.03\n",
      "36 : spanish                871.15 : unconscious            865.44\n",
      "37 : exotic                 870.13 : satisfied              849.77\n",
      "38 : rajan                  853.16 : capable                848.47\n",
      "39 : prophecy               851.97 : righteous              846.35\n",
      "40 : italy                  851.79 : sustaining             844.48\n",
      "41 : throughout             846.38 : show                   834.34\n",
      "42 : sobriety               836.13 : line                   833.91\n",
      "43 : lamp                   823.45 : increasingly           833.42\n",
      "44 : ferris                 817.76 : entity                 825.95\n",
      "45 : things                 805.61 : psychology             811.40\n",
      "46 : jonathan               793.57 : inflicted              806.78\n",
      "47 : artists                789.64 : deprecation            806.47\n",
      "48 : alan                   784.39 : auto                   804.66\n",
      "49 : posterity              781.53 : writings               790.86\n"
     ]
    }
   ],
   "source": [
    "for idx, (rom, self) in enumerate(zip(filtered_rom_scores[:50], filtered_self_scores[:50])):\n",
    "    rom_bg, r_sc = rom\n",
    "    self_bg, s_sc = self\n",
    "    \n",
    "    r_wd = rom_bg[0]\n",
    "    s_wd = self_bg[0]\n",
    "    \n",
    "    print(f\"{idx:<2} : {r_wd:<15} {r_sc:>13,.2f} : {s_wd:<15} {s_sc:>13,.2f}\")"
   ]
  },
  {
   "cell_type": "code",
   "execution_count": 167,
   "metadata": {},
   "outputs": [],
   "source": [
    "foo = [n for n in self_bigrams.score_ngram(w1='romantic',w2='self', score_fn=RobustBigramAssocMeasures._contingency)]"
   ]
  },
  {
   "cell_type": "code",
   "execution_count": 168,
   "metadata": {},
   "outputs": [
    {
     "data": {
      "text/plain": [
       "[2378.0, 64569.0, 48458.0, 120826232.0]"
      ]
     },
     "execution_count": 168,
     "metadata": {},
     "output_type": "execute_result"
    }
   ],
   "source": [
    "foo"
   ]
  }
 ],
 "metadata": {
  "kernelspec": {
   "display_name": "Python 3",
   "language": "python",
   "name": "python3"
  },
  "language_info": {
   "codemirror_mode": {
    "name": "ipython",
    "version": 3
   },
   "file_extension": ".py",
   "mimetype": "text/x-python",
   "name": "python",
   "nbconvert_exporter": "python",
   "pygments_lexer": "ipython3",
   "version": "3.6.9"
  }
 },
 "nbformat": 4,
 "nbformat_minor": 2
}
