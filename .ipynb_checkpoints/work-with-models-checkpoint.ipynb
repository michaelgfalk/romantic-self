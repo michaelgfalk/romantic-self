{
 "cells": [
  {
   "cell_type": "markdown",
   "metadata": {},
   "source": [
    "# First look at first model"
   ]
  },
  {
   "cell_type": "code",
   "execution_count": 1,
   "metadata": {},
   "outputs": [],
   "source": [
    "from gensim.models import FastText"
   ]
  },
  {
   "cell_type": "code",
   "execution_count": 2,
   "metadata": {},
   "outputs": [],
   "source": [
    "# The load() method must be called on the FastText class, rather than on an instance\n",
    "model = FastText.load('models/last-15-years-25-epochs.ftmodel')"
   ]
  },
  {
   "cell_type": "code",
   "execution_count": 38,
   "metadata": {},
   "outputs": [
    {
     "name": "stdout",
     "output_type": "stream",
     "text": [
      "1. neoromantic, dist = 0.957636833190918\n",
      "2. antiromantic, dist = 0.9532189965248108\n",
      "3. metaromantic, dist = 0.9492950439453125\n",
      "4. preromantic, dist = 0.9464113712310791\n",
      "5. necromantic, dist = 0.9446543455123901\n",
      "6. nonromantic, dist = 0.9406825304031372\n",
      "7. postromantic, dist = 0.9399392604827881\n",
      "8. hyperromantic, dist = 0.9314874410629272\n",
      "9. unromantic, dist = 0.9279868602752686\n",
      "10. romanticist, dist = 0.9219558238983154\n",
      "11. romantická, dist = 0.9128398895263672\n",
      "12. Unromantic, dist = 0.9121805429458618\n",
      "13. romantice, dist = 0.9095699787139893\n",
      "14. romantickým, dist = 0.9052660465240479\n",
      "15. romanticise, dist = 0.9040356278419495\n",
      "16. romantický, dist = 0.9036016464233398\n",
      "17. romanticus, dist = 0.9010462760925293\n",
      "18. romantick, dist = 0.8986073732376099\n",
      "19. romanticising, dist = 0.8957149982452393\n",
      "20. romanticism, dist = 0.8934667706489563\n",
      "21. ofRomantic, dist = 0.89158034324646\n",
      "22. sentimentalist, dist = 0.8909026384353638\n",
      "23. romanticizing, dist = 0.8873521685600281\n",
      "24. sentimental, dist = 0.8836038708686829\n",
      "25. antic, dist = 0.8835861682891846\n",
      "26. romantizm, dist = 0.8822610974311829\n",
      "27. dantic, dist = 0.8818808794021606\n",
      "28. romantics, dist = 0.8797917366027832\n",
      "29. modernistic, dist = 0.8791602849960327\n",
      "30. romanticized, dist = 0.8773990869522095\n",
      "31. romanticization, dist = 0.8768221139907837\n",
      "32. antiromanticism, dist = 0.8756252527236938\n",
      "33. idealistic, dist = 0.8750252723693848\n",
      "34. romantickou, dist = 0.8748010396957397\n",
      "35. metaromanticism, dist = 0.8742135763168335\n",
      "36. deontic, dist = 0.8724640607833862\n",
      "37. romantically, dist = 0.8710019588470459\n",
      "38. Romantic, dist = 0.8703565001487732\n",
      "39. postromanticism, dist = 0.8698525428771973\n",
      "40. romantických, dist = 0.8691889047622681\n",
      "41. pedantic, dist = 0.8685122132301331\n",
      "42. antisentimental, dist = 0.8671374917030334\n",
      "43. frantic, dist = 0.865830659866333\n",
      "44. romantizma, dist = 0.8655984401702881\n",
      "45. romantici, dist = 0.8652107119560242\n",
      "46. classicistic, dist = 0.864884614944458\n",
      "47. romanticos, dist = 0.8639987111091614\n",
      "48. romanticised, dist = 0.8634214401245117\n",
      "49. mantic, dist = 0.8632173538208008\n",
      "50. transadantic, dist = 0.8631085753440857\n"
     ]
    }
   ],
   "source": [
    "sims = model.wv.most_similar(positive=['romantic'], topn=50)\n",
    "i = 0\n",
    "for sim in sims:\n",
    "    i += 1\n",
    "    print(f'{i}. {sim[0]}, dist = {sim[1]}')"
   ]
  },
  {
   "cell_type": "code",
   "execution_count": 19,
   "metadata": {},
   "outputs": [
    {
     "name": "stdout",
     "output_type": "stream",
     "text": [
      "1. selfness, dist = 0.8833435773849487\n",
      "2. selfconscious, dist = 0.8673973083496094\n",
      "3. self77, dist = 0.8636106252670288\n",
      "4. selfs, dist = 0.861426591873169\n",
      "5. subjectification, dist = 0.8501474261283875\n",
      "6. controll, dist = 0.8486688733100891\n",
      "7. possessiveness, dist = 0.8426641225814819\n",
      "8. individualization, dist = 0.8422468304634094\n",
      "9. repressiveness, dist = 0.841666579246521\n",
      "10. controlling, dist = 0.8411588668823242\n",
      "11. protectiveness, dist = 0.8407149910926819\n",
      "12. subjection, dist = 0.8393940925598145\n",
      "13. objectification, dist = 0.8385723233222961\n",
      "14. personalization, dist = 0.8370845913887024\n",
      "15. controle, dist = 0.8363387584686279\n",
      "16. selflessness, dist = 0.8361494541168213\n",
      "17. controlar, dist = 0.8352086544036865\n",
      "18. individuality, dist = 0.8333074450492859\n",
      "19. personality, dist = 0.8332066535949707\n",
      "20. determination, dist = 0.8329977989196777\n",
      "21. controul, dist = 0.8323333263397217\n",
      "22. conscientiousness, dist = 0.8315858840942383\n",
      "23. controllo, dist = 0.8314959406852722\n",
      "24. nonself, dist = 0.8314504623413086\n",
      "25. disempowerment, dist = 0.8307956457138062\n",
      "26. intentionality, dist = 0.8305350542068481\n",
      "27. indifferentiation, dist = 0.8304743766784668\n",
      "28. subjectivity, dist = 0.8304539918899536\n",
      "29. possessive, dist = 0.8299100995063782\n",
      "30. internality, dist = 0.8298249244689941\n",
      "31. impersonality, dist = 0.8296392560005188\n",
      "32. interiority, dist = 0.8291562795639038\n",
      "33. represion, dist = 0.8288607597351074\n",
      "34. consciousness, dist = 0.8278743624687195\n",
      "35. powerment, dist = 0.8277273774147034\n",
      "36. individuation, dist = 0.8276469707489014\n",
      "37. subjectivation, dist = 0.8273698091506958\n",
      "38. individualizing, dist = 0.8272024989128113\n",
      "39. consécration, dist = 0.827141523361206\n",
      "40. selfconsciously, dist = 0.827063262462616\n",
      "41. uncontrollability, dist = 0.8264004588127136\n",
      "42. subjectlessness, dist = 0.8257167935371399\n",
      "43. exteriority, dist = 0.8254106044769287\n",
      "44. manipulation, dist = 0.8253389596939087\n",
      "45. ineffectiveness, dist = 0.8251426219940186\n",
      "46. depersonalization, dist = 0.824887752532959\n",
      "47. subjectifying, dist = 0.8247384428977966\n",
      "48. repression, dist = 0.8233629465103149\n",
      "49. subjectivization, dist = 0.8232085704803467\n",
      "50. internalization, dist = 0.8231022953987122\n"
     ]
    }
   ],
   "source": [
    "sims = model.wv.most_similar(positive=['self','control'], topn=50)\n",
    "i = 0\n",
    "for sim in sims:\n",
    "    i += 1\n",
    "    print(f'{i}. {sim[0]}, dist = {sim[1]}')"
   ]
  },
  {
   "cell_type": "code",
   "execution_count": 17,
   "metadata": {},
   "outputs": [
    {
     "data": {
      "text/plain": [
       "['self', '-', 'development']"
      ]
     },
     "execution_count": 17,
     "metadata": {},
     "output_type": "execute_result"
    }
   ],
   "source": [
    "from nltk.tokenize import wordpunct_tokenize\n",
    "wordpunct_tokenize('self-development')"
   ]
  },
  {
   "cell_type": "markdown",
   "metadata": {},
   "source": [
    "# Hmmm...\n",
    "\n",
    "It doesn't seem to be throwing up anything much interesting. We could try comparing two corpora, one where 'romanticism' is a key term, and one where it isn't..."
   ]
  },
  {
   "cell_type": "code",
   "execution_count": 1,
   "metadata": {},
   "outputs": [],
   "source": [
    "from gensim.corpora import Dictionary\n",
    "from gensim.models import TfidfModel\n",
    "from utils import JSTORCorpus"
   ]
  },
  {
   "cell_type": "code",
   "execution_count": 2,
   "metadata": {},
   "outputs": [
    {
     "name": "stdout",
     "output_type": "stream",
     "text": [
      "Parsing xml files in data/metadata. Associated .txt in data/ocr\n"
     ]
    },
    {
     "name": "stderr",
     "output_type": "stream",
     "text": [
      "  0%|          | 0/54017 [00:00<?, ?it/s]/shared/home/mgf/romantic-self/utils.py:83: UserWarning: No parser was explicitly specified, so I'm using the best available HTML parser for this system (\"lxml\"). This usually isn't a problem, but if you run this code on another system, or in a different virtual environment, it may use a different parser and behave differently.\n",
      "\n",
      "The code that caused this warning is on line 83 of the file /shared/home/mgf/romantic-self/utils.py. To get rid of this warning, pass the additional argument 'features=\"lxml\"' to the BeautifulSoup constructor.\n",
      "\n",
      "  meta_xml = BeautifulSoup(file.read())\n",
      "100%|██████████| 54017/54017 [11:24<00:00, 78.88it/s] "
     ]
    },
    {
     "name": "stdout",
     "output_type": "stream",
     "text": [
      "44802 documents parsed successfully. 9215 documents skipped.\n"
     ]
    },
    {
     "name": "stderr",
     "output_type": "stream",
     "text": [
      "\n"
     ]
    }
   ],
   "source": [
    "corpus = JSTORCorpus(data_dir='data/ocr', meta_dir='data/metadata')"
   ]
  },
  {
   "cell_type": "code",
   "execution_count": 5,
   "metadata": {},
   "outputs": [],
   "source": [
    "idx_doc = {}\n",
    "i = 0\n",
    "for doc in corpus.corpus_meta:\n",
    "    idx_doc[i] = doc\n",
    "doc_idx = {val:key for key,val in idx_doc.items()}"
   ]
  },
  {
   "cell_type": "code",
   "execution_count": 6,
   "metadata": {},
   "outputs": [],
   "source": [
    "dct = Dictionary(corpus.iter_lower)\n",
    "dct.save('models/tfidf-lower-dct')"
   ]
  },
  {
   "cell_type": "code",
   "execution_count": 8,
   "metadata": {},
   "outputs": [],
   "source": [
    "bow_corpus = (dct.doc2bow(text) for text in corpus.iter_lower) # Single-use generator\n",
    "model = TfidfModel(bow_corpus)\n",
    "model.save('models/tfidf-lower-model')"
   ]
  },
  {
   "cell_type": "code",
   "execution_count": 34,
   "metadata": {},
   "outputs": [
    {
     "data": {
      "text/plain": [
       "769"
      ]
     },
     "execution_count": 34,
     "metadata": {},
     "output_type": "execute_result"
    }
   ],
   "source": [
    "dct.token2id['Enlightenment']"
   ]
  },
  {
   "cell_type": "code",
   "execution_count": 40,
   "metadata": {},
   "outputs": [
    {
     "data": {
      "text/plain": [
       "'foo'"
      ]
     },
     "execution_count": 40,
     "metadata": {},
     "output_type": "execute_result"
    }
   ],
   "source": [
    "'FOO'.lower()"
   ]
  },
  {
   "cell_type": "markdown",
   "metadata": {},
   "source": [
    "## Have a look at topic model"
   ]
  },
  {
   "cell_type": "code",
   "execution_count": 15,
   "metadata": {},
   "outputs": [],
   "source": [
    "from gensim.models import LdaModel\n",
    "model = LdaModel.load('models/corpus-lower-lda')"
   ]
  },
  {
   "cell_type": "code",
   "execution_count": 16,
   "metadata": {},
   "outputs": [],
   "source": [
    "from gensim.corpora import Dictionary\n",
    "corp_dict = Dictionary.load('models/corpus-lower-dct')"
   ]
  },
  {
   "cell_type": "code",
   "execution_count": 17,
   "metadata": {},
   "outputs": [
    {
     "name": "stdout",
     "output_type": "stream",
     "text": [
      "Corpus loaded from data/whole-corpus.p\n"
     ]
    }
   ],
   "source": [
    "from utils import JSTORCorpus\n",
    "corpus = JSTORCorpus.load('data/whole-corpus.p')"
   ]
  },
  {
   "cell_type": "code",
   "execution_count": 18,
   "metadata": {},
   "outputs": [],
   "source": [
    "def get_word_topics(model, dct, word):\n",
    "    idx = dct.token2id[word]\n",
    "    return model.get_term_topics(idx)\n",
    "\n",
    "def show_topics(model, dct, topics):\n",
    "    pass"
   ]
  },
  {
   "cell_type": "code",
   "execution_count": 19,
   "metadata": {},
   "outputs": [],
   "source": [
    "rom_tpx = get_word_topics(model, corp_dict, 'romantic')"
   ]
  },
  {
   "cell_type": "code",
   "execution_count": 34,
   "metadata": {},
   "outputs": [],
   "source": [
    "model.id2word = corp_dict"
   ]
  },
  {
   "cell_type": "markdown",
   "metadata": {},
   "source": [
    "## What about the tf-idf model"
   ]
  },
  {
   "cell_type": "code",
   "execution_count": 24,
   "metadata": {},
   "outputs": [],
   "source": [
    "from gensim.models import TfidfModel\n",
    "tfidf = TfidfModel.load('models/corpus-lower-tfidf')"
   ]
  },
  {
   "cell_type": "code",
   "execution_count": 83,
   "metadata": {},
   "outputs": [
    {
     "data": {
      "application/vnd.jupyter.widget-view+json": {
       "model_id": "314c4cfa756f4b338cb153e7fc5b1c0a",
       "version_major": 2,
       "version_minor": 0
      },
      "text/plain": [
       "HBox(children=(IntProgress(value=0, max=44802), HTML(value='')))"
      ]
     },
     "metadata": {},
     "output_type": "display_data"
    },
    {
     "name": "stdout",
     "output_type": "stream",
     "text": [
      "\n"
     ]
    }
   ],
   "source": [
    "from tqdm.notebook import tqdm\n",
    "# Apply the model to the corpus:\n",
    "bow_corpus = (corp_dict.doc2bow(text) for text in corpus.iter_lower())\n",
    "romantic_scores = []\n",
    "rom_idx = corp_dict.token2id['romantic']\n",
    "for text in tqdm(bow_corpus, total=len(corpus)):\n",
    "    # Get the index of 'romantic' in the text (text is a list of tuples of format (word_idx, freq))\n",
    "    # First extract the relevant tuple:\n",
    "    rom_doc_freq = [idx for idx,(word,freq) in enumerate(text) if word == 261]\n",
    "    # Some documents may not have the word 'romantic', in which case give a score of zero\n",
    "    if len(rom_doc_freq) == 0:\n",
    "        romantic_scores.append(0)\n",
    "    else:\n",
    "        # Otherwise, get the index in this doc's BoW to the word 'romantic'.\n",
    "        rom_doc_idx = rom_doc_freq[0]\n",
    "        # Then use the extracted index to index into the output of the model.\n",
    "        # This returns a tup (word_idx, tfidf_score). Extract the score.\n",
    "        rom_doc_score = tfidf[text][rom_doc_idx][1]\n",
    "        # Append:\n",
    "        romantic_scores.append(rom_doc_score)"
   ]
  },
  {
   "cell_type": "code",
   "execution_count": 88,
   "metadata": {},
   "outputs": [
    {
     "data": {
      "image/png": "[encoded data removed]",
      "text/plain": [
       "<Figure size 432x288 with 1 Axes>"
      ]
     },
     "metadata": {
      "needs_background": "light"
     },
     "output_type": "display_data"
    }
   ],
   "source": [
    "import numpy as np\n",
    "from matplotlib import pyplot as plt\n",
    "%matplotlib inline\n",
    "rom_score_arr = np.array(romantic_scores)\n",
    "plt.hist(rom_score_arr, bins=25)\n",
    "plt.show()"
   ]
  },
  {
   "cell_type": "code",
   "execution_count": 102,
   "metadata": {},
   "outputs": [],
   "source": [
    "import pandas as pd\n",
    "df = pd.DataFrame.from_records((val for val in corpus.corpus_meta.values()))\n",
    "df['rom_score'] = rom_score_arr"
   ]
  },
  {
   "cell_type": "code",
   "execution_count": 105,
   "metadata": {},
   "outputs": [
    {
     "data": {
      "text/plain": [
       "(array([40108,  2850,  1017,   456,   193,   106,    33,    19,    12,\n",
       "            8]),\n",
       " array([0.        , 0.0161959 , 0.0323918 , 0.04858771, 0.06478361,\n",
       "        0.08097951, 0.09717541, 0.11337131, 0.12956722, 0.14576312,\n",
       "        0.16195902]))"
      ]
     },
     "execution_count": 105,
     "metadata": {},
     "output_type": "execute_result"
    }
   ],
   "source": [
    "np.histogram(rom_score_arr)"
   ]
  },
  {
   "cell_type": "code",
   "execution_count": 119,
   "metadata": {},
   "outputs": [
    {
     "data": {
      "text/html": [
       "<div>\n",
       "<style scoped>\n",
       "    .dataframe tbody tr th:only-of-type {\n",
       "        vertical-align: middle;\n",
       "    }\n",
       "\n",
       "    .dataframe tbody tr th {\n",
       "        vertical-align: top;\n",
       "    }\n",
       "\n",
       "    .dataframe thead th {\n",
       "        text-align: right;\n",
       "    }\n",
       "</style>\n",
       "<table border=\"1\" class=\"dataframe\">\n",
       "  <thead>\n",
       "    <tr style=\"text-align: right;\">\n",
       "      <th></th>\n",
       "      <th>type</th>\n",
       "      <th>title</th>\n",
       "      <th>year</th>\n",
       "      <th>part-of</th>\n",
       "      <th>rom_score</th>\n",
       "    </tr>\n",
       "  </thead>\n",
       "  <tbody>\n",
       "    <tr>\n",
       "      <td>11845</td>\n",
       "      <td>research-article</td>\n",
       "      <td>The Literary Essay: An Endangered Species?</td>\n",
       "      <td>1997</td>\n",
       "      <td>NaN</td>\n",
       "      <td>0.000000</td>\n",
       "    </tr>\n",
       "    <tr>\n",
       "      <td>39588</td>\n",
       "      <td>research-article</td>\n",
       "      <td>Reading Doris Lessing</td>\n",
       "      <td>1979</td>\n",
       "      <td>NaN</td>\n",
       "      <td>0.002453</td>\n",
       "    </tr>\n",
       "    <tr>\n",
       "      <td>9795</td>\n",
       "      <td>research-article</td>\n",
       "      <td>Sex, Flippancy, Autobiography: Existential Pal...</td>\n",
       "      <td>2010</td>\n",
       "      <td>NaN</td>\n",
       "      <td>0.001967</td>\n",
       "    </tr>\n",
       "    <tr>\n",
       "      <td>12</td>\n",
       "      <td>research-article</td>\n",
       "      <td>The Indebtedness of Madame de Staël to August ...</td>\n",
       "      <td>1911</td>\n",
       "      <td>NaN</td>\n",
       "      <td>0.011133</td>\n",
       "    </tr>\n",
       "    <tr>\n",
       "      <td>30064</td>\n",
       "      <td>research-article</td>\n",
       "      <td>Rethinking the Value of Lyric Closure: Giorgio...</td>\n",
       "      <td>2011</td>\n",
       "      <td>NaN</td>\n",
       "      <td>0.000000</td>\n",
       "    </tr>\n",
       "    <tr>\n",
       "      <td>35715</td>\n",
       "      <td>research-article</td>\n",
       "      <td>In Search of an Ireland in the Orient: Tom Moo...</td>\n",
       "      <td>2008</td>\n",
       "      <td>NaN</td>\n",
       "      <td>0.003155</td>\n",
       "    </tr>\n",
       "    <tr>\n",
       "      <td>42154</td>\n",
       "      <td>research-article</td>\n",
       "      <td>DISSONANCE AND DIGRESSION: THE ILLFITTING FUSI...</td>\n",
       "      <td>1971</td>\n",
       "      <td>NaN</td>\n",
       "      <td>0.011394</td>\n",
       "    </tr>\n",
       "    <tr>\n",
       "      <td>28306</td>\n",
       "      <td>research-article</td>\n",
       "      <td>Letters to the Editor</td>\n",
       "      <td>2008</td>\n",
       "      <td>NaN</td>\n",
       "      <td>0.000000</td>\n",
       "    </tr>\n",
       "    <tr>\n",
       "      <td>9849</td>\n",
       "      <td>research-article</td>\n",
       "      <td>FROM THE CONFESSIONAL HOLE TO THE TECHNO-EROTI...</td>\n",
       "      <td>2006</td>\n",
       "      <td>NaN</td>\n",
       "      <td>0.004020</td>\n",
       "    </tr>\n",
       "    <tr>\n",
       "      <td>41570</td>\n",
       "      <td>research-article</td>\n",
       "      <td>Apostrophe in Life and in Romantic Art: Everyd...</td>\n",
       "      <td>2002</td>\n",
       "      <td>NaN</td>\n",
       "      <td>0.006867</td>\n",
       "    </tr>\n",
       "    <tr>\n",
       "      <td>40843</td>\n",
       "      <td>research-article</td>\n",
       "      <td>On Teaching College German</td>\n",
       "      <td>1954</td>\n",
       "      <td>NaN</td>\n",
       "      <td>0.000000</td>\n",
       "    </tr>\n",
       "    <tr>\n",
       "      <td>19923</td>\n",
       "      <td>research-article</td>\n",
       "      <td>Messages of Black Birds</td>\n",
       "      <td>1993</td>\n",
       "      <td>NaN</td>\n",
       "      <td>0.000000</td>\n",
       "    </tr>\n",
       "    <tr>\n",
       "      <td>38522</td>\n",
       "      <td>research-article</td>\n",
       "      <td>Response: American Fiction</td>\n",
       "      <td>1980</td>\n",
       "      <td>NaN</td>\n",
       "      <td>0.000000</td>\n",
       "    </tr>\n",
       "    <tr>\n",
       "      <td>19543</td>\n",
       "      <td>research-article</td>\n",
       "      <td>THE EIGHTEENTH CENTURY</td>\n",
       "      <td>1977</td>\n",
       "      <td>NaN</td>\n",
       "      <td>0.000388</td>\n",
       "    </tr>\n",
       "    <tr>\n",
       "      <td>35314</td>\n",
       "      <td>research-article</td>\n",
       "      <td>LITERATURE, 1823—1898</td>\n",
       "      <td>1980</td>\n",
       "      <td>NaN</td>\n",
       "      <td>0.008977</td>\n",
       "    </tr>\n",
       "    <tr>\n",
       "      <td>5542</td>\n",
       "      <td>research-article</td>\n",
       "      <td>IRISH PAINTER: JACK B. YEATS</td>\n",
       "      <td>1952</td>\n",
       "      <td>NaN</td>\n",
       "      <td>0.000000</td>\n",
       "    </tr>\n",
       "    <tr>\n",
       "      <td>38427</td>\n",
       "      <td>research-article</td>\n",
       "      <td>Richardson and Rousseau</td>\n",
       "      <td>1896</td>\n",
       "      <td>NaN</td>\n",
       "      <td>0.001596</td>\n",
       "    </tr>\n",
       "    <tr>\n",
       "      <td>35294</td>\n",
       "      <td>research-article</td>\n",
       "      <td>AESTHETICS AND / OR POLITICS: EZRA POUND'S LAT...</td>\n",
       "      <td>1979</td>\n",
       "      <td>NaN</td>\n",
       "      <td>0.000000</td>\n",
       "    </tr>\n",
       "    <tr>\n",
       "      <td>21246</td>\n",
       "      <td>research-article</td>\n",
       "      <td>Fallen Love: Eros and Ta'wīl in the Poetry of ...</td>\n",
       "      <td>2013</td>\n",
       "      <td>NaN</td>\n",
       "      <td>0.000000</td>\n",
       "    </tr>\n",
       "    <tr>\n",
       "      <td>5679</td>\n",
       "      <td>research-article</td>\n",
       "      <td>LITERATURE, 1830–1880</td>\n",
       "      <td>1999</td>\n",
       "      <td>NaN</td>\n",
       "      <td>0.000000</td>\n",
       "    </tr>\n",
       "    <tr>\n",
       "      <td>42767</td>\n",
       "      <td>research-article</td>\n",
       "      <td>The Illness of the Passionate Pilgrim</td>\n",
       "      <td>1988</td>\n",
       "      <td>NaN</td>\n",
       "      <td>0.004193</td>\n",
       "    </tr>\n",
       "    <tr>\n",
       "      <td>19799</td>\n",
       "      <td>research-article</td>\n",
       "      <td>Novels, Newspapers, and Global War: New Realis...</td>\n",
       "      <td>2012</td>\n",
       "      <td>NaN</td>\n",
       "      <td>0.002439</td>\n",
       "    </tr>\n",
       "    <tr>\n",
       "      <td>39024</td>\n",
       "      <td>research-article</td>\n",
       "      <td>Yeat's \"Sailing to Byzantium\"</td>\n",
       "      <td>1955</td>\n",
       "      <td>NaN</td>\n",
       "      <td>0.000000</td>\n",
       "    </tr>\n",
       "    <tr>\n",
       "      <td>14696</td>\n",
       "      <td>research-article</td>\n",
       "      <td>What Made Freneau the Father of American Poetry?</td>\n",
       "      <td>1929</td>\n",
       "      <td>NaN</td>\n",
       "      <td>0.010429</td>\n",
       "    </tr>\n",
       "    <tr>\n",
       "      <td>40883</td>\n",
       "      <td>research-article</td>\n",
       "      <td>Doctoral Degrees Granted in Foreign Languages ...</td>\n",
       "      <td>2005</td>\n",
       "      <td>NaN</td>\n",
       "      <td>0.002924</td>\n",
       "    </tr>\n",
       "    <tr>\n",
       "      <td>1421</td>\n",
       "      <td>research-article</td>\n",
       "      <td>John Barth's \"Letters\": History, Representatio...</td>\n",
       "      <td>1988</td>\n",
       "      <td>NaN</td>\n",
       "      <td>0.001869</td>\n",
       "    </tr>\n",
       "    <tr>\n",
       "      <td>29689</td>\n",
       "      <td>research-article</td>\n",
       "      <td>The Radical Teacher in Our Discipline</td>\n",
       "      <td>1972</td>\n",
       "      <td>NaN</td>\n",
       "      <td>0.002903</td>\n",
       "    </tr>\n",
       "    <tr>\n",
       "      <td>22964</td>\n",
       "      <td>research-article</td>\n",
       "      <td>THE FIGHT AGAINST FANTASY: IRIS MURDOCH'S \"THE...</td>\n",
       "      <td>1969</td>\n",
       "      <td>NaN</td>\n",
       "      <td>0.005930</td>\n",
       "    </tr>\n",
       "    <tr>\n",
       "      <td>20759</td>\n",
       "      <td>research-article</td>\n",
       "      <td>\"Between Two Worlds\": The Structure of the Arg...</td>\n",
       "      <td>1993</td>\n",
       "      <td>NaN</td>\n",
       "      <td>0.010651</td>\n",
       "    </tr>\n",
       "    <tr>\n",
       "      <td>15012</td>\n",
       "      <td>research-article</td>\n",
       "      <td>Keats and the Performance of Gender</td>\n",
       "      <td>1995</td>\n",
       "      <td>NaN</td>\n",
       "      <td>0.002635</td>\n",
       "    </tr>\n",
       "  </tbody>\n",
       "</table>\n",
       "</div>"
      ],
      "text/plain": [
       "                   type                                              title  \\\n",
       "11845  research-article         The Literary Essay: An Endangered Species?   \n",
       "39588  research-article                              Reading Doris Lessing   \n",
       "9795   research-article  Sex, Flippancy, Autobiography: Existential Pal...   \n",
       "12     research-article  The Indebtedness of Madame de Staël to August ...   \n",
       "30064  research-article  Rethinking the Value of Lyric Closure: Giorgio...   \n",
       "35715  research-article  In Search of an Ireland in the Orient: Tom Moo...   \n",
       "42154  research-article  DISSONANCE AND DIGRESSION: THE ILLFITTING FUSI...   \n",
       "28306  research-article                              Letters to the Editor   \n",
       "9849   research-article  FROM THE CONFESSIONAL HOLE TO THE TECHNO-EROTI...   \n",
       "41570  research-article  Apostrophe in Life and in Romantic Art: Everyd...   \n",
       "40843  research-article                         On Teaching College German   \n",
       "19923  research-article                            Messages of Black Birds   \n",
       "38522  research-article                         Response: American Fiction   \n",
       "19543  research-article                             THE EIGHTEENTH CENTURY   \n",
       "35314  research-article                              LITERATURE, 1823—1898   \n",
       "5542   research-article                       IRISH PAINTER: JACK B. YEATS   \n",
       "38427  research-article                            Richardson and Rousseau   \n",
       "35294  research-article  AESTHETICS AND / OR POLITICS: EZRA POUND'S LAT...   \n",
       "21246  research-article  Fallen Love: Eros and Ta'wīl in the Poetry of ...   \n",
       "5679   research-article                              LITERATURE, 1830–1880   \n",
       "42767  research-article              The Illness of the Passionate Pilgrim   \n",
       "19799  research-article  Novels, Newspapers, and Global War: New Realis...   \n",
       "39024  research-article                      Yeat's \"Sailing to Byzantium\"   \n",
       "14696  research-article   What Made Freneau the Father of American Poetry?   \n",
       "40883  research-article  Doctoral Degrees Granted in Foreign Languages ...   \n",
       "1421   research-article  John Barth's \"Letters\": History, Representatio...   \n",
       "29689  research-article              The Radical Teacher in Our Discipline   \n",
       "22964  research-article  THE FIGHT AGAINST FANTASY: IRIS MURDOCH'S \"THE...   \n",
       "20759  research-article  \"Between Two Worlds\": The Structure of the Arg...   \n",
       "15012  research-article                Keats and the Performance of Gender   \n",
       "\n",
       "       year part-of  rom_score  \n",
       "11845  1997     NaN   0.000000  \n",
       "39588  1979     NaN   0.002453  \n",
       "9795   2010     NaN   0.001967  \n",
       "12     1911     NaN   0.011133  \n",
       "30064  2011     NaN   0.000000  \n",
       "35715  2008     NaN   0.003155  \n",
       "42154  1971     NaN   0.011394  \n",
       "28306  2008     NaN   0.000000  \n",
       "9849   2006     NaN   0.004020  \n",
       "41570  2002     NaN   0.006867  \n",
       "40843  1954     NaN   0.000000  \n",
       "19923  1993     NaN   0.000000  \n",
       "38522  1980     NaN   0.000000  \n",
       "19543  1977     NaN   0.000388  \n",
       "35314  1980     NaN   0.008977  \n",
       "5542   1952     NaN   0.000000  \n",
       "38427  1896     NaN   0.001596  \n",
       "35294  1979     NaN   0.000000  \n",
       "21246  2013     NaN   0.000000  \n",
       "5679   1999     NaN   0.000000  \n",
       "42767  1988     NaN   0.004193  \n",
       "19799  2012     NaN   0.002439  \n",
       "39024  1955     NaN   0.000000  \n",
       "14696  1929     NaN   0.010429  \n",
       "40883  2005     NaN   0.002924  \n",
       "1421   1988     NaN   0.001869  \n",
       "29689  1972     NaN   0.002903  \n",
       "22964  1969     NaN   0.005930  \n",
       "20759  1993     NaN   0.010651  \n",
       "15012  1995     NaN   0.002635  "
      ]
     },
     "execution_count": 119,
     "metadata": {},
     "output_type": "execute_result"
    }
   ],
   "source": [
    "df[(df['rom_score'] < 0.016) & (df['type'] == 'research-article')].sample(30)"
   ]
  },
  {
   "cell_type": "markdown",
   "metadata": {},
   "source": [
    "We can use this tf-idf model to identify a subset of the corpus where the articles *really* talk about Romanticism. It would be better to search for more terms than 'romantic', however, as I notice that many documents at the lower end of the distribution are actually about Romantic authors like Wordsworth, Byron, Blake and so on.\n",
    "\n",
    "Perhaps we could actually analyse the correlation of 'romantic' and its cognates with other words. In an article where 'romantic' is distinctive, what other words are also distinctive?"
   ]
  }
 ],
 "metadata": {
  "kernelspec": {
   "display_name": "Python 3",
   "language": "python",
   "name": "python3"
  },
  "language_info": {
   "codemirror_mode": {
    "name": "ipython",
    "version": 3
   },
   "file_extension": ".py",
   "mimetype": "text/x-python",
   "name": "python",
   "nbconvert_exporter": "python",
   "pygments_lexer": "ipython3",
   "version": "3.6.9"
  }
 },
 "nbformat": 4,
 "nbformat_minor": 2
}
