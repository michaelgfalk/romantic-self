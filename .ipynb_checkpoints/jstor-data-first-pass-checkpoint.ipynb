{
 "cells": [
  {
   "cell_type": "markdown",
   "metadata": {},
   "source": [
    "# Getting to Grips with JSTOR data\n",
    "\n",
    "There is a lot of data in the zip files provided by JSTOR. How to get at it properly?"
   ]
  },
  {
   "cell_type": "code",
   "execution_count": 1,
   "metadata": {},
   "outputs": [],
   "source": [
    "import os\n",
    "import re\n",
    "import time\n",
    "import pickle as p\n",
    "from math import inf\n",
    "\n",
    "from bs4 import BeautifulSoup\n",
    "from tqdm.notebook import tqdm\n",
    "from nltk.tokenize import wordpunct_tokenize\n",
    "\n",
    "from utils import JSTORCorpus"
   ]
  },
  {
   "cell_type": "markdown",
   "metadata": {},
   "source": [
    "## Input pipeline\n",
    "\n",
    "Use the JSTORCorpus class to stream in data from the DfR corpus"
   ]
  },
  {
   "cell_type": "code",
   "execution_count": 2,
   "metadata": {},
   "outputs": [
    {
     "name": "stdout",
     "output_type": "stream",
     "text": [
      "Corpus loaded from data/last-15-years-corpus.p\n"
     ]
    }
   ],
   "source": [
    "corpus = JSTORCorpus.load('data/last-15-years-corpus.p')"
   ]
  },
  {
   "cell_type": "markdown",
   "metadata": {},
   "source": [
    "## Test input pipeline with Gensim\n",
    "\n",
    "Gensim provides several methods for modelling a corpus as a whole. Let's try FastText and word2vec."
   ]
  },
  {
   "cell_type": "markdown",
   "metadata": {},
   "source": [
    "### How Romantic is this corpus?\n",
    "\n",
    "The corpus was constructed by searching for the 'Romanticism' keyword. But it seems there are lots of articles here that aren't actually about Romanticism..."
   ]
  },
  {
   "cell_type": "code",
   "execution_count": 3,
   "metadata": {},
   "outputs": [],
   "source": [
    "import nltk"
   ]
  },
  {
   "cell_type": "code",
   "execution_count": 4,
   "metadata": {},
   "outputs": [
    {
     "data": {
      "application/vnd.jupyter.widget-view+json": {
       "model_id": "98609bfcb0a343569c51d9d0e0ecc5cf",
       "version_major": 2,
       "version_minor": 0
      },
      "text/plain": [
       "HBox(children=(IntProgress(value=0, max=12302), HTML(value='')))"
      ]
     },
     "metadata": {},
     "output_type": "display_data"
    },
    {
     "name": "stdout",
     "output_type": "stream",
     "text": [
      "\n"
     ]
    }
   ],
   "source": [
    "freqs = []\n",
    "for vec in tqdm(corpus):\n",
    "    count = len([word for word in vec if word.lower().startswith('romantic')])\n",
    "    total = len(vec)\n",
    "    freqs.append(count/total*1000)"
   ]
  },
  {
   "cell_type": "code",
   "execution_count": 44,
   "metadata": {},
   "outputs": [
    {
     "data": {
      "image/png": "[encoded data removed]",
      "text/plain": [
       "<Figure size 432x288 with 1 Axes>"
      ]
     },
     "metadata": {
      "needs_background": "light"
     },
     "output_type": "display_data"
    }
   ],
   "source": [
    "from matplotlib import pyplot as plt\n",
    "%matplotlib inline\n",
    "\n",
    "plt.hist(freqs)\n",
    "plt.show()"
   ]
  },
  {
   "cell_type": "markdown",
   "metadata": {},
   "source": [
    "### Find collocations for 'self' in this corpus."
   ]
  },
  {
   "cell_type": "code",
   "execution_count": null,
   "metadata": {},
   "outputs": [],
   "source": [
    "from itertools import chain\n",
    "\n",
    "import nltk\n",
    "from nltk.collocations import BigramCollocationFinder, BigramAssocMeasures\n",
    "\n",
    "# statistical measure for bigrams\n",
    "bigram_measures = BigramAssocMeasures()\n",
    "\n",
    "# Drop ngrams without 'self' as a member\n",
    "self_filter = lambda *w: 'self' not in w\n",
    "\n",
    "# Get top 10 collocates for all the docs in the corpus\n",
    "corpus_chain = chain(*corpus.iter_lower())\n",
    "finder = BigramCollocationFinder.from_words(corpus_chain, window_size=4)\n",
    "finder.apply_ngram_filter(self_filter)"
   ]
  },
  {
   "cell_type": "code",
   "execution_count": 16,
   "metadata": {},
   "outputs": [
    {
     "data": {
      "text/plain": [
       "[('self', '-'),\n",
       " ('of', 'self'),\n",
       " ('self', 'conscious'),\n",
       " ('the', 'self'),\n",
       " ('self', 'consciousness'),\n",
       " ('self', 'consciously'),\n",
       " ('.', 'self'),\n",
       " ('self', 'reflexive'),\n",
       " ('self', 'fashioning'),\n",
       " ('self', 'reliance'),\n",
       " ('a', 'self'),\n",
       " ('self', 'reflexivity'),\n",
       " ('self', 'referential'),\n",
       " ('self', 'sufficiency'),\n",
       " ('self', 'interest'),\n",
       " ('self', 'sacrifice'),\n",
       " ('self', 'evident'),\n",
       " ('self', 'the'),\n",
       " ('self', 'contained'),\n",
       " ('self', 'portrait'),\n",
       " ('self', 'determination'),\n",
       " (',', 'self'),\n",
       " ('s', 'self'),\n",
       " ('self', 'awareness'),\n",
       " ('self', '‐'),\n",
       " ('self', 'representation'),\n",
       " ('and', 'self'),\n",
       " ('self', 'of'),\n",
       " ('self', 'reflection'),\n",
       " ('self', 'serving'),\n",
       " ('self', 'expression'),\n",
       " ('self', 'and'),\n",
       " ('sense', 'self'),\n",
       " ('self', 'definition'),\n",
       " ('self', 'indulgent'),\n",
       " ('self', 'sufficient'),\n",
       " ('self', 'knowledge'),\n",
       " ('self', 'presentation'),\n",
       " ('his', 'self'),\n",
       " ('own', 'self'),\n",
       " ('self', 's'),\n",
       " ('self', 'possession'),\n",
       " ('self', 'destructive'),\n",
       " ('self', 'preservation'),\n",
       " ('self', 'deception'),\n",
       " ('self', 'reliant'),\n",
       " ('self', 'realization'),\n",
       " ('(', 'self'),\n",
       " ('self', 'other'),\n",
       " ('between', 'self'),\n",
       " ('self', 'proclaimed'),\n",
       " ('self', 'assertion'),\n",
       " ('self', 'effacing'),\n",
       " ('self', 'absorption'),\n",
       " ('her', 'self'),\n",
       " ('self', 'esteem'),\n",
       " ('self', 'referentiality'),\n",
       " ('self', 'image'),\n",
       " (';', 'self'),\n",
       " ('self', 'imposed'),\n",
       " ('self', 'destruction'),\n",
       " ('self', 'effacement'),\n",
       " ('self', 'identity'),\n",
       " ('self', 'styled'),\n",
       " ('self', 'indulgence'),\n",
       " ('self', 'control'),\n",
       " ('self', 'denial'),\n",
       " ('de', 'self'),\n",
       " ('self', 'reflective'),\n",
       " ('self', 'help'),\n",
       " ('self', 'understanding'),\n",
       " ('self', 'absorbed'),\n",
       " ('self', 'deprecating'),\n",
       " ('self', 'annihilation'),\n",
       " ('self', 'pity'),\n",
       " ('self', 'sacrificing'),\n",
       " ('self', 'improvement'),\n",
       " ('self', 'creation'),\n",
       " ('self', 'de'),\n",
       " ('self', 'discovery'),\n",
       " ('self', 'defeating'),\n",
       " ('self', 'centered'),\n",
       " ('\"', 'self'),\n",
       " ('self', 'aware'),\n",
       " ('self', 'enclosed'),\n",
       " ('self', 'identification'),\n",
       " ('self', \"'\"),\n",
       " ('autonomous', 'self'),\n",
       " ('self', 'reflexively'),\n",
       " ('self', 'a'),\n",
       " ('self', 'confidence'),\n",
       " ('self', 'abnegation'),\n",
       " ('self', 'interested'),\n",
       " (\"'\", 'self'),\n",
       " ('self', 'examination'),\n",
       " ('self', 'congratulatory'),\n",
       " ('for', 'self'),\n",
       " ('self', 'promotion'),\n",
       " ('self', 'loathing'),\n",
       " ('self', 'regulating'),\n",
       " ('self', 'aggrandizement'),\n",
       " ('self', 'aggrandizing'),\n",
       " ('self', '-)'),\n",
       " ('self', 'defense'),\n",
       " ('self', 'appointed'),\n",
       " ('inner', 'self'),\n",
       " ('self', '.,'),\n",
       " ('self', 'discipline'),\n",
       " ('self', 'delusion'),\n",
       " ('self', 'is'),\n",
       " ('self', 'envelope'),\n",
       " ('act', 'self'),\n",
       " ('self', 'u'),\n",
       " ('self', 'edu'),\n",
       " ('self', 'deprecation'),\n",
       " ('self', 'revelation'),\n",
       " ('edu', 'self'),\n",
       " ('self', 'restraint'),\n",
       " ('individual', 'self'),\n",
       " ('self', 'as'),\n",
       " ('la', 'self'),\n",
       " ('self', 'la'),\n",
       " ('self', 'addressed'),\n",
       " ('self', 'hatred'),\n",
       " ('authentic', 'self'),\n",
       " ('self', 'contradictory'),\n",
       " ('self', 'righteous'),\n",
       " ('self', ').'),\n",
       " ('self', 'actualization'),\n",
       " ('self', 'portraits'),\n",
       " ('self', ','),\n",
       " ('authorial', 'self'),\n",
       " ('self', 'willed'),\n",
       " ('self', '),'),\n",
       " ('self', 'through'),\n",
       " ('self', 'narration'),\n",
       " ('.,', 'self'),\n",
       " ('i', 'self'),\n",
       " ('self', 'disclosure'),\n",
       " ('self', 'inflicted'),\n",
       " ('true', 'self'),\n",
       " ('self', 'sustaining'),\n",
       " ('self', 'in'),\n",
       " ('self', 'doubt'),\n",
       " ('-', 'self'),\n",
       " ('self', 'possessed'),\n",
       " ('p', 'self'),\n",
       " ('self', 'construction'),\n",
       " ('process', 'self'),\n",
       " ('self', 'satisfied'),\n",
       " ('self', 'evidently'),\n",
       " ('),', 'self'),\n",
       " ('self', 'cultivation'),\n",
       " ('self', 'pitying'),\n",
       " ('self', 'eng'),\n",
       " ('self', 'parody'),\n",
       " ('self', 'censorship'),\n",
       " ('self', 'taught'),\n",
       " ('self', 'satisfaction'),\n",
       " ('self', 'representations'),\n",
       " ('self', 'regulation'),\n",
       " ('self', 'invention'),\n",
       " ('self', 'portraiture'),\n",
       " ('self', 'righteousness'),\n",
       " ('self', 'l'),\n",
       " ('its', 'self'),\n",
       " ('self', 'respect'),\n",
       " ('divided', 'self'),\n",
       " ('self', 'his'),\n",
       " ('l', 'self'),\n",
       " ('self', 'projection'),\n",
       " ('self', ';'),\n",
       " ('self', 'fulfillment'),\n",
       " ('him', 'self'),\n",
       " ('self', 'justification'),\n",
       " ('self', 'recognition'),\n",
       " ('private', 'self'),\n",
       " ('poetic', 'self'),\n",
       " ('self', 'et'),\n",
       " ('self', 'assured'),\n",
       " ('self', 'justifying'),\n",
       " ('self', 'alienation'),\n",
       " ('self', 'questioning'),\n",
       " ('et', 'self'),\n",
       " ('c', 'self'),\n",
       " ('self', ',\"'),\n",
       " ('self', 'assurance'),\n",
       " ('self', '.\"'),\n",
       " ('self', 'congratulation'),\n",
       " ('self', 'fulfilling'),\n",
       " ('or', 'self'),\n",
       " ('self', 'to'),\n",
       " ('self', 'identical'),\n",
       " ('self', 'contradiction'),\n",
       " ('self', 'determining'),\n",
       " ('form', 'self'),\n",
       " ('1', 'self'),\n",
       " ('younger', 'self'),\n",
       " ('self', 'perpetuating'),\n",
       " ('loss', 'self')]"
      ]
     },
     "execution_count": 16,
     "metadata": {},
     "output_type": "execute_result"
    }
   ],
   "source": [
    "finder.nbest(n=200, score_fn=bigram_measures.likelihood_ratio)"
   ]
  },
  {
   "cell_type": "code",
   "execution_count": 12,
   "metadata": {},
   "outputs": [
    {
     "data": {
      "text/plain": [
       "[('self', '-'),\n",
       " ('of', 'self'),\n",
       " ('self', 'conscious'),\n",
       " ('the', 'self'),\n",
       " ('self', 'consciousness'),\n",
       " ('self', 'consciously'),\n",
       " ('.', 'self'),\n",
       " ('self', 'reflexive'),\n",
       " ('self', 'fashioning'),\n",
       " ('self', 'reliance'),\n",
       " ('a', 'self'),\n",
       " ('self', 'reflexivity'),\n",
       " ('self', 'referential'),\n",
       " ('self', 'sufficiency'),\n",
       " ('self', 'interest'),\n",
       " ('self', 'sacrifice'),\n",
       " ('self', 'evident'),\n",
       " ('self', 'the'),\n",
       " ('self', 'contained'),\n",
       " ('self', 'portrait')]"
      ]
     },
     "execution_count": 12,
     "metadata": {},
     "output_type": "execute_result"
    }
   ],
   "source": [
    "top_20"
   ]
  },
  {
   "cell_type": "markdown",
   "metadata": {},
   "source": [
    "Why don't we look for trigram collocations, and compare 'self' in the context of 'romantic' to 'self' in other contexts?"
   ]
  },
  {
   "cell_type": "code",
   "execution_count": null,
   "metadata": {},
   "outputs": [],
   "source": [
    "tri_finder = "
   ]
  },
  {
   "cell_type": "code",
   "execution_count": null,
   "metadata": {},
   "outputs": [],
   "source": []
  }
 ],
 "metadata": {
  "kernelspec": {
   "display_name": "Python 3",
   "language": "python",
   "name": "python3"
  },
  "language_info": {
   "codemirror_mode": {
    "name": "ipython",
    "version": 3
   },
   "file_extension": ".py",
   "mimetype": "text/x-python",
   "name": "python",
   "nbconvert_exporter": "python",
   "pygments_lexer": "ipython3",
   "version": "3.6.9"
  }
 },
 "nbformat": 4,
 "nbformat_minor": 2
}
