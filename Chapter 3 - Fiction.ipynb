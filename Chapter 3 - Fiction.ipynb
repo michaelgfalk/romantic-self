{
 "cells": [
  {
   "cell_type": "markdown",
   "metadata": {},
   "source": [
    "# Chapter 3 – Fiction: Growing Down in the Novels of Maria Edgeworth and Amelia Opie\n",
    "\n",
    "According to most scholars, the *Bildungsroman* is the central genre of Romantic fiction. The *Bildungsroman*, at least in its ‘classical’ or Romantic form, is the novel of successful self-formation. The protagonist of the Bildungsroman goes out in the world, develops their personality, and finally settles down. Scholars have constructed a canon around a core of optimistic novels—*Wilhelm Meister’s Apprenticeship* (1795-96), *Pride and Prejudice* (1813), *Waverley* (1814)—whose protagonists successfully go out into the world and find a place within it. In such *Bildungsromane*, the protagonist is both free and constrained. They pursue their inclinations while fulfilling their duties. They express their individuality while conforming to the social order. They achieve a ‘balance of harmony with freedom’, as Karl Morgenstern put it in a classic essay from 1820.\n",
    "\n",
    "In this Chapter, I consider two novels that contradict the concept of the *Bildungsroman*. In Amelia Opie’s *Adeline Mowbray* (1804) and Maria Edgeworth’s *Vivian* (1812), there is no balance between individuality and the social order, between freedom and harmony, between autonomy and authority. To show that these novels were not mere outliers in the period, I analyse them as part of a corpus of 40 novels from the period, including a mixture of classic *Bildungsromane* such as *Camilla* (1796), *Marriage* (1818) and *The Old Manor House* (1793), American network novels such as *Arthur Mervyn* (1799), *The Coquette* (1797) and *Hobomok* (1824), as well as a number of Gothic, Jacobin, Anti-Jacobin, Historical and National Novels. The [files](data/novel-corpus/) and [metadata](data/novel-corpus/manifest.json) can be found in this repository, with the exception of 5 files, identified in the metadata, which are under copyright.\n",
    "\n",
    "In this Notebook, I generate the tables and figures that can be found in Chapter 3 of *Contingent Selves: Romanticism and the Challenge of Representation*."
   ]
  },
  {
   "cell_type": "code",
   "execution_count": 1,
   "metadata": {},
   "outputs": [],
   "source": [
    "from collections import Counter\n",
    "\n",
    "from romanticself import NovelCorpus, TargetedBigramAssocFinder\n",
    "from nltk.tokenize import wordpunct_tokenize, word_tokenize\n",
    "from tqdm.notebook import tqdm\n",
    "\n",
    "import pandas as pd"
   ]
  },
  {
   "cell_type": "code",
   "execution_count": 2,
   "metadata": {},
   "outputs": [
    {
     "name": "stdout",
     "output_type": "stream",
     "text": [
      "40 novels imported from data/novel-corpus:\n"
     ]
    }
   ],
   "source": [
    "corpus = NovelCorpus(\"data/novel-corpus\", tokenizer=word_tokenize)"
   ]
  },
  {
   "cell_type": "markdown",
   "metadata": {},
   "source": [
    "## 3.1: Unnecessary Beings"
   ]
  },
  {
   "cell_type": "code",
   "execution_count": 4,
   "metadata": {},
   "outputs": [],
   "source": [
    "# Words hyphenated with 'self'\n",
    "def count_compound_words(corpus, stem=\"self-\", relative=True):\n",
    "    \"\"\"Count relative frequencies of words beginning with given stem in corpus.\n",
    "    \n",
    "    Arguments:\n",
    "    - corpus (iterable): iterable of tokenised texts\n",
    "    - stem (str): words must begin with this stem to be counted\n",
    "    - relative (bool): divide frequencies by word length of each text?\"\"\"\n",
    "\n",
    "    compound_words = []\n",
    "\n",
    "    for novel in tqdm(corpus, total=len(corpus)):\n",
    "        counts = Counter()\n",
    "        for word in novel:\n",
    "            if word.startswith(stem):\n",
    "                counts[word] += 1\n",
    "\n",
    "        if relative == True:\n",
    "            wc = len(novel)\n",
    "            counts = {word:(count/wc * 1000) for word,count in counts.items()}\n",
    "\n",
    "        compound_words.append(counts)\n",
    "\n",
    "    return compound_words"
   ]
  },
  {
   "cell_type": "code",
   "execution_count": null,
   "metadata": {},
   "outputs": [],
   "source": []
  }
 ],
 "metadata": {
  "kernelspec": {
   "display_name": "Python 3",
   "language": "python",
   "name": "python3"
  },
  "language_info": {
   "codemirror_mode": {
    "name": "ipython",
    "version": 3
   },
   "file_extension": ".py",
   "mimetype": "text/x-python",
   "name": "python",
   "nbconvert_exporter": "python",
   "pygments_lexer": "ipython3",
   "version": "3.8.3"
  }
 },
 "nbformat": 4,
 "nbformat_minor": 2
}
