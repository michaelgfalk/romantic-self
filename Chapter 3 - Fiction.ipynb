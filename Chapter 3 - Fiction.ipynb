{
 "cells": [
  {
   "cell_type": "markdown",
   "metadata": {},
   "source": [
    "# Chapter 3 – Fiction: Growing Down in the Novels of Maria Edgeworth and Amelia Opie\n",
    "\n",
    "According to most scholars, the *Bildungsroman* is the central genre of Romantic fiction. The *Bildungsroman*, at least in its ‘classical’ or Romantic form, is the novel of successful self-formation. The protagonist of the Bildungsroman goes out in the world, develops their personality, and finally settles down. Scholars have constructed a canon around a core of optimistic novels—*Wilhelm Meister’s Apprenticeship* (1795-96), *Pride and Prejudice* (1813), *Waverley* (1814)—whose protagonists successfully go out into the world and find a place within it. In such *Bildungsromane*, the protagonist is both free and constrained. They pursue their inclinations while fulfilling their duties. They express their individuality while conforming to the social order. They achieve a ‘balance of harmony with freedom’, as Karl Morgenstern put it in a classic essay from 1820.\n",
    "\n",
    "In this Chapter, I consider two novels that contradict the concept of the *Bildungsroman*. In Amelia Opie’s *Adeline Mowbray* (1804) and Maria Edgeworth’s *Vivian* (1812), there is no balance between individuality and the social order, between freedom and harmony, between autonomy and authority. To show that these novels were not mere outliers in the period, I analyse them as part of a corpus of 40 novels from the period, including a mixture of classic *Bildungsromane* such as *Camilla* (1796), *Marriage* (1818) and *The Old Manor House* (1793), American network novels such as *Arthur Mervyn* (1799), *The Coquette* (1797) and *Hobomok* (1824), as well as a number of Gothic, Jacobin, Anti-Jacobin, Historical and National Novels. The [files](data/novel-corpus/) and [metadata](data/novel-corpus/manifest.json) can be found in this repository, with the exception of 5 files, identified in the metadata, which are under copyright.\n",
    "\n",
    "In this Notebook, I generate the tables and figures that can be found in Chapter 3 of *Contingent Selves: Romanticism and the Challenge of Representation*."
   ]
  },
  {
   "cell_type": "code",
   "execution_count": 1,
   "metadata": {},
   "outputs": [],
   "source": [
    "from collections import Counter\n",
    "from itertools import zip_longest, chain\n",
    "import re\n",
    "\n",
    "from romanticself import *\n",
    "from nltk import wordpunct_tokenize, word_tokenize, pos_tag\n",
    "from nltk.corpus import stopwords\n",
    "from tqdm.notebook import tqdm\n",
    "\n",
    "import pandas as pd\n",
    "import numpy as np\n",
    "import igraph as ig\n",
    "import nltk"
   ]
  },
  {
   "cell_type": "code",
   "execution_count": 2,
   "metadata": {},
   "outputs": [
    {
     "name": "stderr",
     "output_type": "stream",
     "text": [
      "[nltk_data] Downloading package punkt to\n",
      "[nltk_data]     /Users/michaelgfalk/nltk_data...\n",
      "[nltk_data]   Package punkt is already up-to-date!\n",
      "[nltk_data] Downloading package tagsets to\n",
      "[nltk_data]     /Users/michaelgfalk/nltk_data...\n",
      "[nltk_data]   Package tagsets is already up-to-date!\n",
      "[nltk_data] Downloading package stopwords to\n",
      "[nltk_data]     /Users/michaelgfalk/nltk_data...\n",
      "[nltk_data]   Package stopwords is already up-to-date!\n",
      "[nltk_data] Downloading package averaged_perceptron_tagger to\n",
      "[nltk_data]     /Users/michaelgfalk/nltk_data...\n",
      "[nltk_data]   Package averaged_perceptron_tagger is already up-to-\n",
      "[nltk_data]       date!\n"
     ]
    },
    {
     "data": {
      "text/plain": [
       "True"
      ]
     },
     "execution_count": 2,
     "metadata": {},
     "output_type": "execute_result"
    }
   ],
   "source": [
    "# For tokenizers\n",
    "nltk.download('punkt')\n",
    "nltk.download('tagsets')\n",
    "nltk.download('stopwords')\n",
    "nltk.download('averaged_perceptron_tagger')"
   ]
  },
  {
   "cell_type": "code",
   "execution_count": 3,
   "metadata": {},
   "outputs": [
    {
     "name": "stdout",
     "output_type": "stream",
     "text": [
      "40 novels imported from data/novel-corpus.\n"
     ]
    }
   ],
   "source": [
    "corpus = NovelCorpus(\"data/novel-corpus\", tokenizer=word_tokenize)"
   ]
  },
  {
   "cell_type": "markdown",
   "metadata": {},
   "source": [
    "## 3.1: Character: Unnecessary Beings"
   ]
  },
  {
   "cell_type": "markdown",
   "metadata": {},
   "source": [
    "### Figure 3.1 Self-control was a central theme in Romantic fiction"
   ]
  },
  {
   "cell_type": "code",
   "execution_count": 4,
   "metadata": {},
   "outputs": [],
   "source": [
    "def count_compound_words(corpus, stem, relative=True):\n",
    "    \"\"\"Count relative frequencies of words beginning with given stem in corpus.\n",
    "    \n",
    "    Arguments:\n",
    "    - corpus (iterable): iterable of tokenised texts\n",
    "    - stem (str): words must begin with this stem to be counted\n",
    "    - relative (bool): divide frequencies by word length of each text?\"\"\"\n",
    "\n",
    "    compound_words = []\n",
    "\n",
    "    for novel in tqdm(corpus, total=len(corpus)):\n",
    "        counts = Counter()\n",
    "        for word in novel:\n",
    "            if word.startswith(stem):\n",
    "                counts[word] += 1\n",
    "\n",
    "        if relative == True:\n",
    "            wc = len(novel)\n",
    "            counts = {word:(count/wc * 1000) for word,count in counts.items()}\n",
    "\n",
    "        compound_words.append(counts)\n",
    "    \n",
    "    data_frame = pd.DataFrame.from_dict(compound_words)\n",
    "    data_frame[\"title\"] = [title[0] for title in corpus.yield_metadata(\"short_title\")]\n",
    "    data_frame.set_index(\"title\", inplace=True)\n",
    "    data_frame.fillna(0, inplace=True)\n",
    "\n",
    "    return data_frame"
   ]
  },
  {
   "cell_type": "code",
   "execution_count": 5,
   "metadata": {},
   "outputs": [
    {
     "data": {
      "application/vnd.jupyter.widget-view+json": {
       "model_id": "1710dd8e409e4c0e88254dce00ed973b",
       "version_major": 2,
       "version_minor": 0
      },
      "text/plain": [
       "  0%|          | 0/40 [00:00<?, ?it/s]"
      ]
     },
     "metadata": {},
     "output_type": "display_data"
    }
   ],
   "source": [
    "self_compounds = count_compound_words(corpus, stem=\"self-\")"
   ]
  },
  {
   "cell_type": "code",
   "execution_count": 6,
   "metadata": {},
   "outputs": [],
   "source": [
    "def compound_words_output(compound_words, topn=20, tocsv=False, novels=list()):\n",
    "    \"\"\"Extracts readable output of compound_words function.\n",
    "    \n",
    "    Arguments:\n",
    "    - compound_words (pd.DataFrame): output of count_compound_words\n",
    "    - topn (int): maximum number of words to show in table\n",
    "    - tocsv (str): csv to save results to. Pass False to avoid\n",
    "    - novels (iterable): titles of the novels to be included in output\"\"\"\n",
    "\n",
    "    results = dict()\n",
    "    \n",
    "    # Results for each novel\n",
    "    for novel in novels:\n",
    "        # Get frequencies for that novel\n",
    "        novel_result = compound_words.loc[novel].sort_values(ascending=False)\n",
    "        # Filter out compounds that don't appear\n",
    "        novel_result = novel_result[novel_result > 0]\n",
    "        # Convert to list and append\n",
    "        results[novel] = list(zip(novel_result.index, novel_result))\n",
    "\n",
    "    # Corpus statistics\n",
    "    corpus_means = compound_words.mean().sort_values(ascending=False)[:topn]\n",
    "    results[\"Corpus\"] = list(zip(corpus_means.index,corpus_means))\n",
    "    \n",
    "    # Save to csv\n",
    "    if tocsv:\n",
    "        with open(tocsv, \"wt\") as file:\n",
    "            first_row = \",values,\".join(results) + \",values\\n\"\n",
    "            file.write(first_row)\n",
    "            for row in zip_longest(*results.values(), fillvalue=\",\"):\n",
    "                row_str = \",\".join(str(val) for val in chain(*row)) + \"\\n\"\n",
    "                file.write(row_str)\n",
    "\n",
    "    return results"
   ]
  },
  {
   "cell_type": "code",
   "execution_count": 7,
   "metadata": {},
   "outputs": [],
   "source": [
    "figure_3_1_data = compound_words_output(compound_words=self_compounds, topn=20, tocsv=\"figures/figure_3_1.csv\", \n",
    "                                        novels=[\"Vivian\", \"Adeline Mowbray\"])"
   ]
  },
  {
   "cell_type": "code",
   "execution_count": 8,
   "metadata": {},
   "outputs": [
    {
     "data": {
      "text/plain": [
       "[('self-love', 0.034636832808008035),\n",
       " ('self-willed', 0.023091221872005355),\n",
       " ('self-reproach', 0.023091221872005355),\n",
       " ('self-esteem', 0.023091221872005355),\n",
       " ('self-possession', 0.023091221872005355),\n",
       " ('self-confidence', 0.011545610936002678),\n",
       " ('self-complacency', 0.011545610936002678),\n",
       " ('self-interest', 0.011545610936002678),\n",
       " ('self-condemned', 0.011545610936002678),\n",
       " ('self-delusion', 0.011545610936002678),\n",
       " ('self-command', 0.011545610936002678)]"
      ]
     },
     "execution_count": 8,
     "metadata": {},
     "output_type": "execute_result"
    }
   ],
   "source": [
    "figure_3_1_data[\"Vivian\"]"
   ]
  },
  {
   "cell_type": "code",
   "execution_count": 9,
   "metadata": {},
   "outputs": [
    {
     "data": {
      "text/plain": [
       "[('self-love', 0.11361376998892267),\n",
       " ('self-command', 0.07574251332594843),\n",
       " ('self-denial', 0.04733907082871777),\n",
       " ('self-condemned', 0.028403442497230667),\n",
       " ('self-reproach', 0.028403442497230667),\n",
       " ('self-upbraidings', 0.028403442497230667),\n",
       " ('self-reproaches', 0.028403442497230667),\n",
       " ('self-congratulations', 0.018935628331487108),\n",
       " ('self-condemnation', 0.018935628331487108),\n",
       " ('self-possession', 0.009467814165743554),\n",
       " ('self-denials', 0.009467814165743554),\n",
       " ('self-conceit', 0.009467814165743554),\n",
       " ('self-upbraiding', 0.009467814165743554),\n",
       " ('self-abasement', 0.009467814165743554)]"
      ]
     },
     "execution_count": 9,
     "metadata": {},
     "output_type": "execute_result"
    }
   ],
   "source": [
    "figure_3_1_data[\"Adeline Mowbray\"]"
   ]
  },
  {
   "cell_type": "code",
   "execution_count": 10,
   "metadata": {},
   "outputs": [
    {
     "data": {
      "text/plain": [
       "[('self-love', 0.010329982810622279),\n",
       " ('self-command', 0.009571589057540682),\n",
       " ('self-denial', 0.009155261736731804),\n",
       " ('self-reproach', 0.007151002072696255),\n",
       " ('self-possession', 0.006056117143863439),\n",
       " ('self-complacency', 0.0025995896685862712),\n",
       " ('self-will', 0.002595884438243359),\n",
       " ('self-willed', 0.002586800861606716),\n",
       " ('self-approbation', 0.0025494232784229417),\n",
       " ('self-denying', 0.0025322301781799295),\n",
       " ('self-respect', 0.0024264560544763414),\n",
       " ('self-interest', 0.0024258726522881405),\n",
       " ('self-conceit', 0.0022107510203603358),\n",
       " ('self-condemnation', 0.0021953228381445334),\n",
       " ('self-preservation', 0.0019320828100202595),\n",
       " ('self-reproaches', 0.0018302385216697067),\n",
       " ('self-importance', 0.001824960140229312),\n",
       " ('self-satisfied', 0.0017983370404249701),\n",
       " ('self-examination', 0.0017818950648328818),\n",
       " ('self-satisfaction', 0.0015203146674683614)]"
      ]
     },
     "execution_count": 10,
     "metadata": {},
     "output_type": "execute_result"
    }
   ],
   "source": [
    "figure_3_1_data[\"Corpus\"]"
   ]
  },
  {
   "cell_type": "code",
   "execution_count": 11,
   "metadata": {},
   "outputs": [
    {
     "data": {
      "text/plain": [
       "self-denial          18\n",
       "self-reproach        15\n",
       "self-love            15\n",
       "self-command         15\n",
       "self-approbation     11\n",
       "self-possession      11\n",
       "self-interest        10\n",
       "self-delusion         8\n",
       "self-willed           8\n",
       "self-satisfied        8\n",
       "self-denying          8\n",
       "self-complacency      8\n",
       "self-conceit          7\n",
       "self-preservation     7\n",
       "self-defence          7\n",
       "self-importance       7\n",
       "self-condemnation     7\n",
       "self-satisfaction     7\n",
       "self-reproaches       6\n",
       "self-examination      6\n",
       "dtype: int64"
      ]
     },
     "execution_count": 11,
     "metadata": {},
     "output_type": "execute_result"
    }
   ],
   "source": [
    "# How many novels use the term 'self-denial'?\n",
    "self_compounds.astype(bool).sum(axis=0).sort_values(ascending=False)[:20]"
   ]
  },
  {
   "cell_type": "markdown",
   "metadata": {},
   "source": [
    "### Figure 3.2 *Vivian* and *Adeline Mowbray* are particularly focussed on the self"
   ]
  },
  {
   "cell_type": "code",
   "execution_count": 12,
   "metadata": {},
   "outputs": [
    {
     "data": {
      "text/plain": [
       "title\n",
       "Self-Control                                                 0.496183\n",
       "Adeline Mowbray                                              0.435519\n",
       "Camilla                                                      0.268043\n",
       "Walsingham                                                   0.216192\n",
       "Marriage                                                     0.211328\n",
       "The Cottagers of Glenburnie                                  0.204400\n",
       "Vivian                                                       0.196275\n",
       "The Last of the Mohicans                                     0.188307\n",
       "Memoirs of Emma Courtney                                     0.184533\n",
       "Anna St. Ives                                                0.169354\n",
       "Zofloya                                                      0.162507\n",
       "Caleb Williams                                               0.157362\n",
       "Persuasion                                                   0.156021\n",
       "Maria                                                        0.155649\n",
       "The Recess                                                   0.147257\n",
       "Frankenstein                                                 0.137365\n",
       "Henry                                                        0.134627\n",
       "The Private Memoirs and Confessions of a Justified Sinner    0.130781\n",
       "The Wild Irish Girl                                          0.125464\n",
       "Julia                                                        0.121768\n",
       "A Simple Story                                               0.112489\n",
       "Emma                                                         0.107032\n",
       "Glenarvon                                                    0.100286\n",
       "Melmoth the Wanderer                                         0.090185\n",
       "Ivanhoe                                                      0.088300\n",
       "Waverley                                                     0.076606\n",
       "The Mysteries of Udolpho                                     0.075283\n",
       "Arthur Mervyn                                                0.073565\n",
       "Hobomok                                                      0.072486\n",
       "The Coquette                                                 0.067632\n",
       "Evelina                                                      0.064491\n",
       "Belinda                                                      0.043946\n",
       "The Monk                                                     0.043441\n",
       "The Old Manor House                                          0.031324\n",
       "The Heroine                                                  0.029155\n",
       "The Banished Man                                             0.023031\n",
       "The Asylum                                                   0.020798\n",
       "Hermsprong                                                   0.019147\n",
       "Annals of the Parish                                         0.015204\n",
       "Charlotte Temple                                             0.000000\n",
       "dtype: float64"
      ]
     },
     "execution_count": 12,
     "metadata": {},
     "output_type": "execute_result"
    }
   ],
   "source": [
    "per_novel_totals = self_compounds.sum(axis=1).sort_values(ascending=False)\n",
    "# Export csv for Figure 3.2\n",
    "per_novel_totals.to_csv(\"figures/figure_3_2.csv\")\n",
    "# And print the data to the screen\n",
    "per_novel_totals"
   ]
  },
  {
   "cell_type": "code",
   "execution_count": 13,
   "metadata": {},
   "outputs": [
    {
     "data": {
      "text/plain": [
       "0.12883350489918538"
      ]
     },
     "execution_count": 13,
     "metadata": {},
     "output_type": "execute_result"
    }
   ],
   "source": [
    "# What is the average use of 'self-' compounds across the corpus?\n",
    "per_novel_totals.mean()"
   ]
  },
  {
   "cell_type": "code",
   "execution_count": 14,
   "metadata": {},
   "outputs": [
    {
     "name": "stdout",
     "output_type": "stream",
     "text": [
      "Network novels' usage of compounds with 'self': 0.047\n",
      "Other novels' usage of compounds with 'self': 0.141\n"
     ]
    }
   ],
   "source": [
    "# Do network novels use 'self-' compounds much?\n",
    "network = [net[0] for net in corpus.yield_metadata(\"network\")]\n",
    "\n",
    "network_mean = self_compounds.sum(axis=1)[network].mean()\n",
    "non_network_mean = self_compounds.sum(axis=1)[[not val for val in network]].mean()\n",
    "\n",
    "print(f\"Network novels' usage of compounds with 'self': {network_mean:.3f}\")\n",
    "print(f\"Other novels' usage of compounds with 'self': {non_network_mean:.3f}\")"
   ]
  },
  {
   "cell_type": "markdown",
   "metadata": {},
   "source": [
    "## 3.2: Plot: Marriage Disrupted"
   ]
  },
  {
   "cell_type": "markdown",
   "metadata": {},
   "source": [
    "### Figure 3.3 Unsanctioned 'connexions'"
   ]
  },
  {
   "cell_type": "code",
   "execution_count": 15,
   "metadata": {},
   "outputs": [],
   "source": [
    "def count_words(corpus, words):\n",
    "    \"\"\"Counts words in corpus, returns data frame of relative frequencies.\n",
    "    \n",
    "    Arguments:\n",
    "    - corpus (NovelCorpus): A romanticself.NovelCorpus\n",
    "    - words (iterable): Iterable of words to count\n",
    "    \n",
    "    Returns:\n",
    "    - counts (pd.DataFrame): Data frame of relative word counts for selected words\"\"\"\n",
    "    \n",
    "    word_counts = [len(text) for text in corpus]\n",
    "    titles = [val[0] for val in corpus.yield_metadata(\"short_title\")]\n",
    "    data = {}\n",
    "    \n",
    "    for novel,title,wc in zip(corpus,titles,word_counts):\n",
    "        data[title] = {word:novel.count(word)/wc*1000 for word in words}\n",
    "    \n",
    "    return pd.DataFrame.from_dict(data, orient=\"index\")"
   ]
  },
  {
   "cell_type": "code",
   "execution_count": 16,
   "metadata": {},
   "outputs": [
    {
     "data": {
      "text/html": [
       "<div>\n",
       "<style scoped>\n",
       "    .dataframe tbody tr th:only-of-type {\n",
       "        vertical-align: middle;\n",
       "    }\n",
       "\n",
       "    .dataframe tbody tr th {\n",
       "        vertical-align: top;\n",
       "    }\n",
       "\n",
       "    .dataframe thead th {\n",
       "        text-align: right;\n",
       "    }\n",
       "</style>\n",
       "<table border=\"1\" class=\"dataframe\">\n",
       "  <thead>\n",
       "    <tr style=\"text-align: right;\">\n",
       "      <th></th>\n",
       "      <th>attachment</th>\n",
       "      <th>connection/connexion</th>\n",
       "    </tr>\n",
       "  </thead>\n",
       "  <tbody>\n",
       "    <tr>\n",
       "      <th>The Coquette</th>\n",
       "      <td>0.084539</td>\n",
       "      <td>0.642500</td>\n",
       "    </tr>\n",
       "    <tr>\n",
       "      <th>Vivian</th>\n",
       "      <td>0.404096</td>\n",
       "      <td>0.254003</td>\n",
       "    </tr>\n",
       "    <tr>\n",
       "      <th>Persuasion</th>\n",
       "      <td>0.300041</td>\n",
       "      <td>0.180024</td>\n",
       "    </tr>\n",
       "    <tr>\n",
       "      <th>Adeline Mowbray</th>\n",
       "      <td>0.284034</td>\n",
       "      <td>0.151485</td>\n",
       "    </tr>\n",
       "    <tr>\n",
       "      <th>Arthur Mervyn</th>\n",
       "      <td>0.006688</td>\n",
       "      <td>0.147131</td>\n",
       "    </tr>\n",
       "    <tr>\n",
       "      <th>Emma</th>\n",
       "      <td>0.283320</td>\n",
       "      <td>0.125920</td>\n",
       "    </tr>\n",
       "    <tr>\n",
       "      <th>Self-Control</th>\n",
       "      <td>0.125409</td>\n",
       "      <td>0.119956</td>\n",
       "    </tr>\n",
       "    <tr>\n",
       "      <th>Henry</th>\n",
       "      <td>0.173092</td>\n",
       "      <td>0.111548</td>\n",
       "    </tr>\n",
       "    <tr>\n",
       "      <th>Camilla</th>\n",
       "      <td>0.067716</td>\n",
       "      <td>0.107217</td>\n",
       "    </tr>\n",
       "    <tr>\n",
       "      <th>The Wild Irish Girl</th>\n",
       "      <td>0.067558</td>\n",
       "      <td>0.106162</td>\n",
       "    </tr>\n",
       "    <tr>\n",
       "      <th>Belinda</th>\n",
       "      <td>0.148317</td>\n",
       "      <td>0.104372</td>\n",
       "    </tr>\n",
       "    <tr>\n",
       "      <th>The Mysteries of Udolpho</th>\n",
       "      <td>0.044486</td>\n",
       "      <td>0.082127</td>\n",
       "    </tr>\n",
       "    <tr>\n",
       "      <th>Hermsprong</th>\n",
       "      <td>0.009573</td>\n",
       "      <td>0.076587</td>\n",
       "    </tr>\n",
       "    <tr>\n",
       "      <th>Caleb Williams</th>\n",
       "      <td>0.034209</td>\n",
       "      <td>0.075260</td>\n",
       "    </tr>\n",
       "    <tr>\n",
       "      <th>The Asylum</th>\n",
       "      <td>0.062395</td>\n",
       "      <td>0.062395</td>\n",
       "    </tr>\n",
       "    <tr>\n",
       "      <th>Memoirs of Emma Courtney</th>\n",
       "      <td>0.399822</td>\n",
       "      <td>0.061511</td>\n",
       "    </tr>\n",
       "    <tr>\n",
       "      <th>The Private Memoirs and Confessions of a Justified Sinner</th>\n",
       "      <td>0.035668</td>\n",
       "      <td>0.059446</td>\n",
       "    </tr>\n",
       "    <tr>\n",
       "      <th>Hobomok</th>\n",
       "      <td>0.054365</td>\n",
       "      <td>0.054365</td>\n",
       "    </tr>\n",
       "    <tr>\n",
       "      <th>Julia</th>\n",
       "      <td>0.162357</td>\n",
       "      <td>0.054119</td>\n",
       "    </tr>\n",
       "    <tr>\n",
       "      <th>The Old Manor House</th>\n",
       "      <td>0.150357</td>\n",
       "      <td>0.050119</td>\n",
       "    </tr>\n",
       "    <tr>\n",
       "      <th>The Banished Man</th>\n",
       "      <td>0.109395</td>\n",
       "      <td>0.046061</td>\n",
       "    </tr>\n",
       "    <tr>\n",
       "      <th>Frankenstein</th>\n",
       "      <td>0.027473</td>\n",
       "      <td>0.041209</td>\n",
       "    </tr>\n",
       "    <tr>\n",
       "      <th>Evelina</th>\n",
       "      <td>0.038695</td>\n",
       "      <td>0.038695</td>\n",
       "    </tr>\n",
       "    <tr>\n",
       "      <th>Waverley</th>\n",
       "      <td>0.119697</td>\n",
       "      <td>0.038303</td>\n",
       "    </tr>\n",
       "    <tr>\n",
       "      <th>The Monk</th>\n",
       "      <td>0.101363</td>\n",
       "      <td>0.036201</td>\n",
       "    </tr>\n",
       "    <tr>\n",
       "      <th>The Recess</th>\n",
       "      <td>0.281710</td>\n",
       "      <td>0.032012</td>\n",
       "    </tr>\n",
       "    <tr>\n",
       "      <th>Zofloya</th>\n",
       "      <td>0.111724</td>\n",
       "      <td>0.030470</td>\n",
       "    </tr>\n",
       "    <tr>\n",
       "      <th>Charlotte Temple</th>\n",
       "      <td>0.135219</td>\n",
       "      <td>0.027044</td>\n",
       "    </tr>\n",
       "    <tr>\n",
       "      <th>Anna St. Ives</th>\n",
       "      <td>0.005292</td>\n",
       "      <td>0.021169</td>\n",
       "    </tr>\n",
       "    <tr>\n",
       "      <th>The Heroine</th>\n",
       "      <td>0.068029</td>\n",
       "      <td>0.019437</td>\n",
       "    </tr>\n",
       "    <tr>\n",
       "      <th>Marriage</th>\n",
       "      <td>0.136742</td>\n",
       "      <td>0.018647</td>\n",
       "    </tr>\n",
       "    <tr>\n",
       "      <th>Melmoth the Wanderer</th>\n",
       "      <td>0.032794</td>\n",
       "      <td>0.016397</td>\n",
       "    </tr>\n",
       "    <tr>\n",
       "      <th>Annals of the Parish</th>\n",
       "      <td>0.000000</td>\n",
       "      <td>0.015204</td>\n",
       "    </tr>\n",
       "    <tr>\n",
       "      <th>The Last of the Mohicans</th>\n",
       "      <td>0.000000</td>\n",
       "      <td>0.013451</td>\n",
       "    </tr>\n",
       "    <tr>\n",
       "      <th>Glenarvon</th>\n",
       "      <td>0.314230</td>\n",
       "      <td>0.013371</td>\n",
       "    </tr>\n",
       "    <tr>\n",
       "      <th>Ivanhoe</th>\n",
       "      <td>0.031165</td>\n",
       "      <td>0.010388</td>\n",
       "    </tr>\n",
       "    <tr>\n",
       "      <th>Walsingham</th>\n",
       "      <td>0.190455</td>\n",
       "      <td>0.005147</td>\n",
       "    </tr>\n",
       "    <tr>\n",
       "      <th>Maria</th>\n",
       "      <td>0.044471</td>\n",
       "      <td>0.000000</td>\n",
       "    </tr>\n",
       "    <tr>\n",
       "      <th>A Simple Story</th>\n",
       "      <td>0.056245</td>\n",
       "      <td>0.000000</td>\n",
       "    </tr>\n",
       "    <tr>\n",
       "      <th>The Cottagers of Glenburnie</th>\n",
       "      <td>0.087600</td>\n",
       "      <td>0.000000</td>\n",
       "    </tr>\n",
       "  </tbody>\n",
       "</table>\n",
       "</div>"
      ],
      "text/plain": [
       "                                                    attachment  \\\n",
       "The Coquette                                          0.084539   \n",
       "Vivian                                                0.404096   \n",
       "Persuasion                                            0.300041   \n",
       "Adeline Mowbray                                       0.284034   \n",
       "Arthur Mervyn                                         0.006688   \n",
       "Emma                                                  0.283320   \n",
       "Self-Control                                          0.125409   \n",
       "Henry                                                 0.173092   \n",
       "Camilla                                               0.067716   \n",
       "The Wild Irish Girl                                   0.067558   \n",
       "Belinda                                               0.148317   \n",
       "The Mysteries of Udolpho                              0.044486   \n",
       "Hermsprong                                            0.009573   \n",
       "Caleb Williams                                        0.034209   \n",
       "The Asylum                                            0.062395   \n",
       "Memoirs of Emma Courtney                              0.399822   \n",
       "The Private Memoirs and Confessions of a Justif...    0.035668   \n",
       "Hobomok                                               0.054365   \n",
       "Julia                                                 0.162357   \n",
       "The Old Manor House                                   0.150357   \n",
       "The Banished Man                                      0.109395   \n",
       "Frankenstein                                          0.027473   \n",
       "Evelina                                               0.038695   \n",
       "Waverley                                              0.119697   \n",
       "The Monk                                              0.101363   \n",
       "The Recess                                            0.281710   \n",
       "Zofloya                                               0.111724   \n",
       "Charlotte Temple                                      0.135219   \n",
       "Anna St. Ives                                         0.005292   \n",
       "The Heroine                                           0.068029   \n",
       "Marriage                                              0.136742   \n",
       "Melmoth the Wanderer                                  0.032794   \n",
       "Annals of the Parish                                  0.000000   \n",
       "The Last of the Mohicans                              0.000000   \n",
       "Glenarvon                                             0.314230   \n",
       "Ivanhoe                                               0.031165   \n",
       "Walsingham                                            0.190455   \n",
       "Maria                                                 0.044471   \n",
       "A Simple Story                                        0.056245   \n",
       "The Cottagers of Glenburnie                           0.087600   \n",
       "\n",
       "                                                    connection/connexion  \n",
       "The Coquette                                                    0.642500  \n",
       "Vivian                                                          0.254003  \n",
       "Persuasion                                                      0.180024  \n",
       "Adeline Mowbray                                                 0.151485  \n",
       "Arthur Mervyn                                                   0.147131  \n",
       "Emma                                                            0.125920  \n",
       "Self-Control                                                    0.119956  \n",
       "Henry                                                           0.111548  \n",
       "Camilla                                                         0.107217  \n",
       "The Wild Irish Girl                                             0.106162  \n",
       "Belinda                                                         0.104372  \n",
       "The Mysteries of Udolpho                                        0.082127  \n",
       "Hermsprong                                                      0.076587  \n",
       "Caleb Williams                                                  0.075260  \n",
       "The Asylum                                                      0.062395  \n",
       "Memoirs of Emma Courtney                                        0.061511  \n",
       "The Private Memoirs and Confessions of a Justif...              0.059446  \n",
       "Hobomok                                                         0.054365  \n",
       "Julia                                                           0.054119  \n",
       "The Old Manor House                                             0.050119  \n",
       "The Banished Man                                                0.046061  \n",
       "Frankenstein                                                    0.041209  \n",
       "Evelina                                                         0.038695  \n",
       "Waverley                                                        0.038303  \n",
       "The Monk                                                        0.036201  \n",
       "The Recess                                                      0.032012  \n",
       "Zofloya                                                         0.030470  \n",
       "Charlotte Temple                                                0.027044  \n",
       "Anna St. Ives                                                   0.021169  \n",
       "The Heroine                                                     0.019437  \n",
       "Marriage                                                        0.018647  \n",
       "Melmoth the Wanderer                                            0.016397  \n",
       "Annals of the Parish                                            0.015204  \n",
       "The Last of the Mohicans                                        0.013451  \n",
       "Glenarvon                                                       0.013371  \n",
       "Ivanhoe                                                         0.010388  \n",
       "Walsingham                                                      0.005147  \n",
       "Maria                                                           0.000000  \n",
       "A Simple Story                                                  0.000000  \n",
       "The Cottagers of Glenburnie                                     0.000000  "
      ]
     },
     "execution_count": 16,
     "metadata": {},
     "output_type": "execute_result"
    }
   ],
   "source": [
    "connection = count_words(corpus, [\"connection\",\"connexion\",\"attachment\"])\n",
    "\n",
    "# Now sum together the frequencies for 'connection' and 'connexion', and sort\n",
    "connection[\"connection/connexion\"] = connection[\"connection\"] + connection[\"connexion\"]\n",
    "connection.drop([\"connection\",\"connexion\"], axis=1, inplace=True)\n",
    "\n",
    "# Export\n",
    "connection.sort_values(by=\"connection/connexion\", ascending=False).to_csv(\"figures/figure_3_3.csv\")\n",
    "\n",
    "# Display\n",
    "connection.sort_values(by=\"connection/connexion\", ascending=False)"
   ]
  },
  {
   "cell_type": "code",
   "execution_count": 17,
   "metadata": {},
   "outputs": [
    {
     "data": {
      "text/html": [
       "<div>\n",
       "<style scoped>\n",
       "    .dataframe tbody tr th:only-of-type {\n",
       "        vertical-align: middle;\n",
       "    }\n",
       "\n",
       "    .dataframe tbody tr th {\n",
       "        vertical-align: top;\n",
       "    }\n",
       "\n",
       "    .dataframe thead th {\n",
       "        text-align: right;\n",
       "    }\n",
       "</style>\n",
       "<table border=\"1\" class=\"dataframe\">\n",
       "  <thead>\n",
       "    <tr style=\"text-align: right;\">\n",
       "      <th></th>\n",
       "      <th>attachment</th>\n",
       "      <th>connection/connexion</th>\n",
       "    </tr>\n",
       "    <tr>\n",
       "      <th>Network</th>\n",
       "      <th></th>\n",
       "      <th></th>\n",
       "    </tr>\n",
       "  </thead>\n",
       "  <tbody>\n",
       "    <tr>\n",
       "      <th>False</th>\n",
       "      <td>0.127061</td>\n",
       "      <td>0.060458</td>\n",
       "    </tr>\n",
       "    <tr>\n",
       "      <th>True</th>\n",
       "      <td>0.068641</td>\n",
       "      <td>0.186687</td>\n",
       "    </tr>\n",
       "  </tbody>\n",
       "</table>\n",
       "</div>"
      ],
      "text/plain": [
       "         attachment  connection/connexion\n",
       "Network                                  \n",
       "False      0.127061              0.060458\n",
       "True       0.068641              0.186687"
      ]
     },
     "execution_count": 17,
     "metadata": {},
     "output_type": "execute_result"
    }
   ],
   "source": [
    "# Do the five 'network novels' use the terms more?\n",
    "connection[\"Network\"] = [net[0] for net in corpus.yield_metadata(\"network\")]\n",
    "connection.pivot_table(index=\"Network\", aggfunc=np.mean)"
   ]
  },
  {
   "cell_type": "markdown",
   "metadata": {},
   "source": [
    "### Figure 3.4 The meaning of 'connection'\n",
    "\n",
    "Using collocation networks to study the meaning of 'connection' in the corpus."
   ]
  },
  {
   "cell_type": "code",
   "execution_count": 18,
   "metadata": {},
   "outputs": [
    {
     "name": "stdout",
     "output_type": "stream",
     "text": [
      "Found 40 novels in data/novel-corpus.\n",
      "10 novels imported ...\n",
      "20 novels imported ...\n",
      "30 novels imported ...\n",
      "40 novels imported ...\n",
      "40 novels imported, tagged and tokenised from data/novel-corpus.\n"
     ]
    }
   ],
   "source": [
    "tagged_corpus = NovelPOSCorpus(\"data/novel-corpus\")"
   ]
  },
  {
   "cell_type": "code",
   "execution_count": 19,
   "metadata": {},
   "outputs": [],
   "source": [
    "# Create a new version of the corpus where 'connexion' is swapped for 'connection'\n",
    "conn_tokens = []\n",
    "for novel in tagged_corpus:\n",
    "    conn_tokens.append([tkn.replace('connexion','connection') for tkn in novel])"
   ]
  },
  {
   "cell_type": "code",
   "execution_count": 20,
   "metadata": {},
   "outputs": [],
   "source": [
    "def construct_assoc_net(corpus, targets=list(), window_size=3, depth=20, tiered=True):\n",
    "    \"\"\"Constructs an association network centred on the target words.\n",
    "    \n",
    "    Arguments:\n",
    "    - corpus (iterable): an iterable of iterables of str. Tokenised texts.\n",
    "    - targets (iterable): the words around which to construct the net\n",
    "    - window_size (int): window size within which association are found\n",
    "    - depth (int): how many neighbours to find for each node (ranked by likelihood ratio)\n",
    "    - tiered (bool): get second-degree neighbours too? Defaults to True.\n",
    "    \n",
    "    Returns:\n",
    "    - assoc_net (igraph.Graph): graph of the word associations\"\"\"\n",
    "    \n",
    "    edgelist = []\n",
    "    \n",
    "    for target in targets:\n",
    "        print(f\"Finding {depth}-closest first-degree neighbours for '{target}'\")\n",
    "        # Get nearest neighbours for target\n",
    "        target_bigrams = TargetedBigramAssocFinder.from_corpus(corpus, target, window_size)\n",
    "        top_n = target_bigrams.score_ngrams(RobustBigramAssocMeasures.likelihood_ratio)[1:depth+1]\n",
    "        \n",
    "        # Append to edgelist\n",
    "        edgelist += top_n\n",
    "        \n",
    "        if tiered is True:\n",
    "            # Get nearest neighbours for each neighbour\n",
    "            print(f\"Finding {depth}-closest first-degree neighbours for each neighbour of '{target}'\")\n",
    "            for bigram in tqdm(top_n):\n",
    "                new_target = bigram[0][0]\n",
    "                new_bigrams = TargetedBigramAssocFinder.from_corpus(corpus, new_target, window_size)\n",
    "                edgelist += new_bigrams.score_ngrams(RobustBigramAssocMeasures.likelihood_ratio)[1:depth+1]\n",
    "    \n",
    "    assoc_net = ig.Graph()\n",
    "\n",
    "    vertices = set()\n",
    "    for (tar,src),_ in edgelist:\n",
    "        vertices.add(tar)\n",
    "        vertices.add(src)\n",
    "\n",
    "    assoc_net.add_vertices(n=list(vertices))\n",
    "\n",
    "    for (tar,src),wgt in edgelist:\n",
    "        assoc_net.add_edge(src, tar, weight=wgt)\n",
    "        \n",
    "    return assoc_net.simplify()"
   ]
  },
  {
   "cell_type": "code",
   "execution_count": 21,
   "metadata": {},
   "outputs": [
    {
     "name": "stdout",
     "output_type": "stream",
     "text": [
      "Finding 20-closest first-degree neighbours for 'connection_noun'\n",
      "Finding 20-closest first-degree neighbours for 'attachment_noun'\n",
      "Finding 20-closest first-degree neighbours for 'improper_adjective'\n"
     ]
    }
   ],
   "source": [
    "assoc_net = construct_assoc_net(corpus=conn_tokens,\n",
    "                                targets=[\"connection_noun\", \"attachment_noun\", \"improper_adjective\"],\n",
    "                                window_size=7, depth=20, tiered=False)"
   ]
  },
  {
   "cell_type": "code",
   "execution_count": 22,
   "metadata": {},
   "outputs": [],
   "source": [
    "def label_func(label, highlights):\n",
    "    if label in highlights:\n",
    "        return 15\n",
    "    else:\n",
    "        return 10"
   ]
  },
  {
   "cell_type": "code",
   "execution_count": 23,
   "metadata": {},
   "outputs": [
    {
     "data": {
      "image/svg+xml": "<?xml version=\"1.0\" encoding=\"UTF-8\"?>\n<svg xmlns=\"http://www.w3.org/2000/svg\" xmlns:xlink=\"http://www.w3.org/1999/xlink\" width=\"600pt\" height=\"500pt\" viewBox=\"0 0 600 500\" version=\"1.1\">\n<defs>\n<g>\n<symbol overflow=\"visible\" id=\"glyph0-0\">\n<path style=\"stroke:none;\" d=\"M 0.320312 0 L 0.320312 -7.171875 L 6.015625 -7.171875 L 6.015625 0 Z M 5.117188 -0.898438 L 5.117188 -6.273438 L 1.21875 -6.273438 L 1.21875 -0.898438 Z M 5.117188 -0.898438 \"/>\n</symbol>\n<symbol overflow=\"visible\" id=\"glyph0-1\">\n<path style=\"stroke:none;\" d=\"M 2.851562 -0.589844 C 3.261719 -0.589844 3.601562 -0.761719 3.875 -1.105469 C 4.148438 -1.449219 4.28125 -1.960938 4.28125 -2.648438 C 4.28125 -3.0625 4.222656 -3.421875 4.101562 -3.71875 C 3.875 -4.296875 3.457031 -4.585938 2.851562 -4.585938 C 2.242188 -4.585938 1.828125 -4.28125 1.601562 -3.671875 C 1.480469 -3.347656 1.421875 -2.933594 1.421875 -2.429688 C 1.421875 -2.027344 1.480469 -1.683594 1.601562 -1.402344 C 1.828125 -0.859375 2.246094 -0.589844 2.851562 -0.589844 Z M 0.578125 -5.203125 L 1.429688 -5.203125 L 1.429688 -4.511719 C 1.605469 -4.75 1.796875 -4.933594 2.007812 -5.0625 C 2.304688 -5.257812 2.652344 -5.355469 3.050781 -5.355469 C 3.644531 -5.355469 4.148438 -5.128906 4.5625 -4.675781 C 4.976562 -4.222656 5.179688 -3.574219 5.179688 -2.730469 C 5.179688 -1.589844 4.882812 -0.777344 4.289062 -0.289062 C 3.910156 0.0195312 3.46875 0.175781 2.96875 0.175781 C 2.574219 0.175781 2.246094 0.0898438 1.976562 -0.0820312 C 1.820312 -0.179688 1.648438 -0.347656 1.453125 -0.585938 L 1.453125 2.085938 L 0.578125 2.085938 Z M 0.578125 -5.203125 \"/>\n</symbol>\n<symbol overflow=\"visible\" id=\"glyph0-2\">\n<path style=\"stroke:none;\" d=\"M 0.667969 -7.171875 L 1.546875 -7.171875 L 1.546875 0 L 0.667969 0 Z M 0.667969 -7.171875 \"/>\n</symbol>\n<symbol overflow=\"visible\" id=\"glyph0-3\">\n<path style=\"stroke:none;\" d=\"M 1.320312 -1.390625 C 1.320312 -1.136719 1.410156 -0.9375 1.597656 -0.789062 C 1.78125 -0.644531 2 -0.570312 2.257812 -0.570312 C 2.566406 -0.570312 2.863281 -0.644531 3.15625 -0.785156 C 3.644531 -1.023438 3.886719 -1.414062 3.886719 -1.953125 L 3.886719 -2.660156 C 3.78125 -2.59375 3.640625 -2.535156 3.472656 -2.492188 C 3.304688 -2.445312 3.136719 -2.414062 2.972656 -2.390625 L 2.441406 -2.324219 C 2.121094 -2.28125 1.882812 -2.214844 1.722656 -2.125 C 1.453125 -1.972656 1.320312 -1.726562 1.320312 -1.390625 Z M 3.445312 -3.167969 C 3.648438 -3.195312 3.785156 -3.28125 3.851562 -3.421875 C 3.890625 -3.5 3.910156 -3.613281 3.910156 -3.757812 C 3.910156 -4.058594 3.804688 -4.277344 3.589844 -4.410156 C 3.378906 -4.546875 3.074219 -4.613281 2.675781 -4.613281 C 2.21875 -4.613281 1.890625 -4.492188 1.699219 -4.242188 C 1.59375 -4.105469 1.523438 -3.902344 1.488281 -3.632812 L 0.667969 -3.632812 C 0.683594 -4.277344 0.894531 -4.726562 1.296875 -4.976562 C 1.699219 -5.230469 2.164062 -5.355469 2.695312 -5.355469 C 3.3125 -5.355469 3.808594 -5.238281 4.195312 -5.003906 C 4.574219 -4.769531 4.765625 -4.40625 4.765625 -3.910156 L 4.765625 -0.898438 C 4.765625 -0.808594 4.785156 -0.734375 4.820312 -0.679688 C 4.859375 -0.625 4.9375 -0.59375 5.058594 -0.59375 C 5.097656 -0.59375 5.140625 -0.597656 5.191406 -0.601562 C 5.238281 -0.609375 5.292969 -0.617188 5.347656 -0.625 L 5.347656 0.0234375 C 5.210938 0.0625 5.105469 0.0859375 5.035156 0.0976562 C 4.960938 0.109375 4.863281 0.113281 4.742188 0.113281 C 4.4375 0.113281 4.21875 0.00390625 4.082031 -0.210938 C 4.011719 -0.324219 3.960938 -0.484375 3.929688 -0.695312 C 3.75 -0.460938 3.496094 -0.253906 3.160156 -0.0820312 C 2.824219 0.0898438 2.453125 0.175781 2.050781 0.175781 C 1.566406 0.175781 1.167969 0.0273438 0.863281 -0.265625 C 0.554688 -0.5625 0.398438 -0.929688 0.398438 -1.371094 C 0.398438 -1.855469 0.550781 -2.234375 0.855469 -2.5 C 1.15625 -2.765625 1.554688 -2.929688 2.046875 -2.992188 Z M 3.445312 -3.167969 \"/>\n</symbol>\n<symbol overflow=\"visible\" id=\"glyph0-4\">\n<path style=\"stroke:none;\" d=\"M 0.820312 -6.6875 L 1.710938 -6.6875 L 1.710938 -5.230469 L 2.542969 -5.230469 L 2.542969 -4.511719 L 1.710938 -4.511719 L 1.710938 -1.097656 C 1.710938 -0.914062 1.769531 -0.792969 1.894531 -0.734375 C 1.960938 -0.695312 2.078125 -0.679688 2.234375 -0.679688 C 2.277344 -0.679688 2.324219 -0.679688 2.375 -0.679688 C 2.421875 -0.683594 2.480469 -0.6875 2.542969 -0.695312 L 2.542969 0 C 2.441406 0.03125 2.339844 0.0507812 2.230469 0.0625 C 2.121094 0.078125 2 0.0820312 1.875 0.0820312 C 1.464844 0.0820312 1.1875 -0.0234375 1.039062 -0.230469 C 0.894531 -0.441406 0.820312 -0.714844 0.820312 -1.050781 L 0.820312 -4.511719 L 0.113281 -4.511719 L 0.113281 -5.230469 L 0.820312 -5.230469 Z M 0.820312 -6.6875 \"/>\n</symbol>\n<symbol overflow=\"visible\" id=\"glyph0-5\">\n<path style=\"stroke:none;\" d=\"M 2.71875 -0.566406 C 3.300781 -0.566406 3.703125 -0.785156 3.917969 -1.226562 C 4.132812 -1.667969 4.242188 -2.160156 4.242188 -2.699219 C 4.242188 -3.1875 4.164062 -3.585938 4.007812 -3.890625 C 3.761719 -4.375 3.335938 -4.613281 2.730469 -4.613281 C 2.191406 -4.613281 1.800781 -4.410156 1.558594 -4 C 1.3125 -3.589844 1.191406 -3.09375 1.191406 -2.515625 C 1.191406 -1.957031 1.3125 -1.492188 1.558594 -1.125 C 1.800781 -0.753906 2.1875 -0.566406 2.71875 -0.566406 Z M 2.753906 -5.382812 C 3.429688 -5.382812 3.996094 -5.15625 4.460938 -4.707031 C 4.929688 -4.257812 5.160156 -3.597656 5.160156 -2.726562 C 5.160156 -1.882812 4.957031 -1.183594 4.546875 -0.632812 C 4.136719 -0.0859375 3.5 0.191406 2.636719 0.191406 C 1.917969 0.191406 1.347656 -0.0546875 0.921875 -0.539062 C 0.5 -1.027344 0.289062 -1.679688 0.289062 -2.5 C 0.289062 -3.378906 0.511719 -4.078125 0.957031 -4.601562 C 1.402344 -5.121094 2 -5.382812 2.753906 -5.382812 Z M 2.753906 -5.382812 \"/>\n</symbol>\n<symbol overflow=\"visible\" id=\"glyph0-6\">\n<path style=\"stroke:none;\" d=\"M 0.644531 -5.230469 L 1.480469 -5.230469 L 1.480469 -4.488281 C 1.726562 -4.792969 1.988281 -5.011719 2.265625 -5.148438 C 2.542969 -5.28125 2.851562 -5.347656 3.1875 -5.347656 C 3.929688 -5.347656 4.433594 -5.085938 4.691406 -4.570312 C 4.835938 -4.289062 4.90625 -3.882812 4.90625 -3.355469 L 4.90625 0 L 4.015625 0 L 4.015625 -3.296875 C 4.015625 -3.617188 3.964844 -3.871094 3.871094 -4.066406 C 3.714844 -4.390625 3.433594 -4.554688 3.023438 -4.554688 C 2.8125 -4.554688 2.644531 -4.535156 2.507812 -4.492188 C 2.269531 -4.421875 2.058594 -4.277344 1.875 -4.0625 C 1.726562 -3.890625 1.632812 -3.710938 1.589844 -3.527344 C 1.546875 -3.34375 1.523438 -3.082031 1.523438 -2.738281 L 1.523438 0 L 0.644531 0 Z M 0.644531 -5.230469 \"/>\n</symbol>\n<symbol overflow=\"visible\" id=\"glyph0-7\">\n<path style=\"stroke:none;\" d=\"M 0.644531 -5.203125 L 1.539062 -5.203125 L 1.539062 0 L 0.644531 0 Z M 0.644531 -7.171875 L 1.539062 -7.171875 L 1.539062 -6.175781 L 0.644531 -6.175781 Z M 0.644531 -7.171875 \"/>\n</symbol>\n<symbol overflow=\"visible\" id=\"glyph0-8\">\n<path style=\"stroke:none;\" d=\"M 2.660156 -5.382812 C 3.25 -5.382812 3.730469 -5.238281 4.097656 -4.953125 C 4.46875 -4.664062 4.691406 -4.171875 4.765625 -3.472656 L 3.910156 -3.472656 C 3.859375 -3.792969 3.742188 -4.0625 3.554688 -4.273438 C 3.367188 -4.488281 3.070312 -4.59375 2.660156 -4.59375 C 2.101562 -4.59375 1.699219 -4.320312 1.460938 -3.773438 C 1.304688 -3.417969 1.226562 -2.980469 1.226562 -2.460938 C 1.226562 -1.9375 1.335938 -1.496094 1.558594 -1.136719 C 1.78125 -0.78125 2.128906 -0.601562 2.601562 -0.601562 C 2.96875 -0.601562 3.257812 -0.710938 3.46875 -0.933594 C 3.683594 -1.15625 3.828125 -1.464844 3.910156 -1.851562 L 4.765625 -1.851562 C 4.667969 -1.15625 4.421875 -0.648438 4.03125 -0.328125 C 3.640625 -0.0078125 3.144531 0.152344 2.535156 0.152344 C 1.851562 0.152344 1.304688 -0.0976562 0.898438 -0.597656 C 0.492188 -1.097656 0.289062 -1.722656 0.289062 -2.46875 C 0.289062 -3.386719 0.511719 -4.101562 0.957031 -4.613281 C 1.402344 -5.125 1.972656 -5.382812 2.660156 -5.382812 Z M 2.660156 -5.382812 \"/>\n</symbol>\n<symbol overflow=\"visible\" id=\"glyph0-9\">\n<path style=\"stroke:none;\" d=\"M 0 1.25 L 0 0.757812 L 5.5625 0.757812 L 5.5625 1.25 Z M 0 1.25 \"/>\n</symbol>\n<symbol overflow=\"visible\" id=\"glyph0-10\">\n<path style=\"stroke:none;\" d=\"M 1.203125 -2.554688 C 1.203125 -1.992188 1.320312 -1.523438 1.558594 -1.148438 C 1.796875 -0.769531 2.175781 -0.582031 2.699219 -0.582031 C 3.105469 -0.582031 3.441406 -0.757812 3.703125 -1.105469 C 3.964844 -1.457031 4.097656 -1.957031 4.097656 -2.613281 C 4.097656 -3.273438 3.960938 -3.761719 3.691406 -4.078125 C 3.421875 -4.398438 3.085938 -4.554688 2.691406 -4.554688 C 2.25 -4.554688 1.890625 -4.386719 1.613281 -4.046875 C 1.339844 -3.710938 1.203125 -3.210938 1.203125 -2.554688 Z M 2.523438 -5.320312 C 2.925781 -5.320312 3.261719 -5.238281 3.53125 -5.070312 C 3.6875 -4.972656 3.863281 -4.800781 4.0625 -4.554688 L 4.0625 -7.195312 L 4.90625 -7.195312 L 4.90625 0 L 4.117188 0 L 4.117188 -0.726562 C 3.910156 -0.40625 3.667969 -0.171875 3.390625 -0.03125 C 3.109375 0.113281 2.789062 0.1875 2.425781 0.1875 C 1.84375 0.1875 1.339844 -0.0585938 0.914062 -0.550781 C 0.488281 -1.039062 0.273438 -1.691406 0.273438 -2.503906 C 0.273438 -3.265625 0.46875 -3.925781 0.855469 -4.484375 C 1.246094 -5.042969 1.800781 -5.320312 2.523438 -5.320312 Z M 2.523438 -5.320312 \"/>\n</symbol>\n<symbol overflow=\"visible\" id=\"glyph0-11\">\n<path style=\"stroke:none;\" d=\"M 1.523438 -6.15625 L 0.644531 -6.15625 L 0.644531 -7.171875 L 1.523438 -7.171875 Z M -0.1875 1.324219 C 0.207031 1.3125 0.445312 1.273438 0.523438 1.21875 C 0.605469 1.160156 0.644531 0.984375 0.644531 0.683594 L 0.644531 -5.203125 L 1.523438 -5.203125 L 1.523438 0.777344 C 1.523438 1.15625 1.460938 1.441406 1.335938 1.632812 C 1.132812 1.949219 0.742188 2.109375 0.171875 2.109375 C 0.128906 2.109375 0.0820312 2.109375 0.0351562 2.105469 C -0.0117188 2.101562 -0.0859375 2.09375 -0.1875 2.085938 Z M -0.1875 1.324219 \"/>\n</symbol>\n<symbol overflow=\"visible\" id=\"glyph0-12\">\n<path style=\"stroke:none;\" d=\"M 2.820312 -5.347656 C 3.191406 -5.347656 3.554688 -5.257812 3.902344 -5.085938 C 4.25 -4.910156 4.515625 -4.6875 4.695312 -4.410156 C 4.871094 -4.144531 4.992188 -3.835938 5.046875 -3.484375 C 5.101562 -3.246094 5.125 -2.859375 5.125 -2.335938 L 1.292969 -2.335938 C 1.308594 -1.804688 1.4375 -1.378906 1.671875 -1.058594 C 1.90625 -0.738281 2.265625 -0.578125 2.757812 -0.578125 C 3.21875 -0.578125 3.585938 -0.726562 3.859375 -1.03125 C 4.015625 -1.207031 4.125 -1.410156 4.1875 -1.640625 L 5.054688 -1.640625 C 5.03125 -1.449219 4.957031 -1.234375 4.828125 -1 C 4.699219 -0.761719 4.554688 -0.570312 4.394531 -0.421875 C 4.128906 -0.160156 3.796875 0.015625 3.402344 0.109375 C 3.191406 0.160156 2.953125 0.1875 2.6875 0.1875 C 2.035156 0.1875 1.484375 -0.0507812 1.03125 -0.523438 C 0.578125 -1 0.351562 -1.660156 0.351562 -2.515625 C 0.351562 -3.355469 0.578125 -4.035156 1.035156 -4.5625 C 1.492188 -5.085938 2.085938 -5.347656 2.820312 -5.347656 Z M 4.222656 -3.03125 C 4.1875 -3.414062 4.105469 -3.71875 3.976562 -3.945312 C 3.734375 -4.367188 3.332031 -4.578125 2.769531 -4.578125 C 2.367188 -4.578125 2.027344 -4.433594 1.753906 -4.144531 C 1.480469 -3.851562 1.335938 -3.480469 1.320312 -3.03125 Z M 4.222656 -3.03125 \"/>\n</symbol>\n<symbol overflow=\"visible\" id=\"glyph0-13\">\n<path style=\"stroke:none;\" d=\"M 1.074219 -5.230469 L 2.46875 -0.972656 L 3.929688 -5.230469 L 4.890625 -5.230469 L 2.921875 0 L 1.984375 0 L 0.0546875 -5.230469 Z M 1.074219 -5.230469 \"/>\n</symbol>\n<symbol overflow=\"visible\" id=\"glyph0-14\">\n<path style=\"stroke:none;\" d=\"M 0.644531 -5.230469 L 1.515625 -5.230469 L 1.515625 -4.488281 C 1.722656 -4.746094 1.910156 -4.929688 2.078125 -5.046875 C 2.367188 -5.246094 2.699219 -5.347656 3.066406 -5.347656 C 3.484375 -5.347656 3.820312 -5.242188 4.070312 -5.039062 C 4.214844 -4.921875 4.34375 -4.75 4.460938 -4.523438 C 4.65625 -4.800781 4.886719 -5.007812 5.152344 -5.144531 C 5.414062 -5.28125 5.710938 -5.347656 6.039062 -5.347656 C 6.742188 -5.347656 7.222656 -5.09375 7.476562 -4.585938 C 7.613281 -4.3125 7.679688 -3.945312 7.679688 -3.480469 L 7.679688 0 L 6.765625 0 L 6.765625 -3.632812 C 6.765625 -3.980469 6.679688 -4.21875 6.507812 -4.351562 C 6.332031 -4.480469 6.121094 -4.546875 5.867188 -4.546875 C 5.523438 -4.546875 5.226562 -4.429688 4.976562 -4.199219 C 4.726562 -3.96875 4.605469 -3.582031 4.605469 -3.042969 L 4.605469 0 L 3.710938 0 L 3.710938 -3.414062 C 3.710938 -3.769531 3.667969 -4.027344 3.585938 -4.1875 C 3.453125 -4.433594 3.203125 -4.554688 2.835938 -4.554688 C 2.503906 -4.554688 2.203125 -4.425781 1.929688 -4.171875 C 1.660156 -3.914062 1.523438 -3.445312 1.523438 -2.773438 L 1.523438 0 L 0.644531 0 Z M 0.644531 -5.230469 \"/>\n</symbol>\n<symbol overflow=\"visible\" id=\"glyph0-15\">\n<path style=\"stroke:none;\" d=\"M 0.667969 -5.230469 L 1.503906 -5.230469 L 1.503906 -4.328125 C 1.570312 -4.503906 1.738281 -4.714844 2.007812 -4.96875 C 2.273438 -5.21875 2.582031 -5.347656 2.929688 -5.347656 C 2.945312 -5.347656 2.972656 -5.34375 3.011719 -5.34375 C 3.050781 -5.339844 3.117188 -5.332031 3.210938 -5.320312 L 3.210938 -4.394531 C 3.160156 -4.40625 3.113281 -4.410156 3.070312 -4.414062 C 3.023438 -4.417969 2.976562 -4.417969 2.925781 -4.417969 C 2.484375 -4.417969 2.140625 -4.277344 1.90625 -3.992188 C 1.667969 -3.707031 1.546875 -3.378906 1.546875 -3.007812 L 1.546875 0 L 0.667969 0 Z M 0.667969 -5.230469 \"/>\n</symbol>\n<symbol overflow=\"visible\" id=\"glyph0-16\">\n<path style=\"stroke:none;\" d=\"M 2.492188 -5.320312 C 2.902344 -5.320312 3.257812 -5.222656 3.5625 -5.019531 C 3.730469 -4.90625 3.898438 -4.738281 4.070312 -4.523438 L 4.070312 -5.179688 L 4.882812 -5.179688 L 4.882812 -0.425781 C 4.882812 0.238281 4.785156 0.761719 4.589844 1.148438 C 4.226562 1.859375 3.535156 2.210938 2.523438 2.210938 C 1.960938 2.210938 1.488281 2.085938 1.101562 1.832031 C 0.71875 1.582031 0.503906 1.1875 0.460938 0.648438 L 1.351562 0.648438 C 1.394531 0.882812 1.480469 1.0625 1.605469 1.191406 C 1.804688 1.386719 2.117188 1.484375 2.542969 1.484375 C 3.21875 1.484375 3.660156 1.246094 3.867188 0.773438 C 3.992188 0.492188 4.046875 -0.0078125 4.039062 -0.726562 C 3.863281 -0.460938 3.652344 -0.261719 3.402344 -0.132812 C 3.15625 0 2.828125 0.0625 2.421875 0.0625 C 1.855469 0.0625 1.359375 -0.136719 0.933594 -0.539062 C 0.507812 -0.941406 0.296875 -1.605469 0.296875 -2.535156 C 0.296875 -3.410156 0.511719 -4.09375 0.941406 -4.585938 C 1.367188 -5.078125 1.882812 -5.320312 2.492188 -5.320312 Z M 4.070312 -2.636719 C 4.070312 -3.285156 3.9375 -3.765625 3.671875 -4.078125 C 3.40625 -4.390625 3.066406 -4.546875 2.652344 -4.546875 C 2.03125 -4.546875 1.609375 -4.257812 1.382812 -3.675781 C 1.261719 -3.367188 1.203125 -2.960938 1.203125 -2.460938 C 1.203125 -1.871094 1.320312 -1.421875 1.558594 -1.117188 C 1.796875 -0.808594 2.121094 -0.65625 2.523438 -0.65625 C 3.15625 -0.65625 3.601562 -0.9375 3.859375 -1.507812 C 4 -1.832031 4.070312 -2.207031 4.070312 -2.636719 Z M 4.070312 -2.636719 \"/>\n</symbol>\n<symbol overflow=\"visible\" id=\"glyph0-17\">\n<path style=\"stroke:none;\" d=\"M 1.523438 -5.230469 L 1.523438 -1.757812 C 1.523438 -1.492188 1.566406 -1.273438 1.648438 -1.101562 C 1.804688 -0.789062 2.097656 -0.632812 2.523438 -0.632812 C 3.136719 -0.632812 3.554688 -0.90625 3.773438 -1.453125 C 3.894531 -1.746094 3.953125 -2.148438 3.953125 -2.660156 L 3.953125 -5.230469 L 4.835938 -5.230469 L 4.835938 0 L 4.003906 0 L 4.015625 -0.773438 C 3.898438 -0.574219 3.757812 -0.40625 3.589844 -0.269531 C 3.253906 0.00390625 2.847656 0.140625 2.367188 0.140625 C 1.621094 0.140625 1.113281 -0.109375 0.84375 -0.605469 C 0.699219 -0.871094 0.625 -1.230469 0.625 -1.675781 L 0.625 -5.230469 Z M 1.523438 -5.230469 \"/>\n</symbol>\n<symbol overflow=\"visible\" id=\"glyph0-18\">\n<path style=\"stroke:none;\" d=\"M 0.644531 -7.195312 L 1.523438 -7.195312 L 1.523438 -4.523438 C 1.730469 -4.785156 1.917969 -4.96875 2.085938 -5.078125 C 2.367188 -5.265625 2.722656 -5.355469 3.144531 -5.355469 C 3.902344 -5.355469 4.417969 -5.089844 4.6875 -4.5625 C 4.835938 -4.273438 4.90625 -3.867188 4.90625 -3.355469 L 4.90625 0 L 4.003906 0 L 4.003906 -3.296875 C 4.003906 -3.679688 3.953125 -3.960938 3.859375 -4.140625 C 3.699219 -4.425781 3.398438 -4.570312 2.960938 -4.570312 C 2.59375 -4.570312 2.265625 -4.445312 1.96875 -4.195312 C 1.671875 -3.945312 1.523438 -3.46875 1.523438 -2.773438 L 1.523438 0 L 0.644531 0 Z M 0.644531 -7.195312 \"/>\n</symbol>\n<symbol overflow=\"visible\" id=\"glyph0-19\">\n<path style=\"stroke:none;\" d=\"M 1.167969 -1.640625 C 1.195312 -1.347656 1.265625 -1.125 1.386719 -0.96875 C 1.609375 -0.683594 1.992188 -0.542969 2.539062 -0.542969 C 2.863281 -0.542969 3.152344 -0.613281 3.398438 -0.753906 C 3.644531 -0.894531 3.769531 -1.113281 3.769531 -1.410156 C 3.769531 -1.636719 3.671875 -1.804688 3.472656 -1.921875 C 3.34375 -1.996094 3.09375 -2.078125 2.71875 -2.171875 L 2.023438 -2.347656 C 1.578125 -2.460938 1.246094 -2.582031 1.035156 -2.71875 C 0.65625 -2.957031 0.46875 -3.285156 0.46875 -3.707031 C 0.46875 -4.203125 0.648438 -4.601562 1.003906 -4.90625 C 1.359375 -5.210938 1.839844 -5.367188 2.441406 -5.367188 C 3.230469 -5.367188 3.796875 -5.136719 4.144531 -4.671875 C 4.363281 -4.378906 4.46875 -4.0625 4.460938 -3.726562 L 3.632812 -3.726562 C 3.617188 -3.925781 3.546875 -4.105469 3.421875 -4.265625 C 3.21875 -4.5 2.871094 -4.613281 2.375 -4.613281 C 2.042969 -4.613281 1.789062 -4.550781 1.617188 -4.421875 C 1.445312 -4.296875 1.363281 -4.128906 1.363281 -3.921875 C 1.363281 -3.695312 1.476562 -3.511719 1.699219 -3.375 C 1.828125 -3.292969 2.023438 -3.222656 2.273438 -3.160156 L 2.855469 -3.015625 C 3.488281 -2.863281 3.910156 -2.714844 4.125 -2.574219 C 4.46875 -2.347656 4.640625 -1.996094 4.640625 -1.515625 C 4.640625 -1.046875 4.460938 -0.644531 4.109375 -0.308594 C 3.757812 0.03125 3.21875 0.199219 2.496094 0.199219 C 1.71875 0.199219 1.167969 0.0234375 0.84375 -0.328125 C 0.519531 -0.683594 0.34375 -1.121094 0.320312 -1.640625 Z M 1.167969 -1.640625 \"/>\n</symbol>\n<symbol overflow=\"visible\" id=\"glyph0-20\">\n<path style=\"stroke:none;\" d=\"M 3.910156 -5.230469 L 4.882812 -5.230469 C 4.757812 -4.894531 4.484375 -4.128906 4.058594 -2.933594 C 3.738281 -2.035156 3.472656 -1.304688 3.257812 -0.738281 C 2.75 0.597656 2.390625 1.410156 2.183594 1.703125 C 1.976562 1.996094 1.617188 2.144531 1.109375 2.144531 C 0.984375 2.144531 0.890625 2.140625 0.824219 2.128906 C 0.757812 2.117188 0.671875 2.101562 0.578125 2.074219 L 0.578125 1.273438 C 0.730469 1.316406 0.839844 1.34375 0.90625 1.351562 C 0.976562 1.363281 1.035156 1.367188 1.089844 1.367188 C 1.25 1.367188 1.371094 1.339844 1.449219 1.285156 C 1.523438 1.234375 1.589844 1.167969 1.640625 1.089844 C 1.65625 1.0625 1.714844 0.929688 1.816406 0.6875 C 1.917969 0.445312 1.992188 0.269531 2.035156 0.152344 L 0.101562 -5.230469 L 1.097656 -5.230469 L 2.5 -0.972656 Z M 3.910156 -5.230469 \"/>\n</symbol>\n<symbol overflow=\"visible\" id=\"glyph0-21\">\n<path style=\"stroke:none;\" d=\"M 0.578125 -7.195312 L 1.429688 -7.195312 L 1.429688 -4.59375 C 1.621094 -4.84375 1.851562 -5.035156 2.117188 -5.167969 C 2.386719 -5.300781 2.675781 -5.367188 2.988281 -5.367188 C 3.640625 -5.367188 4.167969 -5.140625 4.574219 -4.695312 C 4.976562 -4.246094 5.179688 -3.585938 5.179688 -2.714844 C 5.179688 -1.886719 4.980469 -1.203125 4.578125 -0.65625 C 4.179688 -0.109375 3.625 0.164062 2.914062 0.164062 C 2.515625 0.164062 2.183594 0.0703125 1.910156 -0.121094 C 1.746094 -0.234375 1.570312 -0.417969 1.386719 -0.667969 L 1.386719 0 L 0.578125 0 Z M 2.859375 -0.609375 C 3.335938 -0.609375 3.691406 -0.800781 3.929688 -1.175781 C 4.164062 -1.554688 4.28125 -2.050781 4.28125 -2.671875 C 4.28125 -3.222656 4.164062 -3.675781 3.929688 -4.039062 C 3.691406 -4.398438 3.34375 -4.578125 2.886719 -4.578125 C 2.484375 -4.578125 2.132812 -4.433594 1.832031 -4.136719 C 1.53125 -3.839844 1.382812 -3.351562 1.382812 -2.671875 C 1.382812 -2.179688 1.445312 -1.78125 1.566406 -1.476562 C 1.796875 -0.898438 2.230469 -0.609375 2.859375 -0.609375 Z M 2.859375 -0.609375 \"/>\n</symbol>\n<symbol overflow=\"visible\" id=\"glyph0-22\">\n<path style=\"stroke:none;\" d=\"M 0.863281 -6.023438 C 0.875 -6.390625 0.941406 -6.65625 1.054688 -6.828125 C 1.257812 -7.125 1.65625 -7.273438 2.242188 -7.273438 C 2.296875 -7.273438 2.351562 -7.273438 2.414062 -7.269531 C 2.472656 -7.265625 2.539062 -7.261719 2.613281 -7.257812 L 2.613281 -6.453125 C 2.523438 -6.460938 2.457031 -6.464844 2.414062 -6.46875 C 2.375 -6.46875 2.335938 -6.46875 2.300781 -6.46875 C 2.03125 -6.46875 1.875 -6.402344 1.820312 -6.261719 C 1.769531 -6.125 1.742188 -5.773438 1.742188 -5.203125 L 2.613281 -5.203125 L 2.613281 -4.511719 L 1.734375 -4.511719 L 1.734375 0 L 0.863281 0 L 0.863281 -4.511719 L 0.136719 -4.511719 L 0.136719 -5.203125 L 0.863281 -5.203125 Z M 0.863281 -6.023438 \"/>\n</symbol>\n<symbol overflow=\"visible\" id=\"glyph0-23\">\n<path style=\"stroke:none;\" d=\"M 1.210938 -2.542969 C 1.210938 -2.089844 1.273438 -1.710938 1.402344 -1.40625 C 1.625 -0.863281 2.027344 -0.589844 2.609375 -0.589844 C 3.21875 -0.589844 3.640625 -0.878906 3.871094 -1.449219 C 4 -1.765625 4.0625 -2.167969 4.0625 -2.660156 C 4.0625 -3.113281 3.992188 -3.492188 3.851562 -3.792969 C 3.613281 -4.3125 3.195312 -4.570312 2.597656 -4.570312 C 2.21875 -4.570312 1.890625 -4.40625 1.617188 -4.074219 C 1.347656 -3.742188 1.210938 -3.234375 1.210938 -2.542969 Z M 2.507812 -5.347656 C 2.941406 -5.347656 3.308594 -5.238281 3.601562 -5.019531 C 3.765625 -4.902344 3.921875 -4.730469 4.070312 -4.5 L 4.070312 -5.230469 L 4.90625 -5.230469 L 4.90625 2.085938 L 4.023438 2.085938 L 4.023438 -0.601562 C 3.875 -0.367188 3.675781 -0.179688 3.414062 -0.0429688 C 3.15625 0.0976562 2.832031 0.164062 2.445312 0.164062 C 1.890625 0.164062 1.390625 -0.0507812 0.953125 -0.488281 C 0.511719 -0.925781 0.292969 -1.589844 0.292969 -2.480469 C 0.292969 -3.316406 0.5 -4.003906 0.910156 -4.539062 C 1.320312 -5.078125 1.855469 -5.347656 2.507812 -5.347656 Z M 2.507812 -5.347656 \"/>\n</symbol>\n<symbol overflow=\"visible\" id=\"glyph0-24\">\n<path style=\"stroke:none;\" d=\"M 1.050781 -5.230469 L 2.054688 -1.109375 L 3.078125 -5.230469 L 4.0625 -5.230469 L 5.085938 -1.132812 L 6.15625 -5.230469 L 7.035156 -5.230469 L 5.515625 0 L 4.605469 0 L 3.539062 -4.046875 L 2.507812 0 L 1.597656 0 L 0.0859375 -5.230469 Z M 1.050781 -5.230469 \"/>\n</symbol>\n<symbol overflow=\"visible\" id=\"glyph0-25\">\n<path style=\"stroke:none;\" d=\"M 0.625 -7.171875 L 1.46875 -7.171875 L 1.46875 -3.007812 L 3.726562 -5.230469 L 4.847656 -5.230469 L 2.847656 -3.273438 L 4.960938 0 L 3.835938 0 L 2.207031 -2.636719 L 1.46875 -1.960938 L 1.46875 0 L 0.625 0 Z M 0.625 -7.171875 \"/>\n</symbol>\n<symbol overflow=\"visible\" id=\"glyph1-0\">\n<path style=\"stroke:none;\" d=\"M 0.484375 0 L 0.484375 -10.757812 L 9.023438 -10.757812 L 9.023438 0 Z M 7.675781 -1.347656 L 7.675781 -9.410156 L 1.832031 -9.410156 L 1.832031 -1.347656 Z M 7.675781 -1.347656 \"/>\n</symbol>\n<symbol overflow=\"visible\" id=\"glyph1-1\">\n<path style=\"stroke:none;\" d=\"M 0.96875 -7.808594 L 2.308594 -7.808594 L 2.308594 0 L 0.96875 0 Z M 0.96875 -10.757812 L 2.308594 -10.757812 L 2.308594 -9.265625 L 0.96875 -9.265625 Z M 0.96875 -10.757812 \"/>\n</symbol>\n<symbol overflow=\"visible\" id=\"glyph1-2\">\n<path style=\"stroke:none;\" d=\"M 0.96875 -7.84375 L 2.269531 -7.84375 L 2.269531 -6.730469 C 2.582031 -7.117188 2.867188 -7.398438 3.121094 -7.574219 C 3.554688 -7.871094 4.046875 -8.019531 4.601562 -8.019531 C 5.226562 -8.019531 5.726562 -7.867188 6.109375 -7.558594 C 6.324219 -7.382812 6.519531 -7.125 6.695312 -6.78125 C 6.988281 -7.203125 7.332031 -7.511719 7.726562 -7.714844 C 8.121094 -7.917969 8.566406 -8.019531 9.058594 -8.019531 C 10.113281 -8.019531 10.832031 -7.640625 11.214844 -6.878906 C 11.417969 -6.46875 11.519531 -5.914062 11.519531 -5.222656 L 11.519531 0 L 10.152344 0 L 10.152344 -5.449219 C 10.152344 -5.972656 10.019531 -6.332031 9.757812 -6.527344 C 9.496094 -6.722656 9.179688 -6.820312 8.804688 -6.820312 C 8.285156 -6.820312 7.839844 -6.644531 7.46875 -6.296875 C 7.09375 -5.953125 6.90625 -5.375 6.90625 -4.5625 L 6.90625 0 L 5.566406 0 L 5.566406 -5.121094 C 5.566406 -5.652344 5.503906 -6.039062 5.375 -6.285156 C 5.175781 -6.652344 4.800781 -6.832031 4.253906 -6.832031 C 3.757812 -6.832031 3.304688 -6.640625 2.898438 -6.253906 C 2.488281 -5.867188 2.285156 -5.171875 2.285156 -4.160156 L 2.285156 0 L 0.96875 0 Z M 0.96875 -7.84375 \"/>\n</symbol>\n<symbol overflow=\"visible\" id=\"glyph1-3\">\n<path style=\"stroke:none;\" d=\"M 4.277344 -0.886719 C 4.890625 -0.886719 5.402344 -1.144531 5.8125 -1.660156 C 6.21875 -2.175781 6.421875 -2.945312 6.421875 -3.96875 C 6.421875 -4.59375 6.332031 -5.132812 6.152344 -5.582031 C 5.8125 -6.445312 5.1875 -6.878906 4.277344 -6.878906 C 3.363281 -6.878906 2.738281 -6.421875 2.402344 -5.507812 C 2.222656 -5.019531 2.132812 -4.398438 2.132812 -3.648438 C 2.132812 -3.042969 2.222656 -2.527344 2.402344 -2.101562 C 2.742188 -1.292969 3.367188 -0.886719 4.277344 -0.886719 Z M 0.863281 -7.808594 L 2.144531 -7.808594 L 2.144531 -6.765625 C 2.410156 -7.125 2.699219 -7.398438 3.011719 -7.59375 C 3.453125 -7.886719 3.976562 -8.035156 4.578125 -8.035156 C 5.464844 -8.035156 6.21875 -7.695312 6.839844 -7.011719 C 7.460938 -6.332031 7.769531 -5.359375 7.769531 -4.09375 C 7.769531 -2.386719 7.324219 -1.164062 6.429688 -0.433594 C 5.863281 0.03125 5.203125 0.265625 4.453125 0.265625 C 3.863281 0.265625 3.367188 0.132812 2.964844 -0.125 C 2.730469 -0.269531 2.46875 -0.523438 2.183594 -0.878906 L 2.183594 3.128906 L 0.863281 3.128906 Z M 0.863281 -7.808594 \"/>\n</symbol>\n<symbol overflow=\"visible\" id=\"glyph1-4\">\n<path style=\"stroke:none;\" d=\"M 1.003906 -7.84375 L 2.257812 -7.84375 L 2.257812 -6.488281 C 2.359375 -6.753906 2.609375 -7.074219 3.011719 -7.453125 C 3.410156 -7.832031 3.871094 -8.019531 4.394531 -8.019531 C 4.417969 -8.019531 4.460938 -8.015625 4.519531 -8.011719 C 4.578125 -8.007812 4.679688 -8 4.820312 -7.984375 L 4.820312 -6.59375 C 4.742188 -6.605469 4.667969 -6.617188 4.601562 -6.621094 C 4.535156 -6.625 4.464844 -6.628906 4.386719 -6.628906 C 3.722656 -6.628906 3.210938 -6.414062 2.855469 -5.988281 C 2.5 -5.5625 2.320312 -5.070312 2.320312 -4.511719 L 2.320312 0 L 1.003906 0 Z M 1.003906 -7.84375 \"/>\n</symbol>\n<symbol overflow=\"visible\" id=\"glyph1-5\">\n<path style=\"stroke:none;\" d=\"M 4.078125 -0.851562 C 4.953125 -0.851562 5.554688 -1.179688 5.878906 -1.84375 C 6.203125 -2.503906 6.363281 -3.238281 6.363281 -4.050781 C 6.363281 -4.78125 6.246094 -5.378906 6.011719 -5.835938 C 5.640625 -6.558594 5.003906 -6.921875 4.09375 -6.921875 C 3.289062 -6.921875 2.703125 -6.613281 2.335938 -6 C 1.96875 -5.382812 1.789062 -4.640625 1.789062 -3.773438 C 1.789062 -2.9375 1.96875 -2.242188 2.335938 -1.683594 C 2.703125 -1.128906 3.285156 -0.851562 4.078125 -0.851562 Z M 4.132812 -8.070312 C 5.140625 -8.070312 5.996094 -7.734375 6.695312 -7.0625 C 7.394531 -6.386719 7.742188 -5.394531 7.742188 -4.085938 C 7.742188 -2.820312 7.433594 -1.777344 6.820312 -0.953125 C 6.203125 -0.128906 5.25 0.285156 3.953125 0.285156 C 2.875 0.285156 2.019531 -0.078125 1.382812 -0.808594 C 0.75 -1.539062 0.433594 -2.519531 0.433594 -3.75 C 0.433594 -5.070312 0.765625 -6.117188 1.4375 -6.898438 C 2.105469 -7.679688 3.003906 -8.070312 4.132812 -8.070312 Z M 4.132812 -8.070312 \"/>\n</symbol>\n<symbol overflow=\"visible\" id=\"glyph1-6\">\n<path style=\"stroke:none;\" d=\"M 4.234375 -8.019531 C 4.789062 -8.019531 5.328125 -7.890625 5.851562 -7.628906 C 6.375 -7.367188 6.773438 -7.027344 7.046875 -6.613281 C 7.308594 -6.21875 7.484375 -5.757812 7.574219 -5.230469 C 7.652344 -4.867188 7.691406 -4.292969 7.691406 -3.5 L 1.941406 -3.5 C 1.964844 -2.703125 2.152344 -2.066406 2.503906 -1.585938 C 2.855469 -1.105469 3.402344 -0.863281 4.136719 -0.863281 C 4.828125 -0.863281 5.375 -1.089844 5.785156 -1.546875 C 6.019531 -1.808594 6.1875 -2.113281 6.285156 -2.460938 L 7.582031 -2.460938 C 7.546875 -2.171875 7.433594 -1.851562 7.238281 -1.496094 C 7.046875 -1.144531 6.832031 -0.855469 6.59375 -0.628906 C 6.191406 -0.238281 5.695312 0.0234375 5.105469 0.160156 C 4.789062 0.238281 4.429688 0.277344 4.027344 0.277344 C 3.050781 0.277344 2.222656 -0.078125 1.546875 -0.789062 C 0.867188 -1.5 0.527344 -2.492188 0.527344 -3.773438 C 0.527344 -5.03125 0.867188 -6.054688 1.554688 -6.839844 C 2.238281 -7.625 3.128906 -8.019531 4.234375 -8.019531 Z M 6.335938 -4.546875 C 6.28125 -5.117188 6.15625 -5.578125 5.960938 -5.917969 C 5.601562 -6.554688 4.996094 -6.871094 4.152344 -6.871094 C 3.546875 -6.871094 3.039062 -6.652344 2.628906 -6.214844 C 2.21875 -5.777344 2 -5.222656 1.976562 -4.546875 Z M 6.335938 -4.546875 \"/>\n</symbol>\n<symbol overflow=\"visible\" id=\"glyph1-7\">\n<path style=\"stroke:none;\" d=\"M 0 1.875 L 0 1.136719 L 8.34375 1.136719 L 8.34375 1.875 Z M 0 1.875 \"/>\n</symbol>\n<symbol overflow=\"visible\" id=\"glyph1-8\">\n<path style=\"stroke:none;\" d=\"M 1.976562 -2.085938 C 1.976562 -1.707031 2.117188 -1.40625 2.394531 -1.1875 C 2.671875 -0.96875 3.003906 -0.855469 3.382812 -0.855469 C 3.847656 -0.855469 4.296875 -0.964844 4.730469 -1.179688 C 5.464844 -1.535156 5.828125 -2.117188 5.828125 -2.929688 L 5.828125 -3.992188 C 5.667969 -3.890625 5.460938 -3.804688 5.207031 -3.734375 C 4.953125 -3.667969 4.703125 -3.617188 4.460938 -3.589844 L 3.664062 -3.484375 C 3.183594 -3.421875 2.824219 -3.324219 2.585938 -3.1875 C 2.179688 -2.957031 1.976562 -2.589844 1.976562 -2.085938 Z M 5.171875 -4.753906 C 5.472656 -4.792969 5.675781 -4.917969 5.777344 -5.132812 C 5.835938 -5.25 5.867188 -5.421875 5.867188 -5.640625 C 5.867188 -6.089844 5.707031 -6.414062 5.386719 -6.617188 C 5.066406 -6.820312 4.609375 -6.921875 4.015625 -6.921875 C 3.324219 -6.921875 2.835938 -6.734375 2.546875 -6.363281 C 2.386719 -6.160156 2.28125 -5.855469 2.234375 -5.449219 L 1.003906 -5.449219 C 1.027344 -6.414062 1.339844 -7.089844 1.945312 -7.46875 C 2.546875 -7.847656 3.246094 -8.035156 4.042969 -8.035156 C 4.964844 -8.035156 5.714844 -7.859375 6.292969 -7.507812 C 6.863281 -7.15625 7.148438 -6.609375 7.148438 -5.867188 L 7.148438 -1.347656 C 7.148438 -1.210938 7.175781 -1.101562 7.234375 -1.019531 C 7.289062 -0.9375 7.40625 -0.894531 7.585938 -0.894531 C 7.644531 -0.894531 7.710938 -0.898438 7.785156 -0.90625 C 7.859375 -0.914062 7.9375 -0.921875 8.019531 -0.9375 L 8.019531 0.0351562 C 7.816406 0.09375 7.660156 0.132812 7.550781 0.148438 C 7.445312 0.160156 7.296875 0.167969 7.113281 0.167969 C 6.65625 0.167969 6.328125 0.0078125 6.125 -0.316406 C 6.015625 -0.484375 5.941406 -0.726562 5.894531 -1.039062 C 5.625 -0.6875 5.242188 -0.382812 4.738281 -0.125 C 4.234375 0.132812 3.679688 0.265625 3.078125 0.265625 C 2.347656 0.265625 1.753906 0.0429688 1.292969 -0.398438 C 0.832031 -0.839844 0.601562 -1.394531 0.601562 -2.058594 C 0.601562 -2.785156 0.828125 -3.351562 1.28125 -3.75 C 1.734375 -4.148438 2.332031 -4.398438 3.070312 -4.488281 Z M 5.171875 -4.753906 \"/>\n</symbol>\n<symbol overflow=\"visible\" id=\"glyph1-9\">\n<path style=\"stroke:none;\" d=\"M 1.800781 -3.832031 C 1.800781 -2.992188 1.980469 -2.289062 2.335938 -1.722656 C 2.691406 -1.15625 3.265625 -0.871094 4.050781 -0.871094 C 4.660156 -0.871094 5.164062 -1.132812 5.554688 -1.660156 C 5.949219 -2.183594 6.144531 -2.9375 6.144531 -3.917969 C 6.144531 -4.910156 5.941406 -5.644531 5.539062 -6.121094 C 5.132812 -6.597656 4.632812 -6.832031 4.035156 -6.832031 C 3.371094 -6.832031 2.832031 -6.578125 2.421875 -6.070312 C 2.007812 -5.5625 1.800781 -4.816406 1.800781 -3.832031 Z M 3.785156 -7.984375 C 4.386719 -7.984375 4.890625 -7.855469 5.296875 -7.601562 C 5.53125 -7.457031 5.796875 -7.199219 6.09375 -6.832031 L 6.09375 -10.796875 L 7.359375 -10.796875 L 7.359375 0 L 6.175781 0 L 6.175781 -1.089844 C 5.867188 -0.609375 5.503906 -0.257812 5.082031 -0.0429688 C 4.664062 0.171875 4.183594 0.277344 3.640625 0.277344 C 2.765625 0.277344 2.007812 -0.0898438 1.371094 -0.824219 C 0.730469 -1.558594 0.410156 -2.535156 0.410156 -3.757812 C 0.410156 -4.898438 0.703125 -5.890625 1.285156 -6.726562 C 1.867188 -7.5625 2.703125 -7.984375 3.785156 -7.984375 Z M 3.785156 -7.984375 \"/>\n</symbol>\n<symbol overflow=\"visible\" id=\"glyph1-10\">\n<path style=\"stroke:none;\" d=\"M 2.285156 -9.234375 L 0.96875 -9.234375 L 0.96875 -10.757812 L 2.285156 -10.757812 Z M -0.277344 1.984375 C 0.3125 1.964844 0.667969 1.914062 0.789062 1.828125 C 0.90625 1.742188 0.96875 1.476562 0.96875 1.023438 L 0.96875 -7.808594 L 2.285156 -7.808594 L 2.285156 1.164062 C 2.285156 1.734375 2.191406 2.164062 2.007812 2.445312 C 1.699219 2.925781 1.117188 3.164062 0.257812 3.164062 C 0.195312 3.164062 0.125 3.160156 0.0546875 3.15625 C -0.015625 3.152344 -0.125 3.140625 -0.277344 3.128906 Z M -0.277344 1.984375 \"/>\n</symbol>\n<symbol overflow=\"visible\" id=\"glyph1-11\">\n<path style=\"stroke:none;\" d=\"M 3.992188 -8.070312 C 4.875 -8.070312 5.59375 -7.855469 6.148438 -7.425781 C 6.703125 -6.996094 7.035156 -6.257812 7.148438 -5.207031 L 5.867188 -5.207031 C 5.789062 -5.691406 5.609375 -6.09375 5.332031 -6.414062 C 5.054688 -6.734375 4.605469 -6.890625 3.992188 -6.890625 C 3.152344 -6.890625 2.550781 -6.480469 2.191406 -5.660156 C 1.957031 -5.128906 1.839844 -4.472656 1.839844 -3.691406 C 1.839844 -2.90625 2.003906 -2.242188 2.335938 -1.707031 C 2.667969 -1.167969 3.191406 -0.902344 3.902344 -0.902344 C 4.449219 -0.902344 4.882812 -1.066406 5.203125 -1.402344 C 5.523438 -1.738281 5.746094 -2.195312 5.867188 -2.777344 L 7.148438 -2.777344 C 7 -1.734375 6.636719 -0.976562 6.050781 -0.496094 C 5.464844 -0.015625 4.714844 0.226562 3.800781 0.226562 C 2.777344 0.226562 1.957031 -0.148438 1.347656 -0.898438 C 0.738281 -1.648438 0.433594 -2.582031 0.433594 -3.707031 C 0.433594 -5.082031 0.765625 -6.15625 1.4375 -6.921875 C 2.105469 -7.6875 2.957031 -8.070312 3.992188 -8.070312 Z M 3.992188 -8.070312 \"/>\n</symbol>\n<symbol overflow=\"visible\" id=\"glyph1-12\">\n<path style=\"stroke:none;\" d=\"M 1.230469 -10.035156 L 2.5625 -10.035156 L 2.5625 -7.84375 L 3.816406 -7.84375 L 3.816406 -6.765625 L 2.5625 -6.765625 L 2.5625 -1.648438 C 2.5625 -1.375 2.65625 -1.191406 2.84375 -1.097656 C 2.945312 -1.042969 3.117188 -1.019531 3.355469 -1.019531 C 3.417969 -1.019531 3.484375 -1.019531 3.558594 -1.023438 C 3.632812 -1.023438 3.71875 -1.03125 3.816406 -1.039062 L 3.816406 0 C 3.664062 0.0429688 3.507812 0.0742188 3.34375 0.09375 C 3.179688 0.113281 3.003906 0.125 2.8125 0.125 C 2.195312 0.125 1.78125 -0.03125 1.558594 -0.347656 C 1.339844 -0.664062 1.230469 -1.070312 1.230469 -1.574219 L 1.230469 -6.765625 L 0.167969 -6.765625 L 0.167969 -7.84375 L 1.230469 -7.84375 Z M 1.230469 -10.035156 \"/>\n</symbol>\n<symbol overflow=\"visible\" id=\"glyph1-13\">\n<path style=\"stroke:none;\" d=\"M 1.609375 -7.84375 L 3.707031 -1.457031 L 5.894531 -7.84375 L 7.339844 -7.84375 L 4.378906 0 L 2.972656 0 L 0.0820312 -7.84375 Z M 1.609375 -7.84375 \"/>\n</symbol>\n<symbol overflow=\"visible\" id=\"glyph1-14\">\n<path style=\"stroke:none;\" d=\"M 0.96875 -10.796875 L 2.285156 -10.796875 L 2.285156 -6.78125 C 2.597656 -7.175781 2.878906 -7.457031 3.128906 -7.617188 C 3.554688 -7.894531 4.082031 -8.035156 4.71875 -8.035156 C 5.855469 -8.035156 6.625 -7.636719 7.03125 -6.839844 C 7.25 -6.40625 7.359375 -5.804688 7.359375 -5.03125 L 7.359375 0 L 6.007812 0 L 6.007812 -4.945312 C 6.007812 -5.519531 5.933594 -5.941406 5.785156 -6.210938 C 5.546875 -6.640625 5.097656 -6.855469 4.4375 -6.855469 C 3.890625 -6.855469 3.394531 -6.667969 2.953125 -6.292969 C 2.507812 -5.914062 2.285156 -5.203125 2.285156 -4.160156 L 2.285156 0 L 0.96875 0 Z M 0.96875 -10.796875 \"/>\n</symbol>\n<symbol overflow=\"visible\" id=\"glyph1-15\">\n<path style=\"stroke:none;\" d=\"M 0.96875 -7.84375 L 2.21875 -7.84375 L 2.21875 -6.730469 C 2.589844 -7.191406 2.984375 -7.519531 3.398438 -7.71875 C 3.8125 -7.917969 4.273438 -8.019531 4.78125 -8.019531 C 5.894531 -8.019531 6.648438 -7.632812 7.039062 -6.855469 C 7.253906 -6.429688 7.359375 -5.824219 7.359375 -5.03125 L 7.359375 0 L 6.019531 0 L 6.019531 -4.945312 C 6.019531 -5.421875 5.949219 -5.808594 5.808594 -6.101562 C 5.574219 -6.589844 5.148438 -6.832031 4.535156 -6.832031 C 4.222656 -6.832031 3.964844 -6.800781 3.765625 -6.738281 C 3.402344 -6.632812 3.085938 -6.414062 2.8125 -6.09375 C 2.59375 -5.835938 2.449219 -5.566406 2.382812 -5.292969 C 2.316406 -5.015625 2.285156 -4.621094 2.285156 -4.109375 L 2.285156 0 L 0.96875 0 Z M 0.96875 -7.84375 \"/>\n</symbol>\n<symbol overflow=\"visible\" id=\"glyph1-16\">\n<path style=\"stroke:none;\" d=\"M 2.285156 -7.84375 L 2.285156 -2.636719 C 2.285156 -2.234375 2.347656 -1.910156 2.476562 -1.65625 C 2.710938 -1.1875 3.148438 -0.953125 3.785156 -0.953125 C 4.703125 -0.953125 5.328125 -1.363281 5.660156 -2.183594 C 5.84375 -2.621094 5.933594 -3.226562 5.933594 -3.992188 L 5.933594 -7.84375 L 7.25 -7.84375 L 7.25 0 L 6.007812 0 L 6.019531 -1.15625 C 5.847656 -0.859375 5.636719 -0.609375 5.382812 -0.402344 C 4.878906 0.0078125 4.269531 0.210938 3.550781 0.210938 C 2.433594 0.210938 1.671875 -0.160156 1.265625 -0.90625 C 1.046875 -1.308594 0.9375 -1.84375 0.9375 -2.511719 L 0.9375 -7.84375 Z M 2.285156 -7.84375 \"/>\n</symbol>\n</g>\n</defs>\n<g id=\"surface7\">\n<rect x=\"0\" y=\"0\" width=\"600\" height=\"500\" style=\"fill:rgb(100%,100%,100%);fill-opacity:1;stroke:none;\"/>\n<path style=\"fill:none;stroke-width:1;stroke-linecap:butt;stroke-linejoin:miter;stroke:rgb(74.509804%,74.509804%,74.509804%);stroke-opacity:1;stroke-miterlimit:10;\" d=\"M 403.226562 419.285156 L 321.574219 371.765625 \"/>\n<path style=\"fill:none;stroke-width:1;stroke-linecap:butt;stroke-linejoin:miter;stroke:rgb(74.509804%,74.509804%,74.509804%);stroke-opacity:1;stroke-miterlimit:10;\" d=\"M 77.691406 304.378906 L 228.101562 239.808594 \"/>\n<path style=\"fill:none;stroke-width:1;stroke-linecap:butt;stroke-linejoin:miter;stroke:rgb(74.509804%,74.509804%,74.509804%);stroke-opacity:1;stroke-miterlimit:10;\" d=\"M 314.152344 495 L 321.574219 371.765625 \"/>\n<path style=\"fill:none;stroke-width:1;stroke-linecap:butt;stroke-linejoin:miter;stroke:rgb(74.509804%,74.509804%,74.509804%);stroke-opacity:1;stroke-miterlimit:10;\" d=\"M 525.054688 76.210938 L 372.53125 137.316406 \"/>\n<path style=\"fill:none;stroke-width:1;stroke-linecap:butt;stroke-linejoin:miter;stroke:rgb(74.509804%,74.509804%,74.509804%);stroke-opacity:1;stroke-miterlimit:10;\" d=\"M 337.070312 6.691406 L 372.53125 137.316406 \"/>\n<path style=\"fill:none;stroke-width:1;stroke-linecap:butt;stroke-linejoin:miter;stroke:rgb(74.509804%,74.509804%,74.509804%);stroke-opacity:1;stroke-miterlimit:10;\" d=\"M 389.339844 5 L 372.53125 137.316406 \"/>\n<path style=\"fill:none;stroke-width:1;stroke-linecap:butt;stroke-linejoin:miter;stroke:rgb(74.509804%,74.509804%,74.509804%);stroke-opacity:1;stroke-miterlimit:10;\" d=\"M 478.167969 424.488281 L 321.574219 371.765625 \"/>\n<path style=\"fill:none;stroke-width:1;stroke-linecap:butt;stroke-linejoin:miter;stroke:rgb(74.509804%,74.509804%,74.509804%);stroke-opacity:1;stroke-miterlimit:10;\" d=\"M 505.296875 190.898438 L 372.53125 137.316406 \"/>\n<path style=\"fill:none;stroke-width:1;stroke-linecap:butt;stroke-linejoin:miter;stroke:rgb(74.509804%,74.509804%,74.509804%);stroke-opacity:1;stroke-miterlimit:10;\" d=\"M 491.273438 49 L 372.53125 137.316406 \"/>\n<path style=\"fill:none;stroke-width:1;stroke-linecap:butt;stroke-linejoin:miter;stroke:rgb(74.509804%,74.509804%,74.509804%);stroke-opacity:1;stroke-miterlimit:10;\" d=\"M 435.417969 84.648438 L 372.53125 137.316406 \"/>\n<path style=\"fill:none;stroke-width:1;stroke-linecap:butt;stroke-linejoin:miter;stroke:rgb(74.509804%,74.509804%,74.509804%);stroke-opacity:1;stroke-miterlimit:10;\" d=\"M 116.832031 320.546875 L 228.101562 239.808594 \"/>\n<path style=\"fill:none;stroke-width:1;stroke-linecap:butt;stroke-linejoin:miter;stroke:rgb(74.509804%,74.509804%,74.509804%);stroke-opacity:1;stroke-miterlimit:10;\" d=\"M 163.714844 311.210938 L 228.101562 239.808594 \"/>\n<path style=\"fill:none;stroke-width:1;stroke-linecap:butt;stroke-linejoin:miter;stroke:rgb(74.509804%,74.509804%,74.509804%);stroke-opacity:1;stroke-miterlimit:10;\" d=\"M 546.75 181.804688 L 372.53125 137.316406 \"/>\n<path style=\"fill:none;stroke-width:1;stroke-linecap:butt;stroke-linejoin:miter;stroke:rgb(74.509804%,74.509804%,74.509804%);stroke-opacity:1;stroke-miterlimit:10;\" d=\"M 152.148438 427.234375 L 321.574219 371.765625 \"/>\n<path style=\"fill:none;stroke-width:1;stroke-linecap:butt;stroke-linejoin:miter;stroke:rgb(74.509804%,74.509804%,74.509804%);stroke-opacity:1;stroke-miterlimit:10;\" d=\"M 108.761719 218.640625 L 228.101562 239.808594 \"/>\n<path style=\"fill:none;stroke-width:1;stroke-linecap:butt;stroke-linejoin:miter;stroke:rgb(74.509804%,74.509804%,74.509804%);stroke-opacity:1;stroke-miterlimit:10;\" d=\"M 452.851562 22.730469 L 372.53125 137.316406 \"/>\n<path style=\"fill:none;stroke-width:1;stroke-linecap:butt;stroke-linejoin:miter;stroke:rgb(74.509804%,74.509804%,74.509804%);stroke-opacity:1;stroke-miterlimit:10;\" d=\"M 488.027344 360.761719 L 321.574219 371.765625 \"/>\n<path style=\"fill:none;stroke-width:1;stroke-linecap:butt;stroke-linejoin:miter;stroke:rgb(74.509804%,74.509804%,74.509804%);stroke-opacity:1;stroke-miterlimit:10;\" d=\"M 176.097656 458 L 321.574219 371.765625 \"/>\n<path style=\"fill:none;stroke-width:1;stroke-linecap:butt;stroke-linejoin:miter;stroke:rgb(74.509804%,74.509804%,74.509804%);stroke-opacity:1;stroke-miterlimit:10;\" d=\"M 52.308594 206.210938 L 228.101562 239.808594 \"/>\n<path style=\"fill:none;stroke-width:1;stroke-linecap:butt;stroke-linejoin:miter;stroke:rgb(74.509804%,74.509804%,74.509804%);stroke-opacity:1;stroke-miterlimit:10;\" d=\"M 424.179688 264.035156 L 321.574219 371.765625 \"/>\n<path style=\"fill:none;stroke-width:1;stroke-linecap:butt;stroke-linejoin:miter;stroke:rgb(74.509804%,74.509804%,74.509804%);stroke-opacity:1;stroke-miterlimit:10;\" d=\"M 424.179688 264.035156 L 372.53125 137.316406 \"/>\n<path style=\"fill:none;stroke-width:1;stroke-linecap:butt;stroke-linejoin:miter;stroke:rgb(74.509804%,74.509804%,74.509804%);stroke-opacity:1;stroke-miterlimit:10;\" d=\"M 50 243.039062 L 228.101562 239.808594 \"/>\n<path style=\"fill:none;stroke-width:1;stroke-linecap:butt;stroke-linejoin:miter;stroke:rgb(74.509804%,74.509804%,74.509804%);stroke-opacity:1;stroke-miterlimit:10;\" d=\"M 396.777344 259.175781 L 321.574219 371.765625 \"/>\n<path style=\"fill:none;stroke-width:1;stroke-linecap:butt;stroke-linejoin:miter;stroke:rgb(74.509804%,74.509804%,74.509804%);stroke-opacity:1;stroke-miterlimit:10;\" d=\"M 396.777344 259.175781 L 372.53125 137.316406 \"/>\n<path style=\"fill:none;stroke-width:1;stroke-linecap:butt;stroke-linejoin:miter;stroke:rgb(74.509804%,74.509804%,74.509804%);stroke-opacity:1;stroke-miterlimit:10;\" d=\"M 240.5 57.242188 L 372.53125 137.316406 \"/>\n<path style=\"fill:none;stroke-width:1;stroke-linecap:butt;stroke-linejoin:miter;stroke:rgb(74.509804%,74.509804%,74.509804%);stroke-opacity:1;stroke-miterlimit:10;\" d=\"M 242.035156 180.648438 L 228.101562 239.808594 \"/>\n<path style=\"fill:none;stroke-width:1;stroke-linecap:butt;stroke-linejoin:miter;stroke:rgb(74.509804%,74.509804%,74.509804%);stroke-opacity:1;stroke-miterlimit:10;\" d=\"M 141.105469 136.601562 L 228.101562 239.808594 \"/>\n<path style=\"fill:none;stroke-width:1;stroke-linecap:butt;stroke-linejoin:miter;stroke:rgb(74.509804%,74.509804%,74.509804%);stroke-opacity:1;stroke-miterlimit:10;\" d=\"M 215.839844 296.734375 L 228.101562 239.808594 \"/>\n<path style=\"fill:none;stroke-width:1;stroke-linecap:butt;stroke-linejoin:miter;stroke:rgb(74.509804%,74.509804%,74.509804%);stroke-opacity:1;stroke-miterlimit:10;\" d=\"M 59.585938 275.011719 L 228.101562 239.808594 \"/>\n<path style=\"fill:none;stroke-width:1;stroke-linecap:butt;stroke-linejoin:miter;stroke:rgb(74.509804%,74.509804%,74.509804%);stroke-opacity:1;stroke-miterlimit:10;\" d=\"M 293.851562 16.707031 L 372.53125 137.316406 \"/>\n<path style=\"fill:none;stroke-width:1;stroke-linecap:butt;stroke-linejoin:miter;stroke:rgb(74.509804%,74.509804%,74.509804%);stroke-opacity:1;stroke-miterlimit:10;\" d=\"M 202.8125 417.917969 L 321.574219 371.765625 \"/>\n<path style=\"fill:none;stroke-width:1;stroke-linecap:butt;stroke-linejoin:miter;stroke:rgb(74.509804%,74.509804%,74.509804%);stroke-opacity:1;stroke-miterlimit:10;\" d=\"M 313.683594 260.585938 L 228.101562 239.808594 \"/>\n<path style=\"fill:none;stroke-width:1;stroke-linecap:butt;stroke-linejoin:miter;stroke:rgb(74.509804%,74.509804%,74.509804%);stroke-opacity:1;stroke-miterlimit:10;\" d=\"M 408.558594 472.558594 L 321.574219 371.765625 \"/>\n<path style=\"fill:none;stroke-width:1;stroke-linecap:butt;stroke-linejoin:miter;stroke:rgb(74.509804%,74.509804%,74.509804%);stroke-opacity:1;stroke-miterlimit:10;\" d=\"M 228.101562 239.808594 L 100.621094 148.558594 \"/>\n<path style=\"fill:none;stroke-width:1;stroke-linecap:butt;stroke-linejoin:miter;stroke:rgb(74.509804%,74.509804%,74.509804%);stroke-opacity:1;stroke-miterlimit:10;\" d=\"M 228.101562 239.808594 L 157.535156 190.410156 \"/>\n<path style=\"fill:none;stroke-width:1;stroke-linecap:butt;stroke-linejoin:miter;stroke:rgb(74.509804%,74.509804%,74.509804%);stroke-opacity:1;stroke-miterlimit:10;\" d=\"M 228.101562 239.808594 L 285.796875 317.289062 \"/>\n<path style=\"fill:none;stroke-width:1;stroke-linecap:butt;stroke-linejoin:miter;stroke:rgb(74.509804%,74.509804%,74.509804%);stroke-opacity:1;stroke-miterlimit:10;\" d=\"M 228.101562 239.808594 L 303.152344 219.363281 \"/>\n<path style=\"fill:none;stroke-width:1;stroke-linecap:butt;stroke-linejoin:miter;stroke:rgb(74.509804%,74.509804%,74.509804%);stroke-opacity:1;stroke-miterlimit:10;\" d=\"M 228.101562 239.808594 L 321.574219 371.765625 \"/>\n<path style=\"fill:none;stroke-width:1;stroke-linecap:butt;stroke-linejoin:miter;stroke:rgb(74.509804%,74.509804%,74.509804%);stroke-opacity:1;stroke-miterlimit:10;\" d=\"M 228.101562 239.808594 L 372.53125 137.316406 \"/>\n<path style=\"fill:none;stroke-width:1;stroke-linecap:butt;stroke-linejoin:miter;stroke:rgb(74.509804%,74.509804%,74.509804%);stroke-opacity:1;stroke-miterlimit:10;\" d=\"M 228.101562 239.808594 L 72.980469 173.847656 \"/>\n<path style=\"fill:none;stroke-width:1;stroke-linecap:butt;stroke-linejoin:miter;stroke:rgb(74.509804%,74.509804%,74.509804%);stroke-opacity:1;stroke-miterlimit:10;\" d=\"M 228.101562 239.808594 L 132.015625 263.609375 \"/>\n<path style=\"fill:none;stroke-width:1;stroke-linecap:butt;stroke-linejoin:miter;stroke:rgb(74.509804%,74.509804%,74.509804%);stroke-opacity:1;stroke-miterlimit:10;\" d=\"M 228.101562 239.808594 L 189.355469 153.148438 \"/>\n<path style=\"fill:none;stroke-width:1;stroke-linecap:butt;stroke-linejoin:miter;stroke:rgb(74.509804%,74.509804%,74.509804%);stroke-opacity:1;stroke-miterlimit:10;\" d=\"M 331.96875 447.523438 L 321.574219 371.765625 \"/>\n<path style=\"fill:none;stroke-width:1;stroke-linecap:butt;stroke-linejoin:miter;stroke:rgb(74.509804%,74.509804%,74.509804%);stroke-opacity:1;stroke-miterlimit:10;\" d=\"M 548.363281 112.054688 L 372.53125 137.316406 \"/>\n<path style=\"fill:none;stroke-width:1;stroke-linecap:butt;stroke-linejoin:miter;stroke:rgb(74.509804%,74.509804%,74.509804%);stroke-opacity:1;stroke-miterlimit:10;\" d=\"M 342.585938 63.304688 L 372.53125 137.316406 \"/>\n<path style=\"fill:none;stroke-width:1;stroke-linecap:butt;stroke-linejoin:miter;stroke:rgb(74.509804%,74.509804%,74.509804%);stroke-opacity:1;stroke-miterlimit:10;\" d=\"M 290.167969 79.070312 L 372.53125 137.316406 \"/>\n<path style=\"fill:none;stroke-width:1;stroke-linecap:butt;stroke-linejoin:miter;stroke:rgb(74.509804%,74.509804%,74.509804%);stroke-opacity:1;stroke-miterlimit:10;\" d=\"M 265.011719 490.824219 L 321.574219 371.765625 \"/>\n<path style=\"fill:none;stroke-width:1;stroke-linecap:butt;stroke-linejoin:miter;stroke:rgb(74.509804%,74.509804%,74.509804%);stroke-opacity:1;stroke-miterlimit:10;\" d=\"M 251.089844 26.792969 L 372.53125 137.316406 \"/>\n<path style=\"fill:none;stroke-width:1;stroke-linecap:butt;stroke-linejoin:miter;stroke:rgb(74.509804%,74.509804%,74.509804%);stroke-opacity:1;stroke-miterlimit:10;\" d=\"M 285.796875 317.289062 L 321.574219 371.765625 \"/>\n<path style=\"fill:none;stroke-width:1;stroke-linecap:butt;stroke-linejoin:miter;stroke:rgb(74.509804%,74.509804%,74.509804%);stroke-opacity:1;stroke-miterlimit:10;\" d=\"M 500.253906 393.292969 L 321.574219 371.765625 \"/>\n<path style=\"fill:none;stroke-width:1;stroke-linecap:butt;stroke-linejoin:miter;stroke:rgb(74.509804%,74.509804%,74.509804%);stroke-opacity:1;stroke-miterlimit:10;\" d=\"M 550 147.535156 L 372.53125 137.316406 \"/>\n<path style=\"fill:none;stroke-width:1;stroke-linecap:butt;stroke-linejoin:miter;stroke:rgb(74.509804%,74.509804%,74.509804%);stroke-opacity:1;stroke-miterlimit:10;\" d=\"M 321.574219 371.765625 L 258.992188 440.1875 \"/>\n<path style=\"fill:none;stroke-width:1;stroke-linecap:butt;stroke-linejoin:miter;stroke:rgb(74.509804%,74.509804%,74.509804%);stroke-opacity:1;stroke-miterlimit:10;\" d=\"M 321.574219 371.765625 L 451.28125 454.488281 \"/>\n<path style=\"fill:none;stroke-width:1;stroke-linecap:butt;stroke-linejoin:miter;stroke:rgb(74.509804%,74.509804%,74.509804%);stroke-opacity:1;stroke-miterlimit:10;\" d=\"M 321.574219 371.765625 L 438.757812 376.667969 \"/>\n<path style=\"fill:none;stroke-width:1;stroke-linecap:butt;stroke-linejoin:miter;stroke:rgb(74.509804%,74.509804%,74.509804%);stroke-opacity:1;stroke-miterlimit:10;\" d=\"M 321.574219 371.765625 L 366.511719 489.90625 \"/>\n<path style=\"fill:none;stroke-width:1;stroke-linecap:butt;stroke-linejoin:miter;stroke:rgb(74.509804%,74.509804%,74.509804%);stroke-opacity:1;stroke-miterlimit:10;\" d=\"M 321.574219 371.765625 L 216.828125 479.027344 \"/>\n<path style=\"fill:none;stroke-width:1;stroke-linecap:butt;stroke-linejoin:miter;stroke:rgb(74.509804%,74.509804%,74.509804%);stroke-opacity:1;stroke-miterlimit:10;\" d=\"M 403.09375 42.085938 L 372.53125 137.316406 \"/>\n<path style=\"fill:none;stroke-width:1;stroke-linecap:butt;stroke-linejoin:miter;stroke:rgb(74.509804%,74.509804%,74.509804%);stroke-opacity:1;stroke-miterlimit:10;\" d=\"M 372.53125 137.316406 L 487.179688 116.308594 \"/>\n<path style=\"fill:none;stroke-width:1;stroke-linecap:butt;stroke-linejoin:miter;stroke:rgb(74.509804%,74.509804%,74.509804%);stroke-opacity:1;stroke-miterlimit:10;\" d=\"M 372.53125 137.316406 L 465.558594 160.628906 \"/>\n<g style=\"fill:rgb(0%,0%,0%);fill-opacity:1;\">\n  <use xlink:href=\"#glyph0-1\" x=\"363.40625\" y=\"424.035156\"/>\n  <use xlink:href=\"#glyph0-2\" x=\"368.967773\" y=\"424.035156\"/>\n  <use xlink:href=\"#glyph0-3\" x=\"371.189453\" y=\"424.035156\"/>\n  <use xlink:href=\"#glyph0-4\" x=\"376.750977\" y=\"424.035156\"/>\n  <use xlink:href=\"#glyph0-5\" x=\"379.529297\" y=\"424.035156\"/>\n  <use xlink:href=\"#glyph0-6\" x=\"385.09082\" y=\"424.035156\"/>\n  <use xlink:href=\"#glyph0-7\" x=\"390.652344\" y=\"424.035156\"/>\n  <use xlink:href=\"#glyph0-8\" x=\"392.874023\" y=\"424.035156\"/>\n  <use xlink:href=\"#glyph0-9\" x=\"397.874023\" y=\"424.035156\"/>\n  <use xlink:href=\"#glyph0-3\" x=\"403.435547\" y=\"424.035156\"/>\n  <use xlink:href=\"#glyph0-10\" x=\"408.99707\" y=\"424.035156\"/>\n  <use xlink:href=\"#glyph0-11\" x=\"414.558594\" y=\"424.035156\"/>\n  <use xlink:href=\"#glyph0-12\" x=\"416.780273\" y=\"424.035156\"/>\n  <use xlink:href=\"#glyph0-8\" x=\"422.341797\" y=\"424.035156\"/>\n  <use xlink:href=\"#glyph0-4\" x=\"427.341797\" y=\"424.035156\"/>\n  <use xlink:href=\"#glyph0-7\" x=\"430.120117\" y=\"424.035156\"/>\n  <use xlink:href=\"#glyph0-13\" x=\"432.341797\" y=\"424.035156\"/>\n  <use xlink:href=\"#glyph0-12\" x=\"437.341797\" y=\"424.035156\"/>\n</g>\n<g style=\"fill:rgb(0%,0%,0%);fill-opacity:1;\">\n  <use xlink:href=\"#glyph0-14\" x=\"44.0625\" y=\"309.113281\"/>\n  <use xlink:href=\"#glyph0-3\" x=\"52.392578\" y=\"309.113281\"/>\n  <use xlink:href=\"#glyph0-15\" x=\"57.954102\" y=\"309.113281\"/>\n  <use xlink:href=\"#glyph0-15\" x=\"61.28418\" y=\"309.113281\"/>\n  <use xlink:href=\"#glyph0-7\" x=\"64.614258\" y=\"309.113281\"/>\n  <use xlink:href=\"#glyph0-3\" x=\"66.835938\" y=\"309.113281\"/>\n  <use xlink:href=\"#glyph0-16\" x=\"72.397461\" y=\"309.113281\"/>\n  <use xlink:href=\"#glyph0-12\" x=\"77.958984\" y=\"309.113281\"/>\n  <use xlink:href=\"#glyph0-9\" x=\"83.520508\" y=\"309.113281\"/>\n  <use xlink:href=\"#glyph0-6\" x=\"89.082031\" y=\"309.113281\"/>\n  <use xlink:href=\"#glyph0-5\" x=\"94.643555\" y=\"309.113281\"/>\n  <use xlink:href=\"#glyph0-17\" x=\"100.205078\" y=\"309.113281\"/>\n  <use xlink:href=\"#glyph0-6\" x=\"105.766602\" y=\"309.113281\"/>\n</g>\n<g style=\"fill:rgb(0%,0%,0%);fill-opacity:1;\">\n  <use xlink:href=\"#glyph0-18\" x=\"288.859375\" y=\"499.75\"/>\n  <use xlink:href=\"#glyph0-12\" x=\"294.420898\" y=\"499.75\"/>\n  <use xlink:href=\"#glyph0-3\" x=\"299.982422\" y=\"499.75\"/>\n  <use xlink:href=\"#glyph0-15\" x=\"305.543945\" y=\"499.75\"/>\n  <use xlink:href=\"#glyph0-4\" x=\"308.874023\" y=\"499.75\"/>\n  <use xlink:href=\"#glyph0-9\" x=\"311.652344\" y=\"499.75\"/>\n  <use xlink:href=\"#glyph0-6\" x=\"317.213867\" y=\"499.75\"/>\n  <use xlink:href=\"#glyph0-5\" x=\"322.775391\" y=\"499.75\"/>\n  <use xlink:href=\"#glyph0-17\" x=\"328.336914\" y=\"499.75\"/>\n  <use xlink:href=\"#glyph0-6\" x=\"333.898438\" y=\"499.75\"/>\n</g>\n<g style=\"fill:rgb(0%,0%,0%);fill-opacity:1;\">\n  <use xlink:href=\"#glyph0-15\" x=\"496.6875\" y=\"80.960938\"/>\n  <use xlink:href=\"#glyph0-12\" x=\"500.017578\" y=\"80.960938\"/>\n  <use xlink:href=\"#glyph0-16\" x=\"505.579102\" y=\"80.960938\"/>\n  <use xlink:href=\"#glyph0-3\" x=\"511.140625\" y=\"80.960938\"/>\n  <use xlink:href=\"#glyph0-15\" x=\"516.702148\" y=\"80.960938\"/>\n  <use xlink:href=\"#glyph0-10\" x=\"520.032227\" y=\"80.960938\"/>\n  <use xlink:href=\"#glyph0-9\" x=\"525.59375\" y=\"80.960938\"/>\n  <use xlink:href=\"#glyph0-6\" x=\"531.155273\" y=\"80.960938\"/>\n  <use xlink:href=\"#glyph0-5\" x=\"536.716797\" y=\"80.960938\"/>\n  <use xlink:href=\"#glyph0-17\" x=\"542.27832\" y=\"80.960938\"/>\n  <use xlink:href=\"#glyph0-6\" x=\"547.839844\" y=\"80.960938\"/>\n</g>\n<g style=\"fill:rgb(0%,0%,0%);fill-opacity:1;\">\n  <use xlink:href=\"#glyph0-18\" x=\"308.445312\" y=\"11.441406\"/>\n  <use xlink:href=\"#glyph0-7\" x=\"314.006836\" y=\"11.441406\"/>\n  <use xlink:href=\"#glyph0-19\" x=\"316.228516\" y=\"11.441406\"/>\n  <use xlink:href=\"#glyph0-4\" x=\"321.228516\" y=\"11.441406\"/>\n  <use xlink:href=\"#glyph0-5\" x=\"324.006836\" y=\"11.441406\"/>\n  <use xlink:href=\"#glyph0-15\" x=\"329.568359\" y=\"11.441406\"/>\n  <use xlink:href=\"#glyph0-20\" x=\"332.898438\" y=\"11.441406\"/>\n  <use xlink:href=\"#glyph0-9\" x=\"337.898438\" y=\"11.441406\"/>\n  <use xlink:href=\"#glyph0-6\" x=\"343.459961\" y=\"11.441406\"/>\n  <use xlink:href=\"#glyph0-5\" x=\"349.021484\" y=\"11.441406\"/>\n  <use xlink:href=\"#glyph0-17\" x=\"354.583008\" y=\"11.441406\"/>\n  <use xlink:href=\"#glyph0-6\" x=\"360.144531\" y=\"11.441406\"/>\n</g>\n<g style=\"fill:rgb(0%,0%,0%);fill-opacity:1;\">\n  <use xlink:href=\"#glyph0-4\" x=\"366.261719\" y=\"9.734375\"/>\n  <use xlink:href=\"#glyph0-7\" x=\"369.040039\" y=\"9.734375\"/>\n  <use xlink:href=\"#glyph0-14\" x=\"371.261719\" y=\"9.734375\"/>\n  <use xlink:href=\"#glyph0-12\" x=\"379.591797\" y=\"9.734375\"/>\n  <use xlink:href=\"#glyph0-9\" x=\"385.15332\" y=\"9.734375\"/>\n  <use xlink:href=\"#glyph0-6\" x=\"390.714844\" y=\"9.734375\"/>\n  <use xlink:href=\"#glyph0-5\" x=\"396.276367\" y=\"9.734375\"/>\n  <use xlink:href=\"#glyph0-17\" x=\"401.837891\" y=\"9.734375\"/>\n  <use xlink:href=\"#glyph0-6\" x=\"407.399414\" y=\"9.734375\"/>\n</g>\n<g style=\"fill:rgb(0%,0%,0%);fill-opacity:1;\">\n  <use xlink:href=\"#glyph0-3\" x=\"441.496094\" y=\"429.238281\"/>\n  <use xlink:href=\"#glyph0-15\" x=\"447.057617\" y=\"429.238281\"/>\n  <use xlink:href=\"#glyph0-10\" x=\"450.387695\" y=\"429.238281\"/>\n  <use xlink:href=\"#glyph0-12\" x=\"455.949219\" y=\"429.238281\"/>\n  <use xlink:href=\"#glyph0-6\" x=\"461.510742\" y=\"429.238281\"/>\n  <use xlink:href=\"#glyph0-4\" x=\"467.072266\" y=\"429.238281\"/>\n  <use xlink:href=\"#glyph0-9\" x=\"469.850586\" y=\"429.238281\"/>\n  <use xlink:href=\"#glyph0-3\" x=\"475.412109\" y=\"429.238281\"/>\n  <use xlink:href=\"#glyph0-10\" x=\"480.973633\" y=\"429.238281\"/>\n  <use xlink:href=\"#glyph0-11\" x=\"486.535156\" y=\"429.238281\"/>\n  <use xlink:href=\"#glyph0-12\" x=\"488.756836\" y=\"429.238281\"/>\n  <use xlink:href=\"#glyph0-8\" x=\"494.318359\" y=\"429.238281\"/>\n  <use xlink:href=\"#glyph0-4\" x=\"499.318359\" y=\"429.238281\"/>\n  <use xlink:href=\"#glyph0-7\" x=\"502.09668\" y=\"429.238281\"/>\n  <use xlink:href=\"#glyph0-13\" x=\"504.318359\" y=\"429.238281\"/>\n  <use xlink:href=\"#glyph0-12\" x=\"509.318359\" y=\"429.238281\"/>\n</g>\n<g style=\"fill:rgb(0%,0%,0%);fill-opacity:1;\">\n  <use xlink:href=\"#glyph0-6\" x=\"477.222656\" y=\"195.394531\"/>\n  <use xlink:href=\"#glyph0-3\" x=\"482.78418\" y=\"195.394531\"/>\n  <use xlink:href=\"#glyph0-4\" x=\"488.345703\" y=\"195.394531\"/>\n  <use xlink:href=\"#glyph0-17\" x=\"491.124023\" y=\"195.394531\"/>\n  <use xlink:href=\"#glyph0-15\" x=\"496.685547\" y=\"195.394531\"/>\n  <use xlink:href=\"#glyph0-12\" x=\"500.015625\" y=\"195.394531\"/>\n  <use xlink:href=\"#glyph0-9\" x=\"505.577148\" y=\"195.394531\"/>\n  <use xlink:href=\"#glyph0-6\" x=\"511.138672\" y=\"195.394531\"/>\n  <use xlink:href=\"#glyph0-5\" x=\"516.700195\" y=\"195.394531\"/>\n  <use xlink:href=\"#glyph0-17\" x=\"522.261719\" y=\"195.394531\"/>\n  <use xlink:href=\"#glyph0-6\" x=\"527.823242\" y=\"195.394531\"/>\n</g>\n<g style=\"fill:rgb(0%,0%,0%);fill-opacity:1;\">\n  <use xlink:href=\"#glyph0-19\" x=\"456.007812\" y=\"53.746094\"/>\n  <use xlink:href=\"#glyph0-12\" x=\"461.007812\" y=\"53.746094\"/>\n  <use xlink:href=\"#glyph0-8\" x=\"466.569336\" y=\"53.746094\"/>\n  <use xlink:href=\"#glyph0-15\" x=\"471.569336\" y=\"53.746094\"/>\n  <use xlink:href=\"#glyph0-12\" x=\"474.899414\" y=\"53.746094\"/>\n  <use xlink:href=\"#glyph0-4\" x=\"480.460938\" y=\"53.746094\"/>\n  <use xlink:href=\"#glyph0-2\" x=\"483.239258\" y=\"53.746094\"/>\n  <use xlink:href=\"#glyph0-20\" x=\"485.460938\" y=\"53.746094\"/>\n  <use xlink:href=\"#glyph0-9\" x=\"490.460938\" y=\"53.746094\"/>\n  <use xlink:href=\"#glyph0-3\" x=\"496.022461\" y=\"53.746094\"/>\n  <use xlink:href=\"#glyph0-10\" x=\"501.583984\" y=\"53.746094\"/>\n  <use xlink:href=\"#glyph0-13\" x=\"507.145508\" y=\"53.746094\"/>\n  <use xlink:href=\"#glyph0-12\" x=\"512.145508\" y=\"53.746094\"/>\n  <use xlink:href=\"#glyph0-15\" x=\"517.707031\" y=\"53.746094\"/>\n  <use xlink:href=\"#glyph0-21\" x=\"521.037109\" y=\"53.746094\"/>\n</g>\n<g style=\"fill:rgb(0%,0%,0%);fill-opacity:1;\">\n  <use xlink:href=\"#glyph0-10\" x=\"404.902344\" y=\"89.398438\"/>\n  <use xlink:href=\"#glyph0-7\" x=\"410.463867\" y=\"89.398438\"/>\n  <use xlink:href=\"#glyph0-19\" x=\"412.685547\" y=\"89.398438\"/>\n  <use xlink:href=\"#glyph0-19\" x=\"417.685547\" y=\"89.398438\"/>\n  <use xlink:href=\"#glyph0-5\" x=\"422.685547\" y=\"89.398438\"/>\n  <use xlink:href=\"#glyph0-2\" x=\"428.24707\" y=\"89.398438\"/>\n  <use xlink:href=\"#glyph0-13\" x=\"430.46875\" y=\"89.398438\"/>\n  <use xlink:href=\"#glyph0-12\" x=\"435.46875\" y=\"89.398438\"/>\n  <use xlink:href=\"#glyph0-9\" x=\"441.030273\" y=\"89.398438\"/>\n  <use xlink:href=\"#glyph0-13\" x=\"446.591797\" y=\"89.398438\"/>\n  <use xlink:href=\"#glyph0-12\" x=\"451.591797\" y=\"89.398438\"/>\n  <use xlink:href=\"#glyph0-15\" x=\"457.15332\" y=\"89.398438\"/>\n  <use xlink:href=\"#glyph0-21\" x=\"460.483398\" y=\"89.398438\"/>\n</g>\n<g style=\"fill:rgb(0%,0%,0%);fill-opacity:1;\">\n  <use xlink:href=\"#glyph0-18\" x=\"85.570312\" y=\"325.296875\"/>\n  <use xlink:href=\"#glyph0-7\" x=\"91.131836\" y=\"325.296875\"/>\n  <use xlink:href=\"#glyph0-16\" x=\"93.353516\" y=\"325.296875\"/>\n  <use xlink:href=\"#glyph0-18\" x=\"98.915039\" y=\"325.296875\"/>\n  <use xlink:href=\"#glyph0-2\" x=\"104.476562\" y=\"325.296875\"/>\n  <use xlink:href=\"#glyph0-20\" x=\"106.698242\" y=\"325.296875\"/>\n  <use xlink:href=\"#glyph0-9\" x=\"111.698242\" y=\"325.296875\"/>\n  <use xlink:href=\"#glyph0-3\" x=\"117.259766\" y=\"325.296875\"/>\n  <use xlink:href=\"#glyph0-10\" x=\"122.821289\" y=\"325.296875\"/>\n  <use xlink:href=\"#glyph0-13\" x=\"128.382812\" y=\"325.296875\"/>\n  <use xlink:href=\"#glyph0-12\" x=\"133.382812\" y=\"325.296875\"/>\n  <use xlink:href=\"#glyph0-15\" x=\"138.944336\" y=\"325.296875\"/>\n  <use xlink:href=\"#glyph0-21\" x=\"142.274414\" y=\"325.296875\"/>\n</g>\n<g style=\"fill:rgb(0%,0%,0%);fill-opacity:1;\">\n  <use xlink:href=\"#glyph0-6\" x=\"133.414062\" y=\"315.960938\"/>\n  <use xlink:href=\"#glyph0-5\" x=\"138.975586\" y=\"315.960938\"/>\n  <use xlink:href=\"#glyph0-4\" x=\"144.537109\" y=\"315.960938\"/>\n  <use xlink:href=\"#glyph0-18\" x=\"147.31543\" y=\"315.960938\"/>\n  <use xlink:href=\"#glyph0-7\" x=\"152.876953\" y=\"315.960938\"/>\n  <use xlink:href=\"#glyph0-6\" x=\"155.098633\" y=\"315.960938\"/>\n  <use xlink:href=\"#glyph0-16\" x=\"160.660156\" y=\"315.960938\"/>\n  <use xlink:href=\"#glyph0-9\" x=\"166.22168\" y=\"315.960938\"/>\n  <use xlink:href=\"#glyph0-6\" x=\"171.783203\" y=\"315.960938\"/>\n  <use xlink:href=\"#glyph0-5\" x=\"177.344727\" y=\"315.960938\"/>\n  <use xlink:href=\"#glyph0-17\" x=\"182.90625\" y=\"315.960938\"/>\n  <use xlink:href=\"#glyph0-6\" x=\"188.467773\" y=\"315.960938\"/>\n</g>\n<g style=\"fill:rgb(0%,0%,0%);fill-opacity:1;\">\n  <use xlink:href=\"#glyph0-22\" x=\"516.160156\" y=\"186.59375\"/>\n  <use xlink:href=\"#glyph0-3\" x=\"518.938477\" y=\"186.59375\"/>\n  <use xlink:href=\"#glyph0-14\" x=\"524.5\" y=\"186.59375\"/>\n  <use xlink:href=\"#glyph0-7\" x=\"532.830078\" y=\"186.59375\"/>\n  <use xlink:href=\"#glyph0-2\" x=\"535.051758\" y=\"186.59375\"/>\n  <use xlink:href=\"#glyph0-7\" x=\"537.273438\" y=\"186.59375\"/>\n  <use xlink:href=\"#glyph0-12\" x=\"539.495117\" y=\"186.59375\"/>\n  <use xlink:href=\"#glyph0-19\" x=\"545.056641\" y=\"186.59375\"/>\n  <use xlink:href=\"#glyph0-9\" x=\"550.056641\" y=\"186.59375\"/>\n  <use xlink:href=\"#glyph0-6\" x=\"555.618164\" y=\"186.59375\"/>\n  <use xlink:href=\"#glyph0-5\" x=\"561.179688\" y=\"186.59375\"/>\n  <use xlink:href=\"#glyph0-17\" x=\"566.741211\" y=\"186.59375\"/>\n  <use xlink:href=\"#glyph0-6\" x=\"572.302734\" y=\"186.59375\"/>\n</g>\n<g style=\"fill:rgb(0%,0%,0%);fill-opacity:1;\">\n  <use xlink:href=\"#glyph0-5\" x=\"125.085938\" y=\"431.980469\"/>\n  <use xlink:href=\"#glyph0-21\" x=\"130.647461\" y=\"431.980469\"/>\n  <use xlink:href=\"#glyph0-11\" x=\"136.208984\" y=\"431.980469\"/>\n  <use xlink:href=\"#glyph0-12\" x=\"138.430664\" y=\"431.980469\"/>\n  <use xlink:href=\"#glyph0-8\" x=\"143.992188\" y=\"431.980469\"/>\n  <use xlink:href=\"#glyph0-4\" x=\"148.992188\" y=\"431.980469\"/>\n  <use xlink:href=\"#glyph0-9\" x=\"151.770508\" y=\"431.980469\"/>\n  <use xlink:href=\"#glyph0-6\" x=\"157.332031\" y=\"431.980469\"/>\n  <use xlink:href=\"#glyph0-5\" x=\"162.893555\" y=\"431.980469\"/>\n  <use xlink:href=\"#glyph0-17\" x=\"168.455078\" y=\"431.980469\"/>\n  <use xlink:href=\"#glyph0-6\" x=\"174.016602\" y=\"431.980469\"/>\n</g>\n<g style=\"fill:rgb(0%,0%,0%);fill-opacity:1;\">\n  <use xlink:href=\"#glyph0-8\" x=\"68.355469\" y=\"223.375\"/>\n  <use xlink:href=\"#glyph0-5\" x=\"73.355469\" y=\"223.375\"/>\n  <use xlink:href=\"#glyph0-6\" x=\"78.916992\" y=\"223.375\"/>\n  <use xlink:href=\"#glyph0-6\" x=\"84.478516\" y=\"223.375\"/>\n  <use xlink:href=\"#glyph0-12\" x=\"90.040039\" y=\"223.375\"/>\n  <use xlink:href=\"#glyph0-8\" x=\"95.601562\" y=\"223.375\"/>\n  <use xlink:href=\"#glyph0-4\" x=\"100.601562\" y=\"223.375\"/>\n  <use xlink:href=\"#glyph0-7\" x=\"103.379883\" y=\"223.375\"/>\n  <use xlink:href=\"#glyph0-5\" x=\"105.601562\" y=\"223.375\"/>\n  <use xlink:href=\"#glyph0-6\" x=\"111.163086\" y=\"223.375\"/>\n  <use xlink:href=\"#glyph0-19\" x=\"116.724609\" y=\"223.375\"/>\n  <use xlink:href=\"#glyph0-9\" x=\"121.724609\" y=\"223.375\"/>\n  <use xlink:href=\"#glyph0-6\" x=\"127.286133\" y=\"223.375\"/>\n  <use xlink:href=\"#glyph0-5\" x=\"132.847656\" y=\"223.375\"/>\n  <use xlink:href=\"#glyph0-17\" x=\"138.40918\" y=\"223.375\"/>\n  <use xlink:href=\"#glyph0-6\" x=\"143.970703\" y=\"223.375\"/>\n</g>\n<g style=\"fill:rgb(0%,0%,0%);fill-opacity:1;\">\n  <use xlink:href=\"#glyph0-2\" x=\"425.746094\" y=\"27.480469\"/>\n  <use xlink:href=\"#glyph0-12\" x=\"427.967773\" y=\"27.480469\"/>\n  <use xlink:href=\"#glyph0-19\" x=\"433.529297\" y=\"27.480469\"/>\n  <use xlink:href=\"#glyph0-19\" x=\"438.529297\" y=\"27.480469\"/>\n  <use xlink:href=\"#glyph0-9\" x=\"443.529297\" y=\"27.480469\"/>\n  <use xlink:href=\"#glyph0-3\" x=\"449.09082\" y=\"27.480469\"/>\n  <use xlink:href=\"#glyph0-10\" x=\"454.652344\" y=\"27.480469\"/>\n  <use xlink:href=\"#glyph0-13\" x=\"460.213867\" y=\"27.480469\"/>\n  <use xlink:href=\"#glyph0-12\" x=\"465.213867\" y=\"27.480469\"/>\n  <use xlink:href=\"#glyph0-15\" x=\"470.775391\" y=\"27.480469\"/>\n  <use xlink:href=\"#glyph0-21\" x=\"474.105469\" y=\"27.480469\"/>\n</g>\n<g style=\"fill:rgb(0%,0%,0%);fill-opacity:1;\">\n  <use xlink:href=\"#glyph0-19\" x=\"451.671875\" y=\"365.507812\"/>\n  <use xlink:href=\"#glyph0-4\" x=\"456.671875\" y=\"365.507812\"/>\n  <use xlink:href=\"#glyph0-15\" x=\"459.450195\" y=\"365.507812\"/>\n  <use xlink:href=\"#glyph0-5\" x=\"462.780273\" y=\"365.507812\"/>\n  <use xlink:href=\"#glyph0-6\" x=\"468.341797\" y=\"365.507812\"/>\n  <use xlink:href=\"#glyph0-16\" x=\"473.90332\" y=\"365.507812\"/>\n  <use xlink:href=\"#glyph0-9\" x=\"479.464844\" y=\"365.507812\"/>\n  <use xlink:href=\"#glyph0-3\" x=\"485.026367\" y=\"365.507812\"/>\n  <use xlink:href=\"#glyph0-10\" x=\"490.587891\" y=\"365.507812\"/>\n  <use xlink:href=\"#glyph0-11\" x=\"496.149414\" y=\"365.507812\"/>\n  <use xlink:href=\"#glyph0-12\" x=\"498.371094\" y=\"365.507812\"/>\n  <use xlink:href=\"#glyph0-8\" x=\"503.932617\" y=\"365.507812\"/>\n  <use xlink:href=\"#glyph0-4\" x=\"508.932617\" y=\"365.507812\"/>\n  <use xlink:href=\"#glyph0-7\" x=\"511.710938\" y=\"365.507812\"/>\n  <use xlink:href=\"#glyph0-13\" x=\"513.932617\" y=\"365.507812\"/>\n  <use xlink:href=\"#glyph0-12\" x=\"518.932617\" y=\"365.507812\"/>\n</g>\n<g style=\"fill:rgb(0%,0%,0%);fill-opacity:1;\">\n  <use xlink:href=\"#glyph0-12\" x=\"147.203125\" y=\"462.75\"/>\n  <use xlink:href=\"#glyph0-13\" x=\"152.764648\" y=\"462.75\"/>\n  <use xlink:href=\"#glyph0-12\" x=\"157.764648\" y=\"462.75\"/>\n  <use xlink:href=\"#glyph0-6\" x=\"163.326172\" y=\"462.75\"/>\n  <use xlink:href=\"#glyph0-9\" x=\"168.887695\" y=\"462.75\"/>\n  <use xlink:href=\"#glyph0-3\" x=\"174.449219\" y=\"462.75\"/>\n  <use xlink:href=\"#glyph0-10\" x=\"180.010742\" y=\"462.75\"/>\n  <use xlink:href=\"#glyph0-13\" x=\"185.572266\" y=\"462.75\"/>\n  <use xlink:href=\"#glyph0-12\" x=\"190.572266\" y=\"462.75\"/>\n  <use xlink:href=\"#glyph0-15\" x=\"196.133789\" y=\"462.75\"/>\n  <use xlink:href=\"#glyph0-21\" x=\"199.463867\" y=\"462.75\"/>\n</g>\n<g style=\"fill:rgb(0%,0%,0%);fill-opacity:1;\">\n  <use xlink:href=\"#glyph0-3\" x=\"8.785156\" y=\"210.945312\"/>\n  <use xlink:href=\"#glyph0-8\" x=\"14.34668\" y=\"210.945312\"/>\n  <use xlink:href=\"#glyph0-23\" x=\"19.34668\" y=\"210.945312\"/>\n  <use xlink:href=\"#glyph0-17\" x=\"24.908203\" y=\"210.945312\"/>\n  <use xlink:href=\"#glyph0-3\" x=\"30.469727\" y=\"210.945312\"/>\n  <use xlink:href=\"#glyph0-7\" x=\"36.03125\" y=\"210.945312\"/>\n  <use xlink:href=\"#glyph0-6\" x=\"38.25293\" y=\"210.945312\"/>\n  <use xlink:href=\"#glyph0-4\" x=\"43.814453\" y=\"210.945312\"/>\n  <use xlink:href=\"#glyph0-3\" x=\"46.592773\" y=\"210.945312\"/>\n  <use xlink:href=\"#glyph0-6\" x=\"52.154297\" y=\"210.945312\"/>\n  <use xlink:href=\"#glyph0-8\" x=\"57.71582\" y=\"210.945312\"/>\n  <use xlink:href=\"#glyph0-12\" x=\"62.71582\" y=\"210.945312\"/>\n  <use xlink:href=\"#glyph0-9\" x=\"68.277344\" y=\"210.945312\"/>\n  <use xlink:href=\"#glyph0-6\" x=\"73.838867\" y=\"210.945312\"/>\n  <use xlink:href=\"#glyph0-5\" x=\"79.400391\" y=\"210.945312\"/>\n  <use xlink:href=\"#glyph0-17\" x=\"84.961914\" y=\"210.945312\"/>\n  <use xlink:href=\"#glyph0-6\" x=\"90.523438\" y=\"210.945312\"/>\n</g>\n<g style=\"fill:rgb(0%,0%,0%);fill-opacity:1;\">\n  <use xlink:href=\"#glyph0-22\" x=\"396.230469\" y=\"268.820312\"/>\n  <use xlink:href=\"#glyph0-5\" x=\"399.008789\" y=\"268.820312\"/>\n  <use xlink:href=\"#glyph0-15\" x=\"404.570312\" y=\"268.820312\"/>\n  <use xlink:href=\"#glyph0-14\" x=\"407.900391\" y=\"268.820312\"/>\n  <use xlink:href=\"#glyph0-12\" x=\"416.230469\" y=\"268.820312\"/>\n  <use xlink:href=\"#glyph0-10\" x=\"421.791992\" y=\"268.820312\"/>\n  <use xlink:href=\"#glyph0-9\" x=\"427.353516\" y=\"268.820312\"/>\n  <use xlink:href=\"#glyph0-13\" x=\"432.915039\" y=\"268.820312\"/>\n  <use xlink:href=\"#glyph0-12\" x=\"437.915039\" y=\"268.820312\"/>\n  <use xlink:href=\"#glyph0-15\" x=\"443.476562\" y=\"268.820312\"/>\n  <use xlink:href=\"#glyph0-21\" x=\"446.806641\" y=\"268.820312\"/>\n</g>\n<g style=\"fill:rgb(0%,0%,0%);fill-opacity:1;\">\n  <use xlink:href=\"#glyph0-10\" x=\"23.78125\" y=\"247.789062\"/>\n  <use xlink:href=\"#glyph0-15\" x=\"29.342773\" y=\"247.789062\"/>\n  <use xlink:href=\"#glyph0-17\" x=\"32.672852\" y=\"247.789062\"/>\n  <use xlink:href=\"#glyph0-16\" x=\"38.234375\" y=\"247.789062\"/>\n  <use xlink:href=\"#glyph0-19\" x=\"43.795898\" y=\"247.789062\"/>\n  <use xlink:href=\"#glyph0-9\" x=\"48.795898\" y=\"247.789062\"/>\n  <use xlink:href=\"#glyph0-6\" x=\"54.357422\" y=\"247.789062\"/>\n  <use xlink:href=\"#glyph0-5\" x=\"59.918945\" y=\"247.789062\"/>\n  <use xlink:href=\"#glyph0-17\" x=\"65.480469\" y=\"247.789062\"/>\n  <use xlink:href=\"#glyph0-6\" x=\"71.041992\" y=\"247.789062\"/>\n</g>\n<g style=\"fill:rgb(0%,0%,0%);fill-opacity:1;\">\n  <use xlink:href=\"#glyph0-22\" x=\"374.390625\" y=\"263.964844\"/>\n  <use xlink:href=\"#glyph0-5\" x=\"377.168945\" y=\"263.964844\"/>\n  <use xlink:href=\"#glyph0-15\" x=\"382.730469\" y=\"263.964844\"/>\n  <use xlink:href=\"#glyph0-14\" x=\"386.060547\" y=\"263.964844\"/>\n  <use xlink:href=\"#glyph0-9\" x=\"394.390625\" y=\"263.964844\"/>\n  <use xlink:href=\"#glyph0-13\" x=\"399.952148\" y=\"263.964844\"/>\n  <use xlink:href=\"#glyph0-12\" x=\"404.952148\" y=\"263.964844\"/>\n  <use xlink:href=\"#glyph0-15\" x=\"410.513672\" y=\"263.964844\"/>\n  <use xlink:href=\"#glyph0-21\" x=\"413.84375\" y=\"263.964844\"/>\n</g>\n<g style=\"fill:rgb(0%,0%,0%);fill-opacity:1;\">\n  <use xlink:href=\"#glyph0-7\" x=\"217.148438\" y=\"61.988281\"/>\n  <use xlink:href=\"#glyph0-10\" x=\"219.370117\" y=\"61.988281\"/>\n  <use xlink:href=\"#glyph0-12\" x=\"224.931641\" y=\"61.988281\"/>\n  <use xlink:href=\"#glyph0-3\" x=\"230.493164\" y=\"61.988281\"/>\n  <use xlink:href=\"#glyph0-9\" x=\"236.054688\" y=\"61.988281\"/>\n  <use xlink:href=\"#glyph0-6\" x=\"241.616211\" y=\"61.988281\"/>\n  <use xlink:href=\"#glyph0-5\" x=\"247.177734\" y=\"61.988281\"/>\n  <use xlink:href=\"#glyph0-17\" x=\"252.739258\" y=\"61.988281\"/>\n  <use xlink:href=\"#glyph0-6\" x=\"258.300781\" y=\"61.988281\"/>\n</g>\n<g style=\"fill:rgb(0%,0%,0%);fill-opacity:1;\">\n  <use xlink:href=\"#glyph0-7\" x=\"208.820312\" y=\"185.394531\"/>\n  <use xlink:href=\"#glyph0-6\" x=\"211.041992\" y=\"185.394531\"/>\n  <use xlink:href=\"#glyph0-10\" x=\"216.603516\" y=\"185.394531\"/>\n  <use xlink:href=\"#glyph0-12\" x=\"222.165039\" y=\"185.394531\"/>\n  <use xlink:href=\"#glyph0-12\" x=\"227.726562\" y=\"185.394531\"/>\n  <use xlink:href=\"#glyph0-10\" x=\"233.288086\" y=\"185.394531\"/>\n  <use xlink:href=\"#glyph0-9\" x=\"238.849609\" y=\"185.394531\"/>\n  <use xlink:href=\"#glyph0-3\" x=\"244.411133\" y=\"185.394531\"/>\n  <use xlink:href=\"#glyph0-10\" x=\"249.972656\" y=\"185.394531\"/>\n  <use xlink:href=\"#glyph0-13\" x=\"255.53418\" y=\"185.394531\"/>\n  <use xlink:href=\"#glyph0-12\" x=\"260.53418\" y=\"185.394531\"/>\n  <use xlink:href=\"#glyph0-15\" x=\"266.095703\" y=\"185.394531\"/>\n  <use xlink:href=\"#glyph0-21\" x=\"269.425781\" y=\"185.394531\"/>\n</g>\n<g style=\"fill:rgb(0%,0%,0%);fill-opacity:1;\">\n  <use xlink:href=\"#glyph0-21\" x=\"105.28125\" y=\"141.351562\"/>\n  <use xlink:href=\"#glyph0-12\" x=\"110.842773\" y=\"141.351562\"/>\n  <use xlink:href=\"#glyph0-18\" x=\"116.404297\" y=\"141.351562\"/>\n  <use xlink:href=\"#glyph0-3\" x=\"121.96582\" y=\"141.351562\"/>\n  <use xlink:href=\"#glyph0-13\" x=\"127.527344\" y=\"141.351562\"/>\n  <use xlink:href=\"#glyph0-7\" x=\"132.527344\" y=\"141.351562\"/>\n  <use xlink:href=\"#glyph0-5\" x=\"134.749023\" y=\"141.351562\"/>\n  <use xlink:href=\"#glyph0-17\" x=\"140.310547\" y=\"141.351562\"/>\n  <use xlink:href=\"#glyph0-15\" x=\"145.87207\" y=\"141.351562\"/>\n  <use xlink:href=\"#glyph0-9\" x=\"149.202148\" y=\"141.351562\"/>\n  <use xlink:href=\"#glyph0-6\" x=\"154.763672\" y=\"141.351562\"/>\n  <use xlink:href=\"#glyph0-5\" x=\"160.325195\" y=\"141.351562\"/>\n  <use xlink:href=\"#glyph0-17\" x=\"165.886719\" y=\"141.351562\"/>\n  <use xlink:href=\"#glyph0-6\" x=\"171.448242\" y=\"141.351562\"/>\n</g>\n<g style=\"fill:rgb(0%,0%,0%);fill-opacity:1;\">\n  <use xlink:href=\"#glyph0-21\" x=\"192.804688\" y=\"301.480469\"/>\n  <use xlink:href=\"#glyph0-7\" x=\"198.366211\" y=\"301.480469\"/>\n  <use xlink:href=\"#glyph0-3\" x=\"200.587891\" y=\"301.480469\"/>\n  <use xlink:href=\"#glyph0-19\" x=\"206.149414\" y=\"301.480469\"/>\n  <use xlink:href=\"#glyph0-9\" x=\"211.149414\" y=\"301.480469\"/>\n  <use xlink:href=\"#glyph0-6\" x=\"216.710938\" y=\"301.480469\"/>\n  <use xlink:href=\"#glyph0-5\" x=\"222.272461\" y=\"301.480469\"/>\n  <use xlink:href=\"#glyph0-17\" x=\"227.833984\" y=\"301.480469\"/>\n  <use xlink:href=\"#glyph0-6\" x=\"233.395508\" y=\"301.480469\"/>\n</g>\n<g style=\"fill:rgb(0%,0%,0%);fill-opacity:1;\">\n  <use xlink:href=\"#glyph0-19\" x=\"39.328125\" y=\"279.761719\"/>\n  <use xlink:href=\"#glyph0-3\" x=\"44.328125\" y=\"279.761719\"/>\n  <use xlink:href=\"#glyph0-20\" x=\"49.889648\" y=\"279.761719\"/>\n  <use xlink:href=\"#glyph0-9\" x=\"54.889648\" y=\"279.761719\"/>\n  <use xlink:href=\"#glyph0-13\" x=\"60.451172\" y=\"279.761719\"/>\n  <use xlink:href=\"#glyph0-12\" x=\"65.451172\" y=\"279.761719\"/>\n  <use xlink:href=\"#glyph0-15\" x=\"71.012695\" y=\"279.761719\"/>\n  <use xlink:href=\"#glyph0-21\" x=\"74.342773\" y=\"279.761719\"/>\n</g>\n<g style=\"fill:rgb(0%,0%,0%);fill-opacity:1;\">\n  <use xlink:href=\"#glyph0-22\" x=\"263.535156\" y=\"21.496094\"/>\n  <use xlink:href=\"#glyph0-5\" x=\"266.313477\" y=\"21.496094\"/>\n  <use xlink:href=\"#glyph0-15\" x=\"271.875\" y=\"21.496094\"/>\n  <use xlink:href=\"#glyph0-14\" x=\"275.205078\" y=\"21.496094\"/>\n  <use xlink:href=\"#glyph0-7\" x=\"283.535156\" y=\"21.496094\"/>\n  <use xlink:href=\"#glyph0-6\" x=\"285.756836\" y=\"21.496094\"/>\n  <use xlink:href=\"#glyph0-16\" x=\"291.318359\" y=\"21.496094\"/>\n  <use xlink:href=\"#glyph0-9\" x=\"296.879883\" y=\"21.496094\"/>\n  <use xlink:href=\"#glyph0-6\" x=\"302.441406\" y=\"21.496094\"/>\n  <use xlink:href=\"#glyph0-5\" x=\"308.00293\" y=\"21.496094\"/>\n  <use xlink:href=\"#glyph0-17\" x=\"313.564453\" y=\"21.496094\"/>\n  <use xlink:href=\"#glyph0-6\" x=\"319.125977\" y=\"21.496094\"/>\n</g>\n<g style=\"fill:rgb(0%,0%,0%);fill-opacity:1;\">\n  <use xlink:href=\"#glyph0-24\" x=\"168.25\" y=\"422.664062\"/>\n  <use xlink:href=\"#glyph0-3\" x=\"175.47168\" y=\"422.664062\"/>\n  <use xlink:href=\"#glyph0-15\" x=\"181.033203\" y=\"422.664062\"/>\n  <use xlink:href=\"#glyph0-14\" x=\"184.363281\" y=\"422.664062\"/>\n  <use xlink:href=\"#glyph0-9\" x=\"192.693359\" y=\"422.664062\"/>\n  <use xlink:href=\"#glyph0-3\" x=\"198.254883\" y=\"422.664062\"/>\n  <use xlink:href=\"#glyph0-10\" x=\"203.816406\" y=\"422.664062\"/>\n  <use xlink:href=\"#glyph0-11\" x=\"209.37793\" y=\"422.664062\"/>\n  <use xlink:href=\"#glyph0-12\" x=\"211.599609\" y=\"422.664062\"/>\n  <use xlink:href=\"#glyph0-8\" x=\"217.161133\" y=\"422.664062\"/>\n  <use xlink:href=\"#glyph0-4\" x=\"222.161133\" y=\"422.664062\"/>\n  <use xlink:href=\"#glyph0-7\" x=\"224.939453\" y=\"422.664062\"/>\n  <use xlink:href=\"#glyph0-13\" x=\"227.161133\" y=\"422.664062\"/>\n  <use xlink:href=\"#glyph0-12\" x=\"232.161133\" y=\"422.664062\"/>\n</g>\n<g style=\"fill:rgb(0%,0%,0%);fill-opacity:1;\">\n  <use xlink:href=\"#glyph0-2\" x=\"291.578125\" y=\"265.335938\"/>\n  <use xlink:href=\"#glyph0-12\" x=\"293.799805\" y=\"265.335938\"/>\n  <use xlink:href=\"#glyph0-3\" x=\"299.361328\" y=\"265.335938\"/>\n  <use xlink:href=\"#glyph0-10\" x=\"304.922852\" y=\"265.335938\"/>\n  <use xlink:href=\"#glyph0-9\" x=\"310.484375\" y=\"265.335938\"/>\n  <use xlink:href=\"#glyph0-13\" x=\"316.045898\" y=\"265.335938\"/>\n  <use xlink:href=\"#glyph0-12\" x=\"321.045898\" y=\"265.335938\"/>\n  <use xlink:href=\"#glyph0-15\" x=\"326.607422\" y=\"265.335938\"/>\n  <use xlink:href=\"#glyph0-21\" x=\"329.9375\" y=\"265.335938\"/>\n</g>\n<g style=\"fill:rgb(0%,0%,0%);fill-opacity:1;\">\n  <use xlink:href=\"#glyph0-22\" x=\"389.503906\" y=\"477.34375\"/>\n  <use xlink:href=\"#glyph0-12\" x=\"392.282227\" y=\"477.34375\"/>\n  <use xlink:href=\"#glyph0-2\" x=\"397.84375\" y=\"477.34375\"/>\n  <use xlink:href=\"#glyph0-4\" x=\"400.06543\" y=\"477.34375\"/>\n  <use xlink:href=\"#glyph0-9\" x=\"402.84375\" y=\"477.34375\"/>\n  <use xlink:href=\"#glyph0-13\" x=\"408.405273\" y=\"477.34375\"/>\n  <use xlink:href=\"#glyph0-12\" x=\"413.405273\" y=\"477.34375\"/>\n  <use xlink:href=\"#glyph0-15\" x=\"418.966797\" y=\"477.34375\"/>\n  <use xlink:href=\"#glyph0-21\" x=\"422.296875\" y=\"477.34375\"/>\n</g>\n<g style=\"fill:rgb(0%,0%,0%);fill-opacity:1;\">\n  <use xlink:href=\"#glyph1-1\" x=\"164.578125\" y=\"246.929688\"/>\n  <use xlink:href=\"#glyph1-2\" x=\"167.910645\" y=\"246.929688\"/>\n  <use xlink:href=\"#glyph1-3\" x=\"180.405762\" y=\"246.929688\"/>\n  <use xlink:href=\"#glyph1-4\" x=\"188.748047\" y=\"246.929688\"/>\n  <use xlink:href=\"#glyph1-5\" x=\"193.743164\" y=\"246.929688\"/>\n  <use xlink:href=\"#glyph1-3\" x=\"202.085449\" y=\"246.929688\"/>\n  <use xlink:href=\"#glyph1-6\" x=\"210.427734\" y=\"246.929688\"/>\n  <use xlink:href=\"#glyph1-4\" x=\"218.77002\" y=\"246.929688\"/>\n  <use xlink:href=\"#glyph1-7\" x=\"223.765137\" y=\"246.929688\"/>\n  <use xlink:href=\"#glyph1-8\" x=\"232.107422\" y=\"246.929688\"/>\n  <use xlink:href=\"#glyph1-9\" x=\"240.449707\" y=\"246.929688\"/>\n  <use xlink:href=\"#glyph1-10\" x=\"248.791992\" y=\"246.929688\"/>\n  <use xlink:href=\"#glyph1-6\" x=\"252.124512\" y=\"246.929688\"/>\n  <use xlink:href=\"#glyph1-11\" x=\"260.466797\" y=\"246.929688\"/>\n  <use xlink:href=\"#glyph1-12\" x=\"267.966797\" y=\"246.929688\"/>\n  <use xlink:href=\"#glyph1-1\" x=\"272.134277\" y=\"246.929688\"/>\n  <use xlink:href=\"#glyph1-13\" x=\"275.466797\" y=\"246.929688\"/>\n  <use xlink:href=\"#glyph1-6\" x=\"282.966797\" y=\"246.929688\"/>\n</g>\n<g style=\"fill:rgb(0%,0%,0%);fill-opacity:1;\">\n  <use xlink:href=\"#glyph0-1\" x=\"306.707031\" y=\"452.308594\"/>\n  <use xlink:href=\"#glyph0-15\" x=\"312.268555\" y=\"452.308594\"/>\n  <use xlink:href=\"#glyph0-5\" x=\"315.598633\" y=\"452.308594\"/>\n  <use xlink:href=\"#glyph0-5\" x=\"321.160156\" y=\"452.308594\"/>\n  <use xlink:href=\"#glyph0-22\" x=\"326.72168\" y=\"452.308594\"/>\n  <use xlink:href=\"#glyph0-9\" x=\"329.5\" y=\"452.308594\"/>\n  <use xlink:href=\"#glyph0-6\" x=\"335.061523\" y=\"452.308594\"/>\n  <use xlink:href=\"#glyph0-5\" x=\"340.623047\" y=\"452.308594\"/>\n  <use xlink:href=\"#glyph0-17\" x=\"346.18457\" y=\"452.308594\"/>\n  <use xlink:href=\"#glyph0-6\" x=\"351.746094\" y=\"452.308594\"/>\n</g>\n<g style=\"fill:rgb(0%,0%,0%);fill-opacity:1;\">\n  <use xlink:href=\"#glyph0-4\" x=\"77.6875\" y=\"153.308594\"/>\n  <use xlink:href=\"#glyph0-18\" x=\"80.46582\" y=\"153.308594\"/>\n  <use xlink:href=\"#glyph0-7\" x=\"86.027344\" y=\"153.308594\"/>\n  <use xlink:href=\"#glyph0-6\" x=\"88.249023\" y=\"153.308594\"/>\n  <use xlink:href=\"#glyph0-25\" x=\"93.810547\" y=\"153.308594\"/>\n  <use xlink:href=\"#glyph0-9\" x=\"98.810547\" y=\"153.308594\"/>\n  <use xlink:href=\"#glyph0-13\" x=\"104.37207\" y=\"153.308594\"/>\n  <use xlink:href=\"#glyph0-12\" x=\"109.37207\" y=\"153.308594\"/>\n  <use xlink:href=\"#glyph0-15\" x=\"114.933594\" y=\"153.308594\"/>\n  <use xlink:href=\"#glyph0-21\" x=\"118.263672\" y=\"153.308594\"/>\n</g>\n<g style=\"fill:rgb(0%,0%,0%);fill-opacity:1;\">\n  <use xlink:href=\"#glyph0-22\" x=\"521.660156\" y=\"116.84375\"/>\n  <use xlink:href=\"#glyph0-3\" x=\"524.438477\" y=\"116.84375\"/>\n  <use xlink:href=\"#glyph0-14\" x=\"530\" y=\"116.84375\"/>\n  <use xlink:href=\"#glyph0-7\" x=\"538.330078\" y=\"116.84375\"/>\n  <use xlink:href=\"#glyph0-2\" x=\"540.551758\" y=\"116.84375\"/>\n  <use xlink:href=\"#glyph0-20\" x=\"542.773438\" y=\"116.84375\"/>\n  <use xlink:href=\"#glyph0-9\" x=\"547.773438\" y=\"116.84375\"/>\n  <use xlink:href=\"#glyph0-6\" x=\"553.334961\" y=\"116.84375\"/>\n  <use xlink:href=\"#glyph0-5\" x=\"558.896484\" y=\"116.84375\"/>\n  <use xlink:href=\"#glyph0-17\" x=\"564.458008\" y=\"116.84375\"/>\n  <use xlink:href=\"#glyph0-6\" x=\"570.019531\" y=\"116.84375\"/>\n</g>\n<g style=\"fill:rgb(0%,0%,0%);fill-opacity:1;\">\n  <use xlink:href=\"#glyph0-22\" x=\"313.527344\" y=\"68.089844\"/>\n  <use xlink:href=\"#glyph0-5\" x=\"316.305664\" y=\"68.089844\"/>\n  <use xlink:href=\"#glyph0-15\" x=\"321.867188\" y=\"68.089844\"/>\n  <use xlink:href=\"#glyph0-14\" x=\"325.197266\" y=\"68.089844\"/>\n  <use xlink:href=\"#glyph0-7\" x=\"333.527344\" y=\"68.089844\"/>\n  <use xlink:href=\"#glyph0-6\" x=\"335.749023\" y=\"68.089844\"/>\n  <use xlink:href=\"#glyph0-16\" x=\"341.310547\" y=\"68.089844\"/>\n  <use xlink:href=\"#glyph0-9\" x=\"346.87207\" y=\"68.089844\"/>\n  <use xlink:href=\"#glyph0-13\" x=\"352.433594\" y=\"68.089844\"/>\n  <use xlink:href=\"#glyph0-12\" x=\"357.433594\" y=\"68.089844\"/>\n  <use xlink:href=\"#glyph0-15\" x=\"362.995117\" y=\"68.089844\"/>\n  <use xlink:href=\"#glyph0-21\" x=\"366.325195\" y=\"68.089844\"/>\n</g>\n<g style=\"fill:rgb(0%,0%,0%);fill-opacity:1;\">\n  <use xlink:href=\"#glyph0-2\" x=\"267.082031\" y=\"83.820312\"/>\n  <use xlink:href=\"#glyph0-3\" x=\"269.303711\" y=\"83.820312\"/>\n  <use xlink:href=\"#glyph0-10\" x=\"274.865234\" y=\"83.820312\"/>\n  <use xlink:href=\"#glyph0-20\" x=\"280.426758\" y=\"83.820312\"/>\n  <use xlink:href=\"#glyph0-9\" x=\"285.426758\" y=\"83.820312\"/>\n  <use xlink:href=\"#glyph0-6\" x=\"290.988281\" y=\"83.820312\"/>\n  <use xlink:href=\"#glyph0-5\" x=\"296.549805\" y=\"83.820312\"/>\n  <use xlink:href=\"#glyph0-17\" x=\"302.111328\" y=\"83.820312\"/>\n  <use xlink:href=\"#glyph0-6\" x=\"307.672852\" y=\"83.820312\"/>\n</g>\n<g style=\"fill:rgb(0%,0%,0%);fill-opacity:1;\">\n  <use xlink:href=\"#glyph0-19\" x=\"243.214844\" y=\"494.664062\"/>\n  <use xlink:href=\"#glyph0-5\" x=\"248.214844\" y=\"494.664062\"/>\n  <use xlink:href=\"#glyph0-6\" x=\"253.776367\" y=\"494.664062\"/>\n  <use xlink:href=\"#glyph0-9\" x=\"259.337891\" y=\"494.664062\"/>\n  <use xlink:href=\"#glyph0-6\" x=\"264.899414\" y=\"494.664062\"/>\n  <use xlink:href=\"#glyph0-5\" x=\"270.460938\" y=\"494.664062\"/>\n  <use xlink:href=\"#glyph0-17\" x=\"276.022461\" y=\"494.664062\"/>\n  <use xlink:href=\"#glyph0-6\" x=\"281.583984\" y=\"494.664062\"/>\n</g>\n<g style=\"fill:rgb(0%,0%,0%);fill-opacity:1;\">\n  <use xlink:href=\"#glyph0-21\" x=\"225.976562\" y=\"31.542969\"/>\n  <use xlink:href=\"#glyph0-15\" x=\"231.538086\" y=\"31.542969\"/>\n  <use xlink:href=\"#glyph0-12\" x=\"234.868164\" y=\"31.542969\"/>\n  <use xlink:href=\"#glyph0-3\" x=\"240.429688\" y=\"31.542969\"/>\n  <use xlink:href=\"#glyph0-25\" x=\"245.991211\" y=\"31.542969\"/>\n  <use xlink:href=\"#glyph0-9\" x=\"250.991211\" y=\"31.542969\"/>\n  <use xlink:href=\"#glyph0-13\" x=\"256.552734\" y=\"31.542969\"/>\n  <use xlink:href=\"#glyph0-12\" x=\"261.552734\" y=\"31.542969\"/>\n  <use xlink:href=\"#glyph0-15\" x=\"267.114258\" y=\"31.542969\"/>\n  <use xlink:href=\"#glyph0-21\" x=\"270.444336\" y=\"31.542969\"/>\n</g>\n<g style=\"fill:rgb(0%,0%,0%);fill-opacity:1;\">\n  <use xlink:href=\"#glyph0-4\" x=\"133.0625\" y=\"195.160156\"/>\n  <use xlink:href=\"#glyph0-18\" x=\"135.84082\" y=\"195.160156\"/>\n  <use xlink:href=\"#glyph0-7\" x=\"141.402344\" y=\"195.160156\"/>\n  <use xlink:href=\"#glyph0-6\" x=\"143.624023\" y=\"195.160156\"/>\n  <use xlink:href=\"#glyph0-16\" x=\"149.185547\" y=\"195.160156\"/>\n  <use xlink:href=\"#glyph0-9\" x=\"154.74707\" y=\"195.160156\"/>\n  <use xlink:href=\"#glyph0-6\" x=\"160.308594\" y=\"195.160156\"/>\n  <use xlink:href=\"#glyph0-5\" x=\"165.870117\" y=\"195.160156\"/>\n  <use xlink:href=\"#glyph0-17\" x=\"171.431641\" y=\"195.160156\"/>\n  <use xlink:href=\"#glyph0-6\" x=\"176.993164\" y=\"195.160156\"/>\n</g>\n<g style=\"fill:rgb(0%,0%,0%);fill-opacity:1;\">\n  <use xlink:href=\"#glyph0-10\" x=\"252.347656\" y=\"322.035156\"/>\n  <use xlink:href=\"#glyph0-3\" x=\"257.90918\" y=\"322.035156\"/>\n  <use xlink:href=\"#glyph0-17\" x=\"263.470703\" y=\"322.035156\"/>\n  <use xlink:href=\"#glyph0-16\" x=\"269.032227\" y=\"322.035156\"/>\n  <use xlink:href=\"#glyph0-18\" x=\"274.59375\" y=\"322.035156\"/>\n  <use xlink:href=\"#glyph0-4\" x=\"280.155273\" y=\"322.035156\"/>\n  <use xlink:href=\"#glyph0-12\" x=\"282.933594\" y=\"322.035156\"/>\n  <use xlink:href=\"#glyph0-15\" x=\"288.495117\" y=\"322.035156\"/>\n  <use xlink:href=\"#glyph0-9\" x=\"291.825195\" y=\"322.035156\"/>\n  <use xlink:href=\"#glyph0-6\" x=\"297.386719\" y=\"322.035156\"/>\n  <use xlink:href=\"#glyph0-5\" x=\"302.948242\" y=\"322.035156\"/>\n  <use xlink:href=\"#glyph0-17\" x=\"308.509766\" y=\"322.035156\"/>\n  <use xlink:href=\"#glyph0-6\" x=\"314.071289\" y=\"322.035156\"/>\n</g>\n<g style=\"fill:rgb(0%,0%,0%);fill-opacity:1;\">\n  <use xlink:href=\"#glyph0-17\" x=\"452.34375\" y=\"398.082031\"/>\n  <use xlink:href=\"#glyph0-6\" x=\"457.905273\" y=\"398.082031\"/>\n  <use xlink:href=\"#glyph0-22\" x=\"463.466797\" y=\"398.082031\"/>\n  <use xlink:href=\"#glyph0-5\" x=\"466.245117\" y=\"398.082031\"/>\n  <use xlink:href=\"#glyph0-15\" x=\"471.806641\" y=\"398.082031\"/>\n  <use xlink:href=\"#glyph0-4\" x=\"475.136719\" y=\"398.082031\"/>\n  <use xlink:href=\"#glyph0-17\" x=\"477.915039\" y=\"398.082031\"/>\n  <use xlink:href=\"#glyph0-6\" x=\"483.476562\" y=\"398.082031\"/>\n  <use xlink:href=\"#glyph0-3\" x=\"489.038086\" y=\"398.082031\"/>\n  <use xlink:href=\"#glyph0-4\" x=\"494.599609\" y=\"398.082031\"/>\n  <use xlink:href=\"#glyph0-12\" x=\"497.37793\" y=\"398.082031\"/>\n  <use xlink:href=\"#glyph0-9\" x=\"502.939453\" y=\"398.082031\"/>\n  <use xlink:href=\"#glyph0-3\" x=\"508.500977\" y=\"398.082031\"/>\n  <use xlink:href=\"#glyph0-10\" x=\"514.0625\" y=\"398.082031\"/>\n  <use xlink:href=\"#glyph0-11\" x=\"519.624023\" y=\"398.082031\"/>\n  <use xlink:href=\"#glyph0-12\" x=\"521.845703\" y=\"398.082031\"/>\n  <use xlink:href=\"#glyph0-8\" x=\"527.407227\" y=\"398.082031\"/>\n  <use xlink:href=\"#glyph0-4\" x=\"532.407227\" y=\"398.082031\"/>\n  <use xlink:href=\"#glyph0-7\" x=\"535.185547\" y=\"398.082031\"/>\n  <use xlink:href=\"#glyph0-13\" x=\"537.407227\" y=\"398.082031\"/>\n  <use xlink:href=\"#glyph0-12\" x=\"542.407227\" y=\"398.082031\"/>\n</g>\n<g style=\"fill:rgb(0%,0%,0%);fill-opacity:1;\">\n  <use xlink:href=\"#glyph0-22\" x=\"280.058594\" y=\"224.152344\"/>\n  <use xlink:href=\"#glyph0-3\" x=\"282.836914\" y=\"224.152344\"/>\n  <use xlink:href=\"#glyph0-17\" x=\"288.398438\" y=\"224.152344\"/>\n  <use xlink:href=\"#glyph0-2\" x=\"293.959961\" y=\"224.152344\"/>\n  <use xlink:href=\"#glyph0-4\" x=\"296.181641\" y=\"224.152344\"/>\n  <use xlink:href=\"#glyph0-9\" x=\"298.959961\" y=\"224.152344\"/>\n  <use xlink:href=\"#glyph0-6\" x=\"304.521484\" y=\"224.152344\"/>\n  <use xlink:href=\"#glyph0-5\" x=\"310.083008\" y=\"224.152344\"/>\n  <use xlink:href=\"#glyph0-17\" x=\"315.644531\" y=\"224.152344\"/>\n  <use xlink:href=\"#glyph0-6\" x=\"321.206055\" y=\"224.152344\"/>\n</g>\n<g style=\"fill:rgb(0%,0%,0%);fill-opacity:1;\">\n  <use xlink:href=\"#glyph0-22\" x=\"514.847656\" y=\"152.320312\"/>\n  <use xlink:href=\"#glyph0-17\" x=\"517.625977\" y=\"152.320312\"/>\n  <use xlink:href=\"#glyph0-4\" x=\"523.1875\" y=\"152.320312\"/>\n  <use xlink:href=\"#glyph0-17\" x=\"525.96582\" y=\"152.320312\"/>\n  <use xlink:href=\"#glyph0-15\" x=\"531.527344\" y=\"152.320312\"/>\n  <use xlink:href=\"#glyph0-12\" x=\"534.857422\" y=\"152.320312\"/>\n  <use xlink:href=\"#glyph0-9\" x=\"540.418945\" y=\"152.320312\"/>\n  <use xlink:href=\"#glyph0-3\" x=\"545.980469\" y=\"152.320312\"/>\n  <use xlink:href=\"#glyph0-10\" x=\"551.541992\" y=\"152.320312\"/>\n  <use xlink:href=\"#glyph0-11\" x=\"557.103516\" y=\"152.320312\"/>\n  <use xlink:href=\"#glyph0-12\" x=\"559.325195\" y=\"152.320312\"/>\n  <use xlink:href=\"#glyph0-8\" x=\"564.886719\" y=\"152.320312\"/>\n  <use xlink:href=\"#glyph0-4\" x=\"569.886719\" y=\"152.320312\"/>\n  <use xlink:href=\"#glyph0-7\" x=\"572.665039\" y=\"152.320312\"/>\n  <use xlink:href=\"#glyph0-13\" x=\"574.886719\" y=\"152.320312\"/>\n  <use xlink:href=\"#glyph0-12\" x=\"579.886719\" y=\"152.320312\"/>\n</g>\n<g style=\"fill:rgb(0%,0%,0%);fill-opacity:1;\">\n  <use xlink:href=\"#glyph1-8\" x=\"263.804688\" y=\"378.890625\"/>\n  <use xlink:href=\"#glyph1-12\" x=\"272.146973\" y=\"378.890625\"/>\n  <use xlink:href=\"#glyph1-12\" x=\"276.314453\" y=\"378.890625\"/>\n  <use xlink:href=\"#glyph1-8\" x=\"280.481934\" y=\"378.890625\"/>\n  <use xlink:href=\"#glyph1-11\" x=\"288.824219\" y=\"378.890625\"/>\n  <use xlink:href=\"#glyph1-14\" x=\"296.324219\" y=\"378.890625\"/>\n  <use xlink:href=\"#glyph1-2\" x=\"304.666504\" y=\"378.890625\"/>\n  <use xlink:href=\"#glyph1-6\" x=\"317.161621\" y=\"378.890625\"/>\n  <use xlink:href=\"#glyph1-15\" x=\"325.503906\" y=\"378.890625\"/>\n  <use xlink:href=\"#glyph1-12\" x=\"333.846191\" y=\"378.890625\"/>\n  <use xlink:href=\"#glyph1-7\" x=\"338.013672\" y=\"378.890625\"/>\n  <use xlink:href=\"#glyph1-15\" x=\"346.355957\" y=\"378.890625\"/>\n  <use xlink:href=\"#glyph1-5\" x=\"354.698242\" y=\"378.890625\"/>\n  <use xlink:href=\"#glyph1-16\" x=\"363.040527\" y=\"378.890625\"/>\n  <use xlink:href=\"#glyph1-15\" x=\"371.382812\" y=\"378.890625\"/>\n</g>\n<g style=\"fill:rgb(0%,0%,0%);fill-opacity:1;\">\n  <use xlink:href=\"#glyph0-6\" x=\"228.28125\" y=\"444.9375\"/>\n  <use xlink:href=\"#glyph0-12\" x=\"233.842773\" y=\"444.9375\"/>\n  <use xlink:href=\"#glyph0-13\" x=\"239.404297\" y=\"444.9375\"/>\n  <use xlink:href=\"#glyph0-12\" x=\"244.404297\" y=\"444.9375\"/>\n  <use xlink:href=\"#glyph0-15\" x=\"249.96582\" y=\"444.9375\"/>\n  <use xlink:href=\"#glyph0-9\" x=\"253.295898\" y=\"444.9375\"/>\n  <use xlink:href=\"#glyph0-3\" x=\"258.857422\" y=\"444.9375\"/>\n  <use xlink:href=\"#glyph0-10\" x=\"264.418945\" y=\"444.9375\"/>\n  <use xlink:href=\"#glyph0-13\" x=\"269.980469\" y=\"444.9375\"/>\n  <use xlink:href=\"#glyph0-12\" x=\"274.980469\" y=\"444.9375\"/>\n  <use xlink:href=\"#glyph0-15\" x=\"280.541992\" y=\"444.9375\"/>\n  <use xlink:href=\"#glyph0-21\" x=\"283.87207\" y=\"444.9375\"/>\n</g>\n<g style=\"fill:rgb(0%,0%,0%);fill-opacity:1;\">\n  <use xlink:href=\"#glyph0-7\" x=\"362.96875\" y=\"46.835938\"/>\n  <use xlink:href=\"#glyph0-6\" x=\"365.19043\" y=\"46.835938\"/>\n  <use xlink:href=\"#glyph0-4\" x=\"370.751953\" y=\"46.835938\"/>\n  <use xlink:href=\"#glyph0-7\" x=\"373.530273\" y=\"46.835938\"/>\n  <use xlink:href=\"#glyph0-14\" x=\"375.751953\" y=\"46.835938\"/>\n  <use xlink:href=\"#glyph0-3\" x=\"384.082031\" y=\"46.835938\"/>\n  <use xlink:href=\"#glyph0-4\" x=\"389.643555\" y=\"46.835938\"/>\n  <use xlink:href=\"#glyph0-12\" x=\"392.421875\" y=\"46.835938\"/>\n  <use xlink:href=\"#glyph0-9\" x=\"397.983398\" y=\"46.835938\"/>\n  <use xlink:href=\"#glyph0-3\" x=\"403.544922\" y=\"46.835938\"/>\n  <use xlink:href=\"#glyph0-10\" x=\"409.106445\" y=\"46.835938\"/>\n  <use xlink:href=\"#glyph0-11\" x=\"414.667969\" y=\"46.835938\"/>\n  <use xlink:href=\"#glyph0-12\" x=\"416.889648\" y=\"46.835938\"/>\n  <use xlink:href=\"#glyph0-8\" x=\"422.451172\" y=\"46.835938\"/>\n  <use xlink:href=\"#glyph0-4\" x=\"427.451172\" y=\"46.835938\"/>\n  <use xlink:href=\"#glyph0-7\" x=\"430.229492\" y=\"46.835938\"/>\n  <use xlink:href=\"#glyph0-13\" x=\"432.451172\" y=\"46.835938\"/>\n  <use xlink:href=\"#glyph0-12\" x=\"437.451172\" y=\"46.835938\"/>\n</g>\n<g style=\"fill:rgb(0%,0%,0%);fill-opacity:1;\">\n  <use xlink:href=\"#glyph1-11\" x=\"315.671875\" y=\"144.421875\"/>\n  <use xlink:href=\"#glyph1-5\" x=\"323.171875\" y=\"144.421875\"/>\n  <use xlink:href=\"#glyph1-15\" x=\"331.51416\" y=\"144.421875\"/>\n  <use xlink:href=\"#glyph1-15\" x=\"339.856445\" y=\"144.421875\"/>\n  <use xlink:href=\"#glyph1-6\" x=\"348.19873\" y=\"144.421875\"/>\n  <use xlink:href=\"#glyph1-11\" x=\"356.541016\" y=\"144.421875\"/>\n  <use xlink:href=\"#glyph1-12\" x=\"364.041016\" y=\"144.421875\"/>\n  <use xlink:href=\"#glyph1-1\" x=\"368.208496\" y=\"144.421875\"/>\n  <use xlink:href=\"#glyph1-5\" x=\"371.541016\" y=\"144.421875\"/>\n  <use xlink:href=\"#glyph1-15\" x=\"379.883301\" y=\"144.421875\"/>\n  <use xlink:href=\"#glyph1-7\" x=\"388.225586\" y=\"144.421875\"/>\n  <use xlink:href=\"#glyph1-15\" x=\"396.567871\" y=\"144.421875\"/>\n  <use xlink:href=\"#glyph1-5\" x=\"404.910156\" y=\"144.421875\"/>\n  <use xlink:href=\"#glyph1-16\" x=\"413.252441\" y=\"144.421875\"/>\n  <use xlink:href=\"#glyph1-15\" x=\"421.594727\" y=\"144.421875\"/>\n</g>\n<g style=\"fill:rgb(0%,0%,0%);fill-opacity:1;\">\n  <use xlink:href=\"#glyph0-10\" x=\"411.050781\" y=\"459.238281\"/>\n  <use xlink:href=\"#glyph0-12\" x=\"416.612305\" y=\"459.238281\"/>\n  <use xlink:href=\"#glyph0-13\" x=\"422.173828\" y=\"459.238281\"/>\n  <use xlink:href=\"#glyph0-5\" x=\"427.173828\" y=\"459.238281\"/>\n  <use xlink:href=\"#glyph0-4\" x=\"432.735352\" y=\"459.238281\"/>\n  <use xlink:href=\"#glyph0-12\" x=\"435.513672\" y=\"459.238281\"/>\n  <use xlink:href=\"#glyph0-10\" x=\"441.075195\" y=\"459.238281\"/>\n  <use xlink:href=\"#glyph0-9\" x=\"446.636719\" y=\"459.238281\"/>\n  <use xlink:href=\"#glyph0-3\" x=\"452.198242\" y=\"459.238281\"/>\n  <use xlink:href=\"#glyph0-10\" x=\"457.759766\" y=\"459.238281\"/>\n  <use xlink:href=\"#glyph0-11\" x=\"463.321289\" y=\"459.238281\"/>\n  <use xlink:href=\"#glyph0-12\" x=\"465.542969\" y=\"459.238281\"/>\n  <use xlink:href=\"#glyph0-8\" x=\"471.104492\" y=\"459.238281\"/>\n  <use xlink:href=\"#glyph0-4\" x=\"476.104492\" y=\"459.238281\"/>\n  <use xlink:href=\"#glyph0-7\" x=\"478.882812\" y=\"459.238281\"/>\n  <use xlink:href=\"#glyph0-13\" x=\"481.104492\" y=\"459.238281\"/>\n  <use xlink:href=\"#glyph0-12\" x=\"486.104492\" y=\"459.238281\"/>\n</g>\n<g style=\"fill:rgb(0%,0%,0%);fill-opacity:1;\">\n  <use xlink:href=\"#glyph0-12\" x=\"410.976562\" y=\"381.417969\"/>\n  <use xlink:href=\"#glyph0-13\" x=\"416.538086\" y=\"381.417969\"/>\n  <use xlink:href=\"#glyph0-12\" x=\"421.538086\" y=\"381.417969\"/>\n  <use xlink:href=\"#glyph0-15\" x=\"427.099609\" y=\"381.417969\"/>\n  <use xlink:href=\"#glyph0-9\" x=\"430.429688\" y=\"381.417969\"/>\n  <use xlink:href=\"#glyph0-3\" x=\"435.991211\" y=\"381.417969\"/>\n  <use xlink:href=\"#glyph0-10\" x=\"441.552734\" y=\"381.417969\"/>\n  <use xlink:href=\"#glyph0-13\" x=\"447.114258\" y=\"381.417969\"/>\n  <use xlink:href=\"#glyph0-12\" x=\"452.114258\" y=\"381.417969\"/>\n  <use xlink:href=\"#glyph0-15\" x=\"457.675781\" y=\"381.417969\"/>\n  <use xlink:href=\"#glyph0-21\" x=\"461.005859\" y=\"381.417969\"/>\n</g>\n<g style=\"fill:rgb(0%,0%,0%);fill-opacity:1;\">\n  <use xlink:href=\"#glyph0-10\" x=\"21.914062\" y=\"178.597656\"/>\n  <use xlink:href=\"#glyph0-7\" x=\"27.475586\" y=\"178.597656\"/>\n  <use xlink:href=\"#glyph0-19\" x=\"29.697266\" y=\"178.597656\"/>\n  <use xlink:href=\"#glyph0-3\" x=\"34.697266\" y=\"178.597656\"/>\n  <use xlink:href=\"#glyph0-16\" x=\"40.258789\" y=\"178.597656\"/>\n  <use xlink:href=\"#glyph0-15\" x=\"45.820312\" y=\"178.597656\"/>\n  <use xlink:href=\"#glyph0-12\" x=\"49.150391\" y=\"178.597656\"/>\n  <use xlink:href=\"#glyph0-12\" x=\"54.711914\" y=\"178.597656\"/>\n  <use xlink:href=\"#glyph0-3\" x=\"60.273438\" y=\"178.597656\"/>\n  <use xlink:href=\"#glyph0-21\" x=\"65.834961\" y=\"178.597656\"/>\n  <use xlink:href=\"#glyph0-2\" x=\"71.396484\" y=\"178.597656\"/>\n  <use xlink:href=\"#glyph0-12\" x=\"73.618164\" y=\"178.597656\"/>\n  <use xlink:href=\"#glyph0-9\" x=\"79.179688\" y=\"178.597656\"/>\n  <use xlink:href=\"#glyph0-3\" x=\"84.741211\" y=\"178.597656\"/>\n  <use xlink:href=\"#glyph0-10\" x=\"90.302734\" y=\"178.597656\"/>\n  <use xlink:href=\"#glyph0-11\" x=\"95.864258\" y=\"178.597656\"/>\n  <use xlink:href=\"#glyph0-12\" x=\"98.085938\" y=\"178.597656\"/>\n  <use xlink:href=\"#glyph0-8\" x=\"103.647461\" y=\"178.597656\"/>\n  <use xlink:href=\"#glyph0-4\" x=\"108.647461\" y=\"178.597656\"/>\n  <use xlink:href=\"#glyph0-7\" x=\"111.425781\" y=\"178.597656\"/>\n  <use xlink:href=\"#glyph0-13\" x=\"113.647461\" y=\"178.597656\"/>\n  <use xlink:href=\"#glyph0-12\" x=\"118.647461\" y=\"178.597656\"/>\n</g>\n<g style=\"fill:rgb(0%,0%,0%);fill-opacity:1;\">\n  <use xlink:href=\"#glyph0-3\" x=\"97.117188\" y=\"268.347656\"/>\n  <use xlink:href=\"#glyph0-19\" x=\"102.678711\" y=\"268.347656\"/>\n  <use xlink:href=\"#glyph0-19\" x=\"107.678711\" y=\"268.347656\"/>\n  <use xlink:href=\"#glyph0-5\" x=\"112.678711\" y=\"268.347656\"/>\n  <use xlink:href=\"#glyph0-8\" x=\"118.240234\" y=\"268.347656\"/>\n  <use xlink:href=\"#glyph0-7\" x=\"123.240234\" y=\"268.347656\"/>\n  <use xlink:href=\"#glyph0-3\" x=\"125.461914\" y=\"268.347656\"/>\n  <use xlink:href=\"#glyph0-4\" x=\"131.023438\" y=\"268.347656\"/>\n  <use xlink:href=\"#glyph0-12\" x=\"133.801758\" y=\"268.347656\"/>\n  <use xlink:href=\"#glyph0-9\" x=\"139.363281\" y=\"268.347656\"/>\n  <use xlink:href=\"#glyph0-6\" x=\"144.924805\" y=\"268.347656\"/>\n  <use xlink:href=\"#glyph0-5\" x=\"150.486328\" y=\"268.347656\"/>\n  <use xlink:href=\"#glyph0-17\" x=\"156.047852\" y=\"268.347656\"/>\n  <use xlink:href=\"#glyph0-6\" x=\"161.609375\" y=\"268.347656\"/>\n</g>\n<g style=\"fill:rgb(0%,0%,0%);fill-opacity:1;\">\n  <use xlink:href=\"#glyph0-14\" x=\"328.882812\" y=\"494.65625\"/>\n  <use xlink:href=\"#glyph0-17\" x=\"337.212891\" y=\"494.65625\"/>\n  <use xlink:href=\"#glyph0-4\" x=\"342.774414\" y=\"494.65625\"/>\n  <use xlink:href=\"#glyph0-17\" x=\"345.552734\" y=\"494.65625\"/>\n  <use xlink:href=\"#glyph0-3\" x=\"351.114258\" y=\"494.65625\"/>\n  <use xlink:href=\"#glyph0-2\" x=\"356.675781\" y=\"494.65625\"/>\n  <use xlink:href=\"#glyph0-9\" x=\"358.897461\" y=\"494.65625\"/>\n  <use xlink:href=\"#glyph0-3\" x=\"364.458984\" y=\"494.65625\"/>\n  <use xlink:href=\"#glyph0-10\" x=\"370.020508\" y=\"494.65625\"/>\n  <use xlink:href=\"#glyph0-11\" x=\"375.582031\" y=\"494.65625\"/>\n  <use xlink:href=\"#glyph0-12\" x=\"377.803711\" y=\"494.65625\"/>\n  <use xlink:href=\"#glyph0-8\" x=\"383.365234\" y=\"494.65625\"/>\n  <use xlink:href=\"#glyph0-4\" x=\"388.365234\" y=\"494.65625\"/>\n  <use xlink:href=\"#glyph0-7\" x=\"391.143555\" y=\"494.65625\"/>\n  <use xlink:href=\"#glyph0-13\" x=\"393.365234\" y=\"494.65625\"/>\n  <use xlink:href=\"#glyph0-12\" x=\"398.365234\" y=\"494.65625\"/>\n</g>\n<g style=\"fill:rgb(0%,0%,0%);fill-opacity:1;\">\n  <use xlink:href=\"#glyph0-8\" x=\"161.617188\" y=\"157.894531\"/>\n  <use xlink:href=\"#glyph0-5\" x=\"166.617188\" y=\"157.894531\"/>\n  <use xlink:href=\"#glyph0-15\" x=\"172.178711\" y=\"157.894531\"/>\n  <use xlink:href=\"#glyph0-15\" x=\"175.508789\" y=\"157.894531\"/>\n  <use xlink:href=\"#glyph0-12\" x=\"178.838867\" y=\"157.894531\"/>\n  <use xlink:href=\"#glyph0-8\" x=\"184.400391\" y=\"157.894531\"/>\n  <use xlink:href=\"#glyph0-4\" x=\"189.400391\" y=\"157.894531\"/>\n  <use xlink:href=\"#glyph0-9\" x=\"192.178711\" y=\"157.894531\"/>\n  <use xlink:href=\"#glyph0-13\" x=\"197.740234\" y=\"157.894531\"/>\n  <use xlink:href=\"#glyph0-12\" x=\"202.740234\" y=\"157.894531\"/>\n  <use xlink:href=\"#glyph0-15\" x=\"208.301758\" y=\"157.894531\"/>\n  <use xlink:href=\"#glyph0-21\" x=\"211.631836\" y=\"157.894531\"/>\n</g>\n<g style=\"fill:rgb(0%,0%,0%);fill-opacity:1;\">\n  <use xlink:href=\"#glyph0-3\" x=\"433.265625\" y=\"121.058594\"/>\n  <use xlink:href=\"#glyph0-10\" x=\"438.827148\" y=\"121.058594\"/>\n  <use xlink:href=\"#glyph0-13\" x=\"444.388672\" y=\"121.058594\"/>\n  <use xlink:href=\"#glyph0-3\" x=\"449.388672\" y=\"121.058594\"/>\n  <use xlink:href=\"#glyph0-6\" x=\"454.950195\" y=\"121.058594\"/>\n  <use xlink:href=\"#glyph0-4\" x=\"460.511719\" y=\"121.058594\"/>\n  <use xlink:href=\"#glyph0-3\" x=\"463.290039\" y=\"121.058594\"/>\n  <use xlink:href=\"#glyph0-16\" x=\"468.851562\" y=\"121.058594\"/>\n  <use xlink:href=\"#glyph0-12\" x=\"474.413086\" y=\"121.058594\"/>\n  <use xlink:href=\"#glyph0-5\" x=\"479.974609\" y=\"121.058594\"/>\n  <use xlink:href=\"#glyph0-17\" x=\"485.536133\" y=\"121.058594\"/>\n  <use xlink:href=\"#glyph0-19\" x=\"491.097656\" y=\"121.058594\"/>\n  <use xlink:href=\"#glyph0-9\" x=\"496.097656\" y=\"121.058594\"/>\n  <use xlink:href=\"#glyph0-3\" x=\"501.65918\" y=\"121.058594\"/>\n  <use xlink:href=\"#glyph0-10\" x=\"507.220703\" y=\"121.058594\"/>\n  <use xlink:href=\"#glyph0-11\" x=\"512.782227\" y=\"121.058594\"/>\n  <use xlink:href=\"#glyph0-12\" x=\"515.003906\" y=\"121.058594\"/>\n  <use xlink:href=\"#glyph0-8\" x=\"520.56543\" y=\"121.058594\"/>\n  <use xlink:href=\"#glyph0-4\" x=\"525.56543\" y=\"121.058594\"/>\n  <use xlink:href=\"#glyph0-7\" x=\"528.34375\" y=\"121.058594\"/>\n  <use xlink:href=\"#glyph0-13\" x=\"530.56543\" y=\"121.058594\"/>\n  <use xlink:href=\"#glyph0-12\" x=\"535.56543\" y=\"121.058594\"/>\n</g>\n<g style=\"fill:rgb(0%,0%,0%);fill-opacity:1;\">\n  <use xlink:href=\"#glyph0-10\" x=\"166.046875\" y=\"483.773438\"/>\n  <use xlink:href=\"#glyph0-7\" x=\"171.608398\" y=\"483.773438\"/>\n  <use xlink:href=\"#glyph0-19\" x=\"173.830078\" y=\"483.773438\"/>\n  <use xlink:href=\"#glyph0-7\" x=\"178.830078\" y=\"483.773438\"/>\n  <use xlink:href=\"#glyph0-6\" x=\"181.051758\" y=\"483.773438\"/>\n  <use xlink:href=\"#glyph0-4\" x=\"186.613281\" y=\"483.773438\"/>\n  <use xlink:href=\"#glyph0-12\" x=\"189.391602\" y=\"483.773438\"/>\n  <use xlink:href=\"#glyph0-15\" x=\"194.953125\" y=\"483.773438\"/>\n  <use xlink:href=\"#glyph0-12\" x=\"198.283203\" y=\"483.773438\"/>\n  <use xlink:href=\"#glyph0-19\" x=\"203.844727\" y=\"483.773438\"/>\n  <use xlink:href=\"#glyph0-4\" x=\"208.844727\" y=\"483.773438\"/>\n  <use xlink:href=\"#glyph0-12\" x=\"211.623047\" y=\"483.773438\"/>\n  <use xlink:href=\"#glyph0-10\" x=\"217.18457\" y=\"483.773438\"/>\n  <use xlink:href=\"#glyph0-9\" x=\"222.746094\" y=\"483.773438\"/>\n  <use xlink:href=\"#glyph0-3\" x=\"228.307617\" y=\"483.773438\"/>\n  <use xlink:href=\"#glyph0-10\" x=\"233.869141\" y=\"483.773438\"/>\n  <use xlink:href=\"#glyph0-11\" x=\"239.430664\" y=\"483.773438\"/>\n  <use xlink:href=\"#glyph0-12\" x=\"241.652344\" y=\"483.773438\"/>\n  <use xlink:href=\"#glyph0-8\" x=\"247.213867\" y=\"483.773438\"/>\n  <use xlink:href=\"#glyph0-4\" x=\"252.213867\" y=\"483.773438\"/>\n  <use xlink:href=\"#glyph0-7\" x=\"254.992188\" y=\"483.773438\"/>\n  <use xlink:href=\"#glyph0-13\" x=\"257.213867\" y=\"483.773438\"/>\n  <use xlink:href=\"#glyph0-12\" x=\"262.213867\" y=\"483.773438\"/>\n</g>\n<g style=\"fill:rgb(0%,0%,0%);fill-opacity:1;\">\n  <use xlink:href=\"#glyph0-1\" x=\"426.292969\" y=\"165.375\"/>\n  <use xlink:href=\"#glyph0-15\" x=\"431.854492\" y=\"165.375\"/>\n  <use xlink:href=\"#glyph0-12\" x=\"435.18457\" y=\"165.375\"/>\n  <use xlink:href=\"#glyph0-19\" x=\"440.746094\" y=\"165.375\"/>\n  <use xlink:href=\"#glyph0-12\" x=\"445.746094\" y=\"165.375\"/>\n  <use xlink:href=\"#glyph0-6\" x=\"451.307617\" y=\"165.375\"/>\n  <use xlink:href=\"#glyph0-4\" x=\"456.869141\" y=\"165.375\"/>\n  <use xlink:href=\"#glyph0-9\" x=\"459.647461\" y=\"165.375\"/>\n  <use xlink:href=\"#glyph0-3\" x=\"465.208984\" y=\"165.375\"/>\n  <use xlink:href=\"#glyph0-10\" x=\"470.770508\" y=\"165.375\"/>\n  <use xlink:href=\"#glyph0-11\" x=\"476.332031\" y=\"165.375\"/>\n  <use xlink:href=\"#glyph0-12\" x=\"478.553711\" y=\"165.375\"/>\n  <use xlink:href=\"#glyph0-8\" x=\"484.115234\" y=\"165.375\"/>\n  <use xlink:href=\"#glyph0-4\" x=\"489.115234\" y=\"165.375\"/>\n  <use xlink:href=\"#glyph0-7\" x=\"491.893555\" y=\"165.375\"/>\n  <use xlink:href=\"#glyph0-13\" x=\"494.115234\" y=\"165.375\"/>\n  <use xlink:href=\"#glyph0-12\" x=\"499.115234\" y=\"165.375\"/>\n</g>\n</g>\n</svg>\n",
      "text/plain": [
       "<igraph.drawing.Plot at 0x2994e3cd0>"
      ]
     },
     "execution_count": 23,
     "metadata": {
      "image/svg+xml": {
       "isolated": true
      }
     },
     "output_type": "execute_result"
    }
   ],
   "source": [
    "conn_highlights = {\"connection_noun\", \"attachment_noun\", \"improper_adjective\"}\n",
    "\n",
    "vis_options = {}\n",
    "vis_options[\"vertex_shape\"] = \"hidden\"\n",
    "vis_options[\"vertex_label\"] = assoc_net.vs[\"name\"]\n",
    "vis_options[\"vertex_label_dist\"] = 0\n",
    "vis_options[\"vertex_label_size\"] = [label_func(name, conn_highlights) for name in assoc_net.vs[\"name\"]]\n",
    "vis_options[\"bbox\"] = (0, 0, 600, 500)\n",
    "vis_options[\"margin\"] = [50,5,50,5]\n",
    "vis_options[\"edge_color\"] = \"grey\"\n",
    "vis_options[\"layout\"] = \"kk\"\n",
    "ig.drawing.plot(assoc_net, \"figures/figure_3_4.svg\", **vis_options)\n",
    "ig.drawing.plot(assoc_net, **vis_options)"
   ]
  }
 ],
 "metadata": {
  "kernelspec": {
   "display_name": "Python 3.10.4 ('py10')",
   "language": "python",
   "name": "python3"
  },
  "language_info": {
   "codemirror_mode": {
    "name": "ipython",
    "version": 3
   },
   "file_extension": ".py",
   "mimetype": "text/x-python",
   "name": "python",
   "nbconvert_exporter": "python",
   "pygments_lexer": "ipython3",
   "version": "3.10.4"
  },
  "vscode": {
   "interpreter": {
    "hash": "ee3412e16aad182d6cfcdcaef23d8099104cca6b126210dc66884bdeec7ecf39"
   }
  }
 },
 "nbformat": 4,
 "nbformat_minor": 2
}
