{
 "cells": [
  {
   "cell_type": "markdown",
   "metadata": {},
   "source": [
    "# Chapter 3 – Fiction: Growing Down in the Novels of Maria Edgeworth and Amelia Opie\n",
    "\n",
    "According to most scholars, the *Bildungsroman* is the central genre of Romantic fiction. The *Bildungsroman*, at least in its ‘classical’ or Romantic form, is the novel of successful self-formation. The protagonist of the Bildungsroman goes out in the world, develops their personality, and finally settles down. Scholars have constructed a canon around a core of optimistic novels—*Wilhelm Meister’s Apprenticeship* (1795-96), *Pride and Prejudice* (1813), *Waverley* (1814)—whose protagonists successfully go out into the world and find a place within it. In such *Bildungsromane*, the protagonist is both free and constrained. They pursue their inclinations while fulfilling their duties. They express their individuality while conforming to the social order. They achieve a ‘balance of harmony with freedom’, as Karl Morgenstern put it in a classic essay from 1820.\n",
    "\n",
    "In this Chapter, I consider two novels that contradict the concept of the *Bildungsroman*. In Amelia Opie’s *Adeline Mowbray* (1804) and Maria Edgeworth’s *Vivian* (1812), there is no balance between individuality and the social order, between freedom and harmony, between autonomy and authority. To show that these novels were not mere outliers in the period, I analyse them as part of a corpus of 40 novels from the period, including a mixture of classic *Bildungsromane* such as *Camilla* (1796), *Marriage* (1818) and *The Old Manor House* (1793), American network novels such as *Arthur Mervyn* (1799), *The Coquette* (1797) and *Hobomok* (1824), as well as a number of Gothic, Jacobin, Anti-Jacobin, Historical and National Novels. The [files](data/novel-corpus/) and [metadata](data/novel-corpus/manifest.json) can be found in this repository, with the exception of 5 files, identified in the metadata, which are under copyright.\n",
    "\n",
    "In this Notebook, I generate the tables and figures that can be found in Chapter 3 of *Contingent Selves: Romanticism and the Challenge of Representation*."
   ]
  },
  {
   "cell_type": "code",
   "execution_count": 1,
   "metadata": {},
   "outputs": [],
   "source": [
    "from collections import Counter\n",
    "from itertools import zip_longest, chain\n",
    "\n",
    "from romanticself import NovelCorpus, TargetedBigramAssocFinder\n",
    "from nltk.tokenize import wordpunct_tokenize, word_tokenize\n",
    "from tqdm.notebook import tqdm\n",
    "\n",
    "import pandas as pd\n",
    "import numpy as np"
   ]
  },
  {
   "cell_type": "code",
   "execution_count": 2,
   "metadata": {},
   "outputs": [
    {
     "name": "stdout",
     "output_type": "stream",
     "text": [
      "40 novels imported from data/novel-corpus.\n"
     ]
    }
   ],
   "source": [
    "corpus = NovelCorpus(\"data/novel-corpus\", tokenizer=word_tokenize)"
   ]
  },
  {
   "cell_type": "markdown",
   "metadata": {},
   "source": [
    "## 3.1: Unnecessary Beings"
   ]
  },
  {
   "attachments": {},
   "cell_type": "markdown",
   "metadata": {},
   "source": [
    "### Figure 3.1 Self-control was a central theme in Romantic fiction"
   ]
  },
  {
   "cell_type": "code",
   "execution_count": 3,
   "metadata": {},
   "outputs": [],
   "source": [
    "def count_compound_words(corpus, stem, relative=True):\n",
    "    \"\"\"Count relative frequencies of words beginning with given stem in corpus.\n",
    "    \n",
    "    Arguments:\n",
    "    - corpus (iterable): iterable of tokenised texts\n",
    "    - stem (str): words must begin with this stem to be counted\n",
    "    - relative (bool): divide frequencies by word length of each text?\"\"\"\n",
    "\n",
    "    compound_words = []\n",
    "\n",
    "    for novel in tqdm(corpus, total=len(corpus)):\n",
    "        counts = Counter()\n",
    "        for word in novel:\n",
    "            if word.startswith(stem):\n",
    "                counts[word] += 1\n",
    "\n",
    "        if relative == True:\n",
    "            wc = len(novel)\n",
    "            counts = {word:(count/wc * 1000) for word,count in counts.items()}\n",
    "\n",
    "        compound_words.append(counts)\n",
    "    \n",
    "    data_frame = pd.DataFrame.from_dict(compound_words)\n",
    "    data_frame[\"title\"] = [title[0] for title in corpus.yield_metadata(\"short_title\")]\n",
    "    data_frame.set_index(\"title\", inplace=True)\n",
    "    data_frame.fillna(0, inplace=True)\n",
    "\n",
    "    return data_frame"
   ]
  },
  {
   "cell_type": "code",
   "execution_count": 102,
   "metadata": {},
   "outputs": [
    {
     "data": {
      "application/vnd.jupyter.widget-view+json": {
       "model_id": "8cd5213dcad74ad6b0aaad7c54959000",
       "version_major": 2,
       "version_minor": 0
      },
      "text/plain": [
       "HBox(children=(FloatProgress(value=0.0, max=40.0), HTML(value='')))"
      ]
     },
     "metadata": {},
     "output_type": "display_data"
    },
    {
     "name": "stdout",
     "output_type": "stream",
     "text": [
      "\n"
     ]
    }
   ],
   "source": [
    "self_compounds = count_compound_words(corpus, stem=\"self-\")"
   ]
  },
  {
   "cell_type": "code",
   "execution_count": 5,
   "metadata": {},
   "outputs": [],
   "source": [
    "def compound_words_output(compound_words, topn=20, tocsv=False, novels=list()):\n",
    "    \"\"\"Extracts readable output of compound_words function.\n",
    "    \n",
    "    Arguments:\n",
    "    - compound_words (pd.DataFrame): output of count_compound_words\n",
    "    - topn (int): maximum number of words to show in table\n",
    "    - tocsv (str): csv to save results to. Pass False to avoid\n",
    "    - novels (iterable): titles of the novels to be included in output\"\"\"\n",
    "\n",
    "    results = dict()\n",
    "    \n",
    "    # Results for each novel\n",
    "    for novel in novels:\n",
    "        # Get frequencies for that novel\n",
    "        novel_result = compound_words.loc[novel].sort_values(ascending=False)\n",
    "        # Filter out compounds that don't appear\n",
    "        novel_result = novel_result[novel_result > 0]\n",
    "        # Convert to list and append\n",
    "        results[novel] = list(zip(novel_result.index, novel_result))\n",
    "\n",
    "    # Corpus statistics\n",
    "    corpus_means = compound_words.mean().sort_values(ascending=False)[:topn]\n",
    "    results[\"Corpus\"] = list(zip(corpus_means.index,corpus_means))\n",
    "    \n",
    "    # Save to csv\n",
    "    if tocsv:\n",
    "        with open(tocsv, \"wt\") as file:\n",
    "            first_row = \",values,\".join(results) + \",values\\n\"\n",
    "            file.write(first_row)\n",
    "            for row in zip_longest(*results.values(), fillvalue=\",\"):\n",
    "                row_str = \",\".join(str(val) for val in chain(*row)) + \"\\n\"\n",
    "                file.write(row_str)\n",
    "\n",
    "    return results"
   ]
  },
  {
   "cell_type": "code",
   "execution_count": 60,
   "metadata": {},
   "outputs": [],
   "source": [
    "figure_3_1_data = compound_words_output(compound_words=self_compounds, topn=20, tocsv=\"figures/figure_3_1.csv\", \n",
    "                                        novels=[\"Vivian\", \"Adeline Mowbray\"])"
   ]
  },
  {
   "cell_type": "code",
   "execution_count": 7,
   "metadata": {},
   "outputs": [
    {
     "data": {
      "text/plain": [
       "[('self-love', 0.034636832808008035),\n",
       " ('self-willed', 0.023091221872005355),\n",
       " ('self-reproach', 0.023091221872005355),\n",
       " ('self-esteem', 0.023091221872005355),\n",
       " ('self-possession', 0.023091221872005355),\n",
       " ('self-confidence', 0.011545610936002678),\n",
       " ('self-complacency', 0.011545610936002678),\n",
       " ('self-interest', 0.011545610936002678),\n",
       " ('self-condemned', 0.011545610936002678),\n",
       " ('self-delusion', 0.011545610936002678),\n",
       " ('self-command', 0.011545610936002678)]"
      ]
     },
     "execution_count": 7,
     "metadata": {},
     "output_type": "execute_result"
    }
   ],
   "source": [
    "figure_3_1_data[\"Vivian\"]"
   ]
  },
  {
   "cell_type": "code",
   "execution_count": 8,
   "metadata": {},
   "outputs": [
    {
     "data": {
      "text/plain": [
       "[('self-love', 0.11361484567316796),\n",
       " ('self-command', 0.07574323044877863),\n",
       " ('self-denial', 0.04733951903048665),\n",
       " ('self-condemned', 0.02840371141829199),\n",
       " ('self-reproach', 0.02840371141829199),\n",
       " ('self-upbraidings', 0.02840371141829199),\n",
       " ('self-reproaches', 0.02840371141829199),\n",
       " ('self-congratulations', 0.01893580761219466),\n",
       " ('self-condemnation', 0.01893580761219466),\n",
       " ('self-possession', 0.00946790380609733),\n",
       " ('self-denials', 0.00946790380609733),\n",
       " ('self-conceit', 0.00946790380609733),\n",
       " ('self-upbraiding', 0.00946790380609733),\n",
       " ('self-abasement', 0.00946790380609733)]"
      ]
     },
     "execution_count": 8,
     "metadata": {},
     "output_type": "execute_result"
    }
   ],
   "source": [
    "figure_3_1_data[\"Adeline Mowbray\"]"
   ]
  },
  {
   "cell_type": "code",
   "execution_count": 9,
   "metadata": {},
   "outputs": [
    {
     "data": {
      "text/plain": [
       "[('self-love', 0.010329789412902843),\n",
       " ('self-command', 0.009571516255879124),\n",
       " ('self-denial', 0.009155094997213653),\n",
       " ('self-reproach', 0.007150806279352373),\n",
       " ('self-possession', 0.0060560685199104),\n",
       " ('self-complacency', 0.0025994641109693),\n",
       " ('self-will', 0.0025958789056707),\n",
       " ('self-willed', 0.0025867935941388956),\n",
       " ('self-approbation', 0.0025493430118947785),\n",
       " ('self-denying', 0.0025321934468357766),\n",
       " ('self-respect', 0.0024264348571764946),\n",
       " ('self-interest', 0.0024257873477357673),\n",
       " ('self-conceit', 0.002210696894631833),\n",
       " ('self-condemnation', 0.0021953124027325314),\n",
       " ('self-preservation', 0.0019320455573985592),\n",
       " ('self-reproaches', 0.0018302123893270989),\n",
       " ('self-importance', 0.001824905094586321),\n",
       " ('self-satisfied', 0.0017983250699762422),\n",
       " ('self-examination', 0.0017818770037734074),\n",
       " ('self-satisfaction', 0.0015203004908251408)]"
      ]
     },
     "execution_count": 9,
     "metadata": {},
     "output_type": "execute_result"
    }
   ],
   "source": [
    "figure_3_1_data[\"Corpus\"]"
   ]
  },
  {
   "cell_type": "code",
   "execution_count": 61,
   "metadata": {},
   "outputs": [
    {
     "data": {
      "text/plain": [
       "self-denial          18\n",
       "self-reproach        15\n",
       "self-love            15\n",
       "self-command         15\n",
       "self-approbation     11\n",
       "self-possession      11\n",
       "self-interest        10\n",
       "self-delusion         8\n",
       "self-willed           8\n",
       "self-satisfied        8\n",
       "self-denying          8\n",
       "self-complacency      8\n",
       "self-conceit          7\n",
       "self-preservation     7\n",
       "self-defence          7\n",
       "self-importance       7\n",
       "self-condemnation     7\n",
       "self-satisfaction     7\n",
       "self-reproaches       6\n",
       "self-examination      6\n",
       "dtype: int64"
      ]
     },
     "execution_count": 61,
     "metadata": {},
     "output_type": "execute_result"
    }
   ],
   "source": [
    "# How many novels use the term 'self-denial'?\n",
    "self_compounds.astype(bool).sum(axis=0).sort_values(ascending=False)[:20]"
   ]
  },
  {
   "cell_type": "markdown",
   "metadata": {},
   "source": [
    "### Figure 3.2 *Vivian* and *Adeline Mowbray* are particularly focussed on the self"
   ]
  },
  {
   "cell_type": "code",
   "execution_count": 62,
   "metadata": {},
   "outputs": [
    {
     "data": {
      "text/plain": [
       "title\n",
       "Self-Control                                                 0.496172\n",
       "Adeline Mowbray                                              0.435524\n",
       "Camilla                                                      0.268019\n",
       "Walsingham                                                   0.216167\n",
       "Marriage                                                     0.211327\n",
       "The Cottagers of Glenburnie                                  0.204400\n",
       "Vivian                                                       0.196275\n",
       "The Last of the Mohicans                                     0.188307\n",
       "Memoirs of Emma Courtney                                     0.184533\n",
       "Anna St. Ives                                                0.169346\n",
       "Zofloya                                                      0.162507\n",
       "Caleb Williams                                               0.157361\n",
       "Persuasion                                                   0.156019\n",
       "Maria                                                        0.155649\n",
       "The Recess                                                   0.147257\n",
       "Frankenstein                                                 0.137365\n",
       "Henry                                                        0.134626\n",
       "The Private Memoirs and Confessions of a Justified Sinner    0.130781\n",
       "The Wild Irish Girl                                          0.125464\n",
       "Julia                                                        0.121761\n",
       "A Simple Story                                               0.112489\n",
       "Emma                                                         0.107032\n",
       "Glenarvon                                                    0.100284\n",
       "Melmoth the Wanderer                                         0.090185\n",
       "Ivanhoe                                                      0.088300\n",
       "Waverley                                                     0.076605\n",
       "The Mysteries of Udolpho                                     0.075283\n",
       "Arthur Mervyn                                                0.073564\n",
       "Hobomok                                                      0.072486\n",
       "The Coquette                                                 0.067632\n",
       "Evelina                                                      0.064470\n",
       "Belinda                                                      0.043946\n",
       "The Monk                                                     0.043441\n",
       "The Old Manor House                                          0.031325\n",
       "The Heroine                                                  0.029165\n",
       "The Banished Man                                             0.023031\n",
       "The Asylum                                                   0.020798\n",
       "Hermsprong                                                   0.019147\n",
       "Annals of the Parish                                         0.015204\n",
       "Charlotte Temple                                             0.000000\n",
       "dtype: float64"
      ]
     },
     "execution_count": 62,
     "metadata": {},
     "output_type": "execute_result"
    }
   ],
   "source": [
    "per_novel_totals = self_compounds.sum(axis=1).sort_values(ascending=False)\n",
    "# Export csv for Figure 3.2\n",
    "per_novel_totals.to_csv(\"figures/figure_3_2.csv\")\n",
    "# And print the data to the screen\n",
    "per_novel_totals"
   ]
  },
  {
   "cell_type": "code",
   "execution_count": 29,
   "metadata": {},
   "outputs": [
    {
     "data": {
      "text/plain": [
       "0.12883125426688008"
      ]
     },
     "execution_count": 29,
     "metadata": {},
     "output_type": "execute_result"
    }
   ],
   "source": [
    "# What is the average use of 'self-' compounds across the corpus?\n",
    "per_novel_totals.mean()"
   ]
  },
  {
   "cell_type": "code",
   "execution_count": 108,
   "metadata": {},
   "outputs": [
    {
     "name": "stdout",
     "output_type": "stream",
     "text": [
      "Network novels' usage of compounds with 'self': 0.047\n",
      "Other novels' usage of compounds with 'self': 0.141\n"
     ]
    }
   ],
   "source": [
    "# Do network novels use 'self-' compounds much?\n",
    "network = [net[0] for net in corpus.yield_metadata(\"network\")]\n",
    "\n",
    "network_mean = self_compounds.sum(axis=1)[network].mean()\n",
    "non_network_mean = self_compounds.sum(axis=1)[[not val for val in network]].mean()\n",
    "\n",
    "print(f\"Network novels' usage of compounds with 'self': {network_mean:.3f}\")\n",
    "print(f\"Other novels' usage of compounds with 'self': {non_network_mean:.3f}\")"
   ]
  },
  {
   "cell_type": "code",
   "execution_count": 107,
   "metadata": {},
   "outputs": [
    {
     "data": {
      "text/plain": [
       "0.04689590957552851"
      ]
     },
     "execution_count": 107,
     "metadata": {},
     "output_type": "execute_result"
    }
   ],
   "source": [
    "network_mean"
   ]
  }
 ],
 "metadata": {
  "kernelspec": {
   "display_name": "Python 3",
   "language": "python",
   "name": "python3"
  },
  "language_info": {
   "codemirror_mode": {
    "name": "ipython",
    "version": 3
   },
   "file_extension": ".py",
   "mimetype": "text/x-python",
   "name": "python",
   "nbconvert_exporter": "python",
   "pygments_lexer": "ipython3",
   "version": "3.8.3"
  }
 },
 "nbformat": 4,
 "nbformat_minor": 2
}
