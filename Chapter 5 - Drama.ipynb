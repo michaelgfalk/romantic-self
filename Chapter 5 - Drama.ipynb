{
 "cells": [
  {
   "attachments": {},
   "cell_type": "markdown",
   "metadata": {},
   "source": [
    "# Chapter 5: The Inner Sea in the Tragedies of Harpur and Baillie\n",
    "\n",
    "Charles Harpur and Joanna Baillie were two of the preeminent tragideans of the Romantic period. Baillie achieved enormous fame in her lifetime, and considerable success on the stage. Harpur achieved considerable fame in New South Wales, where he was born and worked, and has posthumously been acclaimed by nationalist critics as the founder of Australia's dramatic tradition. In their theory and practice, these two dramatists pursued different tracks. While both were interested in forms of subjective drama, which portrayed the destruction or breakdown of the human psyche, Baillie's drama was a drama of interiority and psychology, while Harpur's drama was a drama of outward action and sociality. This notebook helps to draw this contrast between Baillie and Harpur, by using network analysis and text analysis to reveal the different structures of their plays.\n",
    "\n",
    "The analysis in the notebook corresponds to Section 5.2 of *Romanticism and the Contingent Self.*"
   ]
  },
  {
   "cell_type": "code",
   "execution_count": 1,
   "metadata": {},
   "outputs": [
    {
     "name": "stderr",
     "output_type": "stream",
     "text": [
      "/opt/homebrew/Caskroom/miniforge/base/envs/py11/lib/python3.11/site-packages/sklearn/feature_extraction/text.py:528: UserWarning: The parameter 'token_pattern' will not be used since 'tokenizer' is not None'\n",
      "  warnings.warn(\n"
     ]
    }
   ],
   "source": [
    "import math\n",
    "from romanticself import import_network_data, view_characters, view_community_keywords\n",
    "import pandas as pd\n",
    "import numpy as np\n",
    "\n",
    "corpus = import_network_data(\"data/drama-networks/\", use_cache=False)"
   ]
  },
  {
   "cell_type": "code",
   "execution_count": 2,
   "metadata": {},
   "outputs": [
    {
     "name": "stdout",
     "output_type": "stream",
     "text": [
      "Showing community for top 10 characters in The Bushrangers by word count\n",
      "\n",
      "Stalwart                 : 2\n",
      "Ada                      : 3\n",
      "Bomebard                 : 1\n",
      "Tunbelly                 : 0\n",
      "Abel                     : 3\n",
      "Macblood                 : 2\n",
      "Dreadnought              : 1\n",
      "Lucy Grey                : 3\n",
      "Rackroad                 : 2\n",
      "Filch                    : 2\n"
     ]
    }
   ],
   "source": [
    "view_characters(corpus, \"harpur\", \"community\", n=10)"
   ]
  },
  {
   "cell_type": "code",
   "execution_count": 3,
   "metadata": {},
   "outputs": [
    {
     "name": "stdout",
     "output_type": "stream",
     "text": [
      "Showing most distinctive words by community in The Bushrangers\n",
      "\n",
      "0        : you, respect, ned, the, and, of, a, to, have, i, your, sir, is, but, in, bomebard, worship...\n",
      "1        : the, neighbour, you, bomebard, i, says, and, a, o, to, worships, ned, but, my, me, does, s...\n",
      "2        : ranger, free, welcome, forest, died, strife, the, lived, and, a, you, thee, to, we, me, tr...\n",
      "3        : ada, you, the, abel, lucy, and, i, of, but, to, she, a, her, me, through, in, sun, not, th...\n",
      "4        : hoo, he, farmer, needn, didn, t, stalwart, swear, shot, doesn, after, worship, crabtree, s...\n",
      "5        : guns, a, i, the, and, of, to, fie, gun, walking-stick, further, invented, lot, a-running, ...\n"
     ]
    }
   ],
   "source": [
    "view_community_keywords(corpus, \"harpur\")"
   ]
  },
  {
   "attachments": {},
   "cell_type": "markdown",
   "metadata": {},
   "source": [
    "## Comparing the overall structures of the plays"
   ]
  },
  {
   "cell_type": "code",
   "execution_count": 9,
   "metadata": {},
   "outputs": [
    {
     "data": {
      "text/html": [
       "<div>\n",
       "<style scoped>\n",
       "    .dataframe tbody tr th:only-of-type {\n",
       "        vertical-align: middle;\n",
       "    }\n",
       "\n",
       "    .dataframe tbody tr th {\n",
       "        vertical-align: top;\n",
       "    }\n",
       "\n",
       "    .dataframe thead th {\n",
       "        text-align: right;\n",
       "    }\n",
       "</style>\n",
       "<table border=\"1\" class=\"dataframe\">\n",
       "  <thead>\n",
       "    <tr style=\"text-align: right;\">\n",
       "      <th></th>\n",
       "      <th>Play</th>\n",
       "      <th>Nodes</th>\n",
       "      <th>Density</th>\n",
       "      <th>Clustering Coefficient</th>\n",
       "      <th>Classes</th>\n",
       "      <th>Modularity</th>\n",
       "    </tr>\n",
       "  </thead>\n",
       "  <tbody>\n",
       "    <tr>\n",
       "      <th>0</th>\n",
       "      <td>The Dream (1812)</td>\n",
       "      <td>20</td>\n",
       "      <td>0.313158</td>\n",
       "      <td>0.686881</td>\n",
       "      <td>5</td>\n",
       "      <td>0.234918</td>\n",
       "    </tr>\n",
       "    <tr>\n",
       "      <th>1</th>\n",
       "      <td>The Bushrangers (1853)</td>\n",
       "      <td>27</td>\n",
       "      <td>0.188034</td>\n",
       "      <td>0.715722</td>\n",
       "      <td>5</td>\n",
       "      <td>0.465330</td>\n",
       "    </tr>\n",
       "    <tr>\n",
       "      <th>2</th>\n",
       "      <td>Vespers of Palermo (1823)</td>\n",
       "      <td>18</td>\n",
       "      <td>0.307190</td>\n",
       "      <td>0.477329</td>\n",
       "      <td>1</td>\n",
       "      <td>0.022368</td>\n",
       "    </tr>\n",
       "    <tr>\n",
       "      <th>3</th>\n",
       "      <td>Iphigénie (1674)</td>\n",
       "      <td>11</td>\n",
       "      <td>0.427273</td>\n",
       "      <td>0.602814</td>\n",
       "      <td>3</td>\n",
       "      <td>0.235613</td>\n",
       "    </tr>\n",
       "    <tr>\n",
       "      <th>4</th>\n",
       "      <td>Orra (1812)</td>\n",
       "      <td>17</td>\n",
       "      <td>0.522059</td>\n",
       "      <td>0.664772</td>\n",
       "      <td>1</td>\n",
       "      <td>0.197010</td>\n",
       "    </tr>\n",
       "    <tr>\n",
       "      <th>5</th>\n",
       "      <td>Macbeth (1606)</td>\n",
       "      <td>42</td>\n",
       "      <td>0.109756</td>\n",
       "      <td>0.485837</td>\n",
       "      <td>7</td>\n",
       "      <td>0.431431</td>\n",
       "    </tr>\n",
       "    <tr>\n",
       "      <th>6</th>\n",
       "      <td>Remorse (1813)</td>\n",
       "      <td>15</td>\n",
       "      <td>0.257143</td>\n",
       "      <td>0.461270</td>\n",
       "      <td>7</td>\n",
       "      <td>0.372760</td>\n",
       "    </tr>\n",
       "  </tbody>\n",
       "</table>\n",
       "</div>"
      ],
      "text/plain": [
       "                        Play  Nodes   Density  Clustering Coefficient  \\\n",
       "0           The Dream (1812)     20  0.313158                0.686881   \n",
       "1     The Bushrangers (1853)     27  0.188034                0.715722   \n",
       "2  Vespers of Palermo (1823)     18  0.307190                0.477329   \n",
       "3           Iphigénie (1674)     11  0.427273                0.602814   \n",
       "4                Orra (1812)     17  0.522059                0.664772   \n",
       "5             Macbeth (1606)     42  0.109756                0.485837   \n",
       "6             Remorse (1813)     15  0.257143                0.461270   \n",
       "\n",
       "   Classes  Modularity  \n",
       "0        5    0.234918  \n",
       "1        5    0.465330  \n",
       "2        1    0.022368  \n",
       "3        3    0.235613  \n",
       "4        1    0.197010  \n",
       "5        7    0.431431  \n",
       "6        7    0.372760  "
      ]
     },
     "metadata": {},
     "output_type": "display_data"
    }
   ],
   "source": [
    "structure = pd.DataFrame(data= {\n",
    "   \"Play\": [f\"{graph['title']} ({graph['date']})\" for graph in corpus.values()],\n",
    "   \"Nodes\": [len(graph.vs) for graph in corpus.values()],\n",
    "   \"Density\": [graph.density() for graph in corpus.values()],\n",
    "   \"Clustering Coefficient\": [graph.transitivity_avglocal_undirected(mode=\"zero\") for graph in corpus.values()],\n",
    "   \"Classes\": [max(graph.vs[\"community\"]) for graph in corpus.values()],\n",
    "   \"Modularity\": [graph.modularity(graph.vs[\"community\"], weights=\"weight\") for graph in corpus.values()]\n",
    "})\n",
    "display(structure)"
   ]
  }
 ],
 "metadata": {
  "kernelspec": {
   "display_name": "py11",
   "language": "python",
   "name": "python3"
  },
  "language_info": {
   "codemirror_mode": {
    "name": "ipython",
    "version": 3
   },
   "file_extension": ".py",
   "mimetype": "text/x-python",
   "name": "python",
   "nbconvert_exporter": "python",
   "pygments_lexer": "ipython3",
   "version": "3.11.0"
  },
  "orig_nbformat": 4,
  "vscode": {
   "interpreter": {
    "hash": "0caa4f7b6b2b906e89b4ecebb94ab38d9f21042c3defe0c036e018e134340a4e"
   }
  }
 },
 "nbformat": 4,
 "nbformat_minor": 2
}
