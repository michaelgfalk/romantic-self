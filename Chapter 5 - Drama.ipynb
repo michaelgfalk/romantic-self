{
 "cells": [
  {
   "attachments": {},
   "cell_type": "markdown",
   "metadata": {},
   "source": [
    "# Chapter 5: The Inner Sea in the Tragedies of Harpur and Baillie\n",
    "\n",
    "Charles Harpur and Joanna Baillie were two of the preeminent tragideans of the Romantic period. Baillie achieved enormous fame in her lifetime, and considerable success on the stage. Harpur achieved considerable fame in New South Wales, where he was born and worked, and has posthumously been acclaimed by nationalist critics as the founder of Australia's dramatic tradition. In their theory and practice, these two dramatists pursued different tracks. While both were interested in forms of subjective drama, which portrayed the destruction or breakdown of the human psyche, Baillie's drama was a drama of interiority and psychology, while Harpur's drama was a drama of outward action and sociality. This notebook helps to draw this contrast between Baillie and Harpur, by using network analysis and text analysis to reveal the different structures of their plays.\n",
    "\n",
    "The analysis in the notebook corresponds to Section 5.2 of *Romanticism and the Contingent Self.*"
   ]
  },
  {
   "cell_type": "code",
   "execution_count": 1,
   "metadata": {},
   "outputs": [],
   "source": [
    "from romanticself import import_network_data, get_character_keywords \n",
    "corpus = import_network_data(\"data/drama-networks/\", use_cache=False)"
   ]
  },
  {
   "cell_type": "code",
   "execution_count": 2,
   "metadata": {},
   "outputs": [
    {
     "name": "stderr",
     "output_type": "stream",
     "text": [
      "/opt/homebrew/Caskroom/miniforge/base/envs/py11/lib/python3.11/site-packages/sklearn/feature_extraction/text.py:528: UserWarning: The parameter 'token_pattern' will not be used since 'tokenizer' is not None'\n",
      "  warnings.warn(\n"
     ]
    }
   ],
   "source": [
    "stalwart = corpus[\"harpur\"].vs.find(name=\"Stalwart\")\n",
    "len(stalwart[\"tokens\"])\n"
   ]
  },
  {
   "cell_type": "code",
   "execution_count": 10,
   "metadata": {},
   "outputs": [
    {
     "data": {
      "text/plain": [
       "array(['125', '50', '75', ..., 'zagri', 'zeal', 'zulimez'], dtype=object)"
      ]
     },
     "execution_count": 10,
     "metadata": {},
     "output_type": "execute_result"
    }
   ],
   "source": []
  }
 ],
 "metadata": {
  "kernelspec": {
   "display_name": "py11",
   "language": "python",
   "name": "python3"
  },
  "language_info": {
   "codemirror_mode": {
    "name": "ipython",
    "version": 3
   },
   "file_extension": ".py",
   "mimetype": "text/x-python",
   "name": "python",
   "nbconvert_exporter": "python",
   "pygments_lexer": "ipython3",
   "version": "3.11.0"
  },
  "orig_nbformat": 4,
  "vscode": {
   "interpreter": {
    "hash": "0caa4f7b6b2b906e89b4ecebb94ab38d9f21042c3defe0c036e018e134340a4e"
   }
  }
 },
 "nbformat": 4,
 "nbformat_minor": 2
}
